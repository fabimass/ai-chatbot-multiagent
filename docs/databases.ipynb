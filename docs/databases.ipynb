{
 "cells": [
  {
   "cell_type": "markdown",
   "metadata": {},
   "source": [
    "# Research on Vector Databases\n",
    "\n",
    "Vector search is a cutting-edge approach to searching and retrieving data that leverages the power of vector similarity calculations. Unlike traditional keyword-based search, which matches documents based on the occurrence of specific terms, vector search focuses on the semantic meaning and similarity of data points. By representing data as vectors in a high-dimensional space, vector search enables more accurate and intuitive search results."
   ]
  },
  {
   "cell_type": "code",
   "execution_count": null,
   "metadata": {},
   "outputs": [],
   "source": [
    "pip install python-dotenv==1.0.1 langchain==0.2.11 langchain-community==0.2.10 scikit-learn==1.5.0"
   ]
  },
  {
   "cell_type": "code",
   "execution_count": 1,
   "metadata": {},
   "outputs": [],
   "source": [
    "import os\n",
    "from dotenv import load_dotenv"
   ]
  },
  {
   "cell_type": "code",
   "execution_count": 2,
   "metadata": {},
   "outputs": [
    {
     "data": {
      "text/plain": [
       "True"
      ]
     },
     "execution_count": 2,
     "metadata": {},
     "output_type": "execute_result"
    }
   ],
   "source": [
    "load_dotenv()"
   ]
  },
  {
   "cell_type": "markdown",
   "metadata": {},
   "source": [
    "## Data loader"
   ]
  },
  {
   "cell_type": "markdown",
   "metadata": {},
   "source": [
    "First, we need to load a document. Let's try with a pdf and a markdown file.\n",
    "\n",
    "Then, we will split it into smaller chunks of text. This serves several important purposes:\n",
    "- Granularity: By splitting a document into smaller chunks, you can retrieve more specific and relevant pieces of information. If you work with large documents as single chunks, retrieval can become inefficient and less precise.\n",
    "- Search Performance: Smaller chunks improve the performance of search algorithms. It's easier to match a query against smaller, more focused pieces of text rather than a large document.\n",
    "- Computational efficiency: Working with entire documents as single units can be memory-expensive and slow. Splitting documents into chunks allows for more efficient use of memory and computational resources.\n",
    "\n",
    "Practical example: Imagine we have a large document, such as a product manual or a scientific paper. If a user asks a question like \"How do I reset the device?\" or \"What is the conclusion of the study?\", splitting the document into smaller chunks allows the chatbot to:\n",
    "- Efficiently locate and retrieve the most relevant section about device resetting instructions or the conclusion of the study.\n",
    "- Avoid returning irrelevant parts of the document, which might confuse the user.\n",
    "- Provide a faster response by only processing a small portion of the document."
   ]
  },
  {
   "cell_type": "code",
   "execution_count": null,
   "metadata": {},
   "outputs": [],
   "source": [
    "pip install pypdf==4.2.0 unstructured==0.14.7 markdown==3.6"
   ]
  },
  {
   "cell_type": "code",
   "execution_count": 3,
   "metadata": {},
   "outputs": [],
   "source": [
    "from langchain_text_splitters import RecursiveCharacterTextSplitter\n",
    "\n",
    "# Define how the text should be split:\n",
    "#  - Each chunk should be up to 512 characters long.\n",
    "#  - There should be an overlap of 64 characters between consecutive chunks. \n",
    "#  - This overlap helps maintain context across the chunks.\n",
    "splitter = RecursiveCharacterTextSplitter(chunk_size=512, chunk_overlap=64)"
   ]
  },
  {
   "cell_type": "code",
   "execution_count": 16,
   "metadata": {},
   "outputs": [
    {
     "name": "stdout",
     "output_type": "stream",
     "text": [
      "Number of chunks: 311\n",
      "page_content='GENERATIVE AI: HYPE,  OR \n",
      "TRUL\n",
      "Y TRANSFORMATIVE?ISSUE 120 | July 5, 2023 | 12:28 PM EDT”\u0001\u0001\u0001\u0001\u0001P\u0001\u0001\u0001\u0001\u0001\u0001\u0001\u0001\u0001 \u0001\u0001 \u0001 \u0001Global Macro  \n",
      "Research\n",
      "Investors should consider this report as only a single factor in making their investment decision. For \n",
      "Reg AC certiﬁcation and other important disclosures, see the Disclosure Appendix, or go to www.gs.com/research/hedge.html.\n",
      "The Goldman Sachs Group, Inc.Since the release of OpenAI’s generative AI tool ChatGPT in November, investor' metadata={'source': '../knowledge-base/folder_1/file_1.pdf', 'page': 0}\n",
      "page_content='interest in generative AI technology has surged. The disruptive potential of  this technology, and whether the hype around it—and market pricing—has gone too far, is Top of Mind. We speak with Conviction’s Sarah Guo, NYU’s Gary Marcus, and GS GIR’s US software and internet analysts Kash Rangan and Eric Sheridan about what the technology can—and can’t—do at this stage. GS economists then assess the technology’s potentially large impact on productivity and growth, which our equity strategists estimate could' metadata={'source': '../knowledge-base/folder_1/file_1.pdf', 'page': 0}\n",
      "page_content='and growth, which our equity strategists estimate could translate into signiﬁcant upside for US equities over the medium-to-longer term, though our strategists also warn that past productivity' metadata={'source': '../knowledge-base/folder_1/file_1.pdf', 'page': 0}\n",
      "page_content='booms have resulted in equity bubbles that ultimately burst. We also discuss where the most compelling investment opportunities in the AI space may lie today, and the near-term risks investors should most watch out for.        \n",
      "““ INTERVIEWS WITH:  \n",
      "Sarah Guo, Founder, Conviction, former General Partner, Greylock \n",
      "Gary Marcus, Professor Emeritus of Psychology and Neural Science, \n",
      "New York University \n",
      "Kash Rangan, US Software Equity Research Analyst, Goldman Sachs;' metadata={'source': '../knowledge-base/folder_1/file_1.pdf', 'page': 0}\n",
      "page_content='Eric Sheridan, US Internet Equity Research Analyst, Goldman Sachs  \n",
      "AI’S POTENTIALLY LARGE ECONOMIC IMPACTS \n",
      "Joseph Briggs, GS Global Economics Research \n",
      "US EQUITIES: GAUGING THE AI UPSIDE \n",
      "Ryan Hammond and David Kostin, GS US Portfolio Strategy Research \n",
      "MARKETS AROUND PAST PRODUCTIVITY BOOMS \n",
      "Dominic Wilson and Vickie Chang, GS Markets Research \n",
      "WHAT WE’RE HEARING FROM PUBLIC INVESTORS \n",
      "Peter Callahan, GS Global Banking & Markets WHAT’S INSIDEof\n",
      "Allison Nathan | allison.nathan@gs.com       ...AND MORE' metadata={'source': '../knowledge-base/folder_1/file_1.pdf', 'page': 0}\n"
     ]
    }
   ],
   "source": [
    "# PDF\n",
    "\n",
    "from langchain_community.document_loaders import PyPDFLoader\n",
    "\n",
    "pdf_loader = PyPDFLoader(\"../knowledge-base/folder_1/file_1.pdf\")\n",
    "\n",
    "# Load pdf and split into chunks.\n",
    "pdf_chunks = pdf_loader.load_and_split(text_splitter=splitter)\n",
    "\n",
    "# Get the number of chunks\n",
    "print(f\"Number of chunks: {len(pdf_chunks)}\")\n",
    "\n",
    "# Print the first 5 chunks\n",
    "for chunk in pdf_chunks[:5]:\n",
    "    print(chunk)"
   ]
  },
  {
   "cell_type": "code",
   "execution_count": 4,
   "metadata": {},
   "outputs": [
    {
     "name": "stdout",
     "output_type": "stream",
     "text": [
      "Number of chunks: 7\n",
      "page_content='The Football World Cup\n",
      "\n",
      "The FIFA World Cup, often simply referred to as the World Cup, is the premier international football competition. Organized by the Fédération Internationale de Football Association (FIFA), it features national teams from around the globe competing for the most coveted trophy in the sport. The tournament is held every four years and is one of the most widely viewed and followed sporting events in the world.\n",
      "\n",
      "History' metadata={'source': '../knowledge-base/folder_1/file_2.md'}\n",
      "page_content='History\n",
      "\n",
      "The first World Cup was held in 1930 in Uruguay, with the host nation emerging as the champions. Since then, the tournament has grown significantly in size and popularity. Originally featuring just 13 teams, the World Cup now includes 32 teams in the final tournament, with plans to expand to 48 teams in the near future.\n",
      "\n",
      "Format\n",
      "\n",
      "The World Cup is divided into two main stages:' metadata={'source': '../knowledge-base/folder_1/file_2.md'}\n",
      "page_content='Format\n",
      "\n",
      "The World Cup is divided into two main stages:\n",
      "\n",
      "Qualification: This stage occurs over the three years preceding the tournament, with national teams competing within their respective confederations (e.g., UEFA, CONMEBOL, AFC) to secure a spot in the finals.\n",
      "\n",
      "Final Tournament: Held over approximately one month, the final tournament features:' metadata={'source': '../knowledge-base/folder_1/file_2.md'}\n",
      "page_content='Group Stage: Teams are divided into eight groups of four. Each team plays three matches in a round-robin format. The top two teams from each group advance to the knockout stage.\n",
      "\n",
      "Knockout Stage: A single-elimination format, starting with the Round of 16 and culminating in the final match. This stage includes the Round of 16, Quarter-Finals, Semi-Finals, and the Final.\n",
      "\n",
      "Notable Moments\n",
      "\n",
      "The World Cup has produced countless memorable moments, including:' metadata={'source': '../knowledge-base/folder_1/file_2.md'}\n",
      "page_content='Maracanazo (1950): Uruguay's shocking victory over Brazil in the final match at the Maracanã Stadium.\n",
      "\n",
      "Hand of God (1986): Diego Maradona's controversial goal against England in the quarter-finals.\n",
      "\n",
      "Germany 7, Brazil 1 (2014): Germany's stunning semi-final victory over host Brazil.\n",
      "\n",
      "Records and Statistics\n",
      "\n",
      "Most Titles: Brazil holds the record with five World Cup victories.\n",
      "\n",
      "Top Scorer: Miroslav Klose of Germany is the top scorer in World Cup history with 16 goals.' metadata={'source': '../knowledge-base/folder_1/file_2.md'}\n"
     ]
    }
   ],
   "source": [
    "# Markdown\n",
    "\n",
    "from langchain_community.document_loaders import UnstructuredMarkdownLoader\n",
    "\n",
    "md_loader = UnstructuredMarkdownLoader(\"../knowledge-base/folder_1/file_2.md\")\n",
    "\n",
    "# Load pdf and split into chunks.\n",
    "md_chunks = md_loader.load_and_split(text_splitter=splitter)\n",
    "\n",
    "# Get the number of chunks\n",
    "print(f\"Number of chunks: {len(md_chunks)}\")\n",
    "\n",
    "# Print the first 5 chunks\n",
    "for chunk in md_chunks[:5]:\n",
    "    print(chunk)"
   ]
  },
  {
   "cell_type": "markdown",
   "metadata": {},
   "source": [
    "## Vector store"
   ]
  },
  {
   "cell_type": "markdown",
   "metadata": {},
   "source": [
    "One of the most common ways to store and search over unstructured data is to embed it and store the resulting embedding vectors, and then at query time to embed the unstructured query and retrieve the embedding vectors that are 'most similar' to the embedded query. A vector store takes care of storing embedded data and performing vector search for you."
   ]
  },
  {
   "cell_type": "code",
   "execution_count": 13,
   "metadata": {},
   "outputs": [],
   "source": [
    "# Write data into the vector store\n",
    "def insert_data(docs, vstore):\n",
    "    print(f\"Documents to insert: {len(docs)}.\")\n",
    "\n",
    "    inserted_ids = vstore.add_documents(docs)\n",
    "\n",
    "    print(f\"Inserted {len(inserted_ids)} documents.\")"
   ]
  },
  {
   "cell_type": "code",
   "execution_count": 14,
   "metadata": {},
   "outputs": [],
   "source": [
    "# Run a similarity search for the given query\n",
    "def search_vstore(query, vstore):\n",
    "    results = vstore.similarity_search(query, k=3)\n",
    "    for res in results:\n",
    "        print(f\"* {res.page_content} \\n[{res.metadata}] \\n\")"
   ]
  },
  {
   "cell_type": "markdown",
   "metadata": {},
   "source": [
    "#### Astra DB"
   ]
  },
  {
   "cell_type": "markdown",
   "metadata": {},
   "source": [
    "For using Datastax Astra DB:\n",
    "- Create a database in https://astra.datastax.com/\n",
    "- Obtain your database API endpoint, located under Database Details > API Endpoint, and save it as an environment variable called: ASTRA_DB_API_ENDPOINT\n",
    "- Generate a token and save it as an environment variable called: ASTRA_DB_APPLICATION_TOKEN"
   ]
  },
  {
   "cell_type": "code",
   "execution_count": null,
   "metadata": {},
   "outputs": [],
   "source": [
    "pip install langchain-astradb==0.3.3"
   ]
  },
  {
   "cell_type": "code",
   "execution_count": 31,
   "metadata": {},
   "outputs": [],
   "source": [
    "from langchain_astradb import AstraDBVectorStore"
   ]
  },
  {
   "cell_type": "code",
   "execution_count": 32,
   "metadata": {},
   "outputs": [],
   "source": [
    "astradb = AstraDBVectorStore(\n",
    "    embedding=google_embeddings,\n",
    "    collection_name=\"vector_db_test\", \n",
    "    api_endpoint=os.getenv(\"ASTRA_DB_API_ENDPOINT\"),\n",
    "    token=os.getenv(\"ASTRA_DB_APPLICATION_TOKEN\")\n",
    ")"
   ]
  },
  {
   "cell_type": "code",
   "execution_count": 33,
   "metadata": {},
   "outputs": [
    {
     "name": "stdout",
     "output_type": "stream",
     "text": [
      "Documents to insert: 311.\n",
      "Inserted 311 documents.\n"
     ]
    }
   ],
   "source": [
    "insert_data(pdf_chunks, astradb)"
   ]
  },
  {
   "cell_type": "code",
   "execution_count": 34,
   "metadata": {},
   "outputs": [
    {
     "name": "stdout",
     "output_type": "stream",
     "text": [
      "* Allison Nathan: How should investors navigate this risk?  \n",
      "Sarah Guo: My advice to investors is to focus on choice of \n",
      "technical partners, concrete plans, and outcomes . When AI \n",
      "products account for a significant share of incremental revenue, \n",
      "it's hard to argue with that performance. Or, in consumer \n",
      "businesses, if the metrics investors typically use to assess a \n",
      "company’s performance— engagement , transactions, ad \n",
      "inventory, etc. —materially improve after introducing a new AI \n",
      "[{'source': 'example_data/example_pdf.pdf', 'page': 4}] \n",
      "\n",
      "* inventory, etc. —materially improve after introducing a new AI \n",
      "product, that’s what you want to see.  \n",
      "Another significant risk is public and regulatory backlash against \n",
      "AI technology due to concerns around abuse of these \n",
      "technologies in t he areas of bias, disinformation, cybersecurity, \n",
      "etc. Just like the internet, general tools like generative AI can \n",
      "be used for good and for bad, so investment in risk mitigation \n",
      "must occur alongside investment in innovation. But given the \n",
      "[{'source': 'example_data/example_pdf.pdf', 'page': 4}] \n",
      "\n",
      "* new entrants. Regulation can definitely slow innovation down. \n",
      "But it’s also necessary to keep bad actors out. And ultimately, a \n",
      "space rife with bad actors, especially AI where the \n",
      "consequences of bad behavior could be severe, isn’t beneficial \n",
      "to any investor .   \n",
      "Allison Nathan: What risks, then, should investors be \n",
      "concerned about?  \n",
      "Eric Sheridan: The potential for changed computing habits is a risk both if it doesn’t, and does, happen. We’ve lived through \n",
      "[{'source': 'example_data/example_pdf.pdf', 'page': 11}] \n",
      "\n"
     ]
    }
   ],
   "source": [
    "search_vstore(\"what are the risks of AI?\", astradb)"
   ]
  },
  {
   "cell_type": "code",
   "execution_count": 35,
   "metadata": {},
   "outputs": [
    {
     "name": "stdout",
     "output_type": "stream",
     "text": [
      "Documents to insert: 7.\n",
      "Inserted 7 documents.\n"
     ]
    }
   ],
   "source": [
    "insert_data(md_chunks, astradb)"
   ]
  },
  {
   "cell_type": "code",
   "execution_count": 36,
   "metadata": {},
   "outputs": [
    {
     "name": "stdout",
     "output_type": "stream",
     "text": [
      "* History\n",
      "\n",
      "The first World Cup was held in 1930 in Uruguay, with the host nation emerging as the champions. Since then, the tournament has grown significantly in size and popularity. Originally featuring just 13 teams, the World Cup now includes 32 teams in the final tournament, with plans to expand to 48 teams in the near future.\n",
      "\n",
      "Format\n",
      "\n",
      "The World Cup is divided into two main stages: \n",
      "[{'source': 'example_data/example_markdown.md'}] \n",
      "\n",
      "* Format\n",
      "\n",
      "The World Cup is divided into two main stages:\n",
      "\n",
      "Qualification: This stage occurs over the three years preceding the tournament, with national teams competing within their respective confederations (e.g., UEFA, CONMEBOL, AFC) to secure a spot in the finals.\n",
      "\n",
      "Final Tournament: Held over approximately one month, the final tournament features: \n",
      "[{'source': 'example_data/example_markdown.md'}] \n",
      "\n",
      "* The Football World Cup\n",
      "\n",
      "The FIFA World Cup, often simply referred to as the World Cup, is the premier international football competition. Organized by the Fédération Internationale de Football Association (FIFA), it features national teams from around the globe competing for the most coveted trophy in the sport. The tournament is held every four years and is one of the most widely viewed and followed sporting events in the world.\n",
      "\n",
      "History \n",
      "[{'source': 'example_data/example_markdown.md'}] \n",
      "\n"
     ]
    }
   ],
   "source": [
    "search_vstore(\"when was the first tournament played?\", astradb)"
   ]
  },
  {
   "cell_type": "markdown",
   "metadata": {},
   "source": [
    "✅ Pros:\n",
    "- Friendly UI\n",
    "- Can run similarity search through the UI (but you need to have the embedding beforehand)\n",
    "- Has a CQL console to run queries on the database\n",
    "\n",
    "❌ Cons:\n",
    "- Probably not suitable to insert private information\n",
    "- Cannot run similarity search on text directly\n",
    "- The database goes into hibernation if it's not used for 2 days"
   ]
  },
  {
   "cell_type": "markdown",
   "metadata": {},
   "source": [
    "#### Pinecone"
   ]
  },
  {
   "cell_type": "markdown",
   "metadata": {},
   "source": [
    "For using Pinecone:\n",
    "- Create a project in https://app.pinecone.io/\n",
    "- Create an index with dimensions=768 (this is the length of the embeddings) and metric=cosine\n",
    "- Generate an api token and save it as an environment variable called: PINECONE_API_KEY"
   ]
  },
  {
   "cell_type": "code",
   "execution_count": null,
   "metadata": {},
   "outputs": [],
   "source": [
    "pip install langchain-pinecone==0.1.1"
   ]
  },
  {
   "cell_type": "code",
   "execution_count": 21,
   "metadata": {},
   "outputs": [],
   "source": [
    "from langchain_pinecone import PineconeVectorStore"
   ]
  },
  {
   "cell_type": "code",
   "execution_count": 27,
   "metadata": {},
   "outputs": [],
   "source": [
    "pinecone = PineconeVectorStore(\n",
    "    embedding=google_embeddings,\n",
    "    index_name=\"vector-db-test\",\n",
    "    pinecone_api_key=os.getenv(\"PINECONE_API_KEY\")\n",
    ")"
   ]
  },
  {
   "cell_type": "code",
   "execution_count": 37,
   "metadata": {},
   "outputs": [
    {
     "name": "stdout",
     "output_type": "stream",
     "text": [
      "Documents to insert: 311.\n",
      "Inserted 311 documents.\n"
     ]
    }
   ],
   "source": [
    "insert_data(pdf_chunks, pinecone)"
   ]
  },
  {
   "cell_type": "code",
   "execution_count": 38,
   "metadata": {},
   "outputs": [
    {
     "name": "stdout",
     "output_type": "stream",
     "text": [
      "* Allison Nathan: How should investors navigate this risk?  \n",
      "Sarah Guo: My advice to investors is to focus on choice of \n",
      "technical partners, concrete plans, and outcomes . When AI \n",
      "products account for a significant share of incremental revenue, \n",
      "it's hard to argue with that performance. Or, in consumer \n",
      "businesses, if the metrics investors typically use to assess a \n",
      "company’s performance— engagement , transactions, ad \n",
      "inventory, etc. —materially improve after introducing a new AI \n",
      "[{'page': 4.0, 'source': 'example_data/example_pdf.pdf'}] \n",
      "\n",
      "* inventory, etc. —materially improve after introducing a new AI \n",
      "product, that’s what you want to see.  \n",
      "Another significant risk is public and regulatory backlash against \n",
      "AI technology due to concerns around abuse of these \n",
      "technologies in t he areas of bias, disinformation, cybersecurity, \n",
      "etc. Just like the internet, general tools like generative AI can \n",
      "be used for good and for bad, so investment in risk mitigation \n",
      "must occur alongside investment in innovation. But given the \n",
      "[{'page': 4.0, 'source': 'example_data/example_pdf.pdf'}] \n",
      "\n",
      "* new entrants. Regulation can definitely slow innovation down. \n",
      "But it’s also necessary to keep bad actors out. And ultimately, a \n",
      "space rife with bad actors, especially AI where the \n",
      "consequences of bad behavior could be severe, isn’t beneficial \n",
      "to any investor .   \n",
      "Allison Nathan: What risks, then, should investors be \n",
      "concerned about?  \n",
      "Eric Sheridan: The potential for changed computing habits is a risk both if it doesn’t, and does, happen. We’ve lived through \n",
      "[{'page': 11.0, 'source': 'example_data/example_pdf.pdf'}] \n",
      "\n"
     ]
    }
   ],
   "source": [
    "search_vstore(\"what are the risks of AI?\", pinecone)"
   ]
  },
  {
   "cell_type": "code",
   "execution_count": 39,
   "metadata": {},
   "outputs": [
    {
     "name": "stdout",
     "output_type": "stream",
     "text": [
      "Documents to insert: 7.\n",
      "Inserted 7 documents.\n"
     ]
    }
   ],
   "source": [
    "insert_data(md_chunks, pinecone)"
   ]
  },
  {
   "cell_type": "code",
   "execution_count": 40,
   "metadata": {},
   "outputs": [
    {
     "name": "stdout",
     "output_type": "stream",
     "text": [
      "* History\n",
      "\n",
      "The first World Cup was held in 1930 in Uruguay, with the host nation emerging as the champions. Since then, the tournament has grown significantly in size and popularity. Originally featuring just 13 teams, the World Cup now includes 32 teams in the final tournament, with plans to expand to 48 teams in the near future.\n",
      "\n",
      "Format\n",
      "\n",
      "The World Cup is divided into two main stages: \n",
      "[{'source': 'example_data/example_markdown.md'}] \n",
      "\n",
      "* Format\n",
      "\n",
      "The World Cup is divided into two main stages:\n",
      "\n",
      "Qualification: This stage occurs over the three years preceding the tournament, with national teams competing within their respective confederations (e.g., UEFA, CONMEBOL, AFC) to secure a spot in the finals.\n",
      "\n",
      "Final Tournament: Held over approximately one month, the final tournament features: \n",
      "[{'source': 'example_data/example_markdown.md'}] \n",
      "\n",
      "* The Football World Cup\n",
      "\n",
      "The FIFA World Cup, often simply referred to as the World Cup, is the premier international football competition. Organized by the Fédération Internationale de Football Association (FIFA), it features national teams from around the globe competing for the most coveted trophy in the sport. The tournament is held every four years and is one of the most widely viewed and followed sporting events in the world.\n",
      "\n",
      "History \n",
      "[{'source': 'example_data/example_markdown.md'}] \n",
      "\n"
     ]
    }
   ],
   "source": [
    "search_vstore(\"when was the first tournament played?\", pinecone)"
   ]
  },
  {
   "cell_type": "markdown",
   "metadata": {},
   "source": [
    "✅ Pros:\n",
    "- Friendly UI\n",
    "- Can run similarity search through the UI (but you need to have the embedding beforehand)\n",
    "\n",
    "❌ Cons:\n",
    "- Probably not suitable to insert private information\n",
    "- Cannot run similarity search on text directly"
   ]
  },
  {
   "cell_type": "markdown",
   "metadata": {},
   "source": [
    "#### Chroma"
   ]
  },
  {
   "cell_type": "code",
   "execution_count": null,
   "metadata": {},
   "outputs": [],
   "source": [
    "pip install langchain-chroma==0.1.1"
   ]
  },
  {
   "cell_type": "code",
   "execution_count": 9,
   "metadata": {},
   "outputs": [],
   "source": [
    "from langchain_chroma import Chroma"
   ]
  },
  {
   "cell_type": "code",
   "execution_count": 10,
   "metadata": {},
   "outputs": [],
   "source": [
    "chroma = Chroma(\"vector_db_test\", google_embeddings)"
   ]
  },
  {
   "cell_type": "code",
   "execution_count": 41,
   "metadata": {},
   "outputs": [
    {
     "name": "stdout",
     "output_type": "stream",
     "text": [
      "Documents to insert: 311.\n",
      "Inserted 311 documents.\n"
     ]
    }
   ],
   "source": [
    "insert_data(pdf_chunks, chroma)"
   ]
  },
  {
   "cell_type": "code",
   "execution_count": 44,
   "metadata": {},
   "outputs": [
    {
     "name": "stdout",
     "output_type": "stream",
     "text": [
      "* Allison Nathan: How should investors navigate this risk?  \n",
      "Sarah Guo: My advice to investors is to focus on choice of \n",
      "technical partners, concrete plans, and outcomes . When AI \n",
      "products account for a significant share of incremental revenue, \n",
      "it's hard to argue with that performance. Or, in consumer \n",
      "businesses, if the metrics investors typically use to assess a \n",
      "company’s performance— engagement , transactions, ad \n",
      "inventory, etc. —materially improve after introducing a new AI \n",
      "[{'page': 4, 'source': 'example_data/example_pdf.pdf'}] \n",
      "\n",
      "* Allison Nathan: How should investors navigate this risk?  \n",
      "Sarah Guo: My advice to investors is to focus on choice of \n",
      "technical partners, concrete plans, and outcomes . When AI \n",
      "products account for a significant share of incremental revenue, \n",
      "it's hard to argue with that performance. Or, in consumer \n",
      "businesses, if the metrics investors typically use to assess a \n",
      "company’s performance— engagement , transactions, ad \n",
      "inventory, etc. —materially improve after introducing a new AI \n",
      "[{'page': 4, 'source': 'example_data/example_pdf.pdf', 'text': \"Allison Nathan: How should investors navigate this risk?  \\nSarah Guo: My advice to investors is to focus on choice of \\ntechnical partners, concrete plans, and outcomes . When AI \\nproducts account for a significant share of incremental revenue, \\nit's hard to argue with that performance. Or, in consumer \\nbusinesses, if the metrics investors typically use to assess a \\ncompany’s performance— engagement , transactions, ad \\ninventory, etc. —materially improve after introducing a new AI\"}] \n",
      "\n",
      "* inventory, etc. —materially improve after introducing a new AI \n",
      "product, that’s what you want to see.  \n",
      "Another significant risk is public and regulatory backlash against \n",
      "AI technology due to concerns around abuse of these \n",
      "technologies in t he areas of bias, disinformation, cybersecurity, \n",
      "etc. Just like the internet, general tools like generative AI can \n",
      "be used for good and for bad, so investment in risk mitigation \n",
      "must occur alongside investment in innovation. But given the \n",
      "[{'page': 4, 'source': 'example_data/example_pdf.pdf'}] \n",
      "\n"
     ]
    }
   ],
   "source": [
    "search_vstore(\"what are the risks of AI?\", chroma)"
   ]
  },
  {
   "cell_type": "code",
   "execution_count": 43,
   "metadata": {},
   "outputs": [
    {
     "name": "stdout",
     "output_type": "stream",
     "text": [
      "Documents to insert: 7.\n",
      "Inserted 7 documents.\n"
     ]
    }
   ],
   "source": [
    "insert_data(md_chunks, chroma)"
   ]
  },
  {
   "cell_type": "code",
   "execution_count": 45,
   "metadata": {},
   "outputs": [
    {
     "name": "stdout",
     "output_type": "stream",
     "text": [
      "* History\n",
      "\n",
      "The first World Cup was held in 1930 in Uruguay, with the host nation emerging as the champions. Since then, the tournament has grown significantly in size and popularity. Originally featuring just 13 teams, the World Cup now includes 32 teams in the final tournament, with plans to expand to 48 teams in the near future.\n",
      "\n",
      "Format\n",
      "\n",
      "The World Cup is divided into two main stages: \n",
      "[{'source': 'example_data/example_markdown.md'}] \n",
      "\n",
      "* History\n",
      "\n",
      "The first World Cup was held in 1930 in Uruguay, with the host nation emerging as the champions. Since then, the tournament has grown significantly in size and popularity. Originally featuring just 13 teams, the World Cup now includes 32 teams in the final tournament, with plans to expand to 48 teams in the near future.\n",
      "\n",
      "Format\n",
      "\n",
      "The World Cup is divided into two main stages: \n",
      "[{'source': 'example_data/example_markdown.md', 'text': 'History\\n\\nThe first World Cup was held in 1930 in Uruguay, with the host nation emerging as the champions. Since then, the tournament has grown significantly in size and popularity. Originally featuring just 13 teams, the World Cup now includes 32 teams in the final tournament, with plans to expand to 48 teams in the near future.\\n\\nFormat\\n\\nThe World Cup is divided into two main stages:'}] \n",
      "\n",
      "* Format\n",
      "\n",
      "The World Cup is divided into two main stages:\n",
      "\n",
      "Qualification: This stage occurs over the three years preceding the tournament, with national teams competing within their respective confederations (e.g., UEFA, CONMEBOL, AFC) to secure a spot in the finals.\n",
      "\n",
      "Final Tournament: Held over approximately one month, the final tournament features: \n",
      "[{'source': 'example_data/example_markdown.md'}] \n",
      "\n"
     ]
    }
   ],
   "source": [
    "search_vstore(\"when was the first tournament played?\", chroma)"
   ]
  },
  {
   "cell_type": "markdown",
   "metadata": {},
   "source": [
    "✅ Pros:\n",
    "- Suitable for private information as it runs locally\n",
    "\n",
    "❌ Cons:\n",
    "- Need to handle persistance on my own (by default the data is stored in memory)\n",
    "- Doesn't have a UI"
   ]
  },
  {
   "cell_type": "markdown",
   "metadata": {},
   "source": [
    "#### Azure Cosmos DB"
   ]
  },
  {
   "cell_type": "markdown",
   "metadata": {},
   "source": [
    "You need to deploy a Cosmos DB for NoSQL in Azure and enable vector search: https://learn.microsoft.com/en-us/azure/cosmos-db/nosql/vector-search"
   ]
  },
  {
   "cell_type": "code",
   "execution_count": null,
   "metadata": {},
   "outputs": [],
   "source": [
    "pip install azure-cosmos==4.7.0"
   ]
  },
  {
   "cell_type": "code",
   "execution_count": 37,
   "metadata": {},
   "outputs": [],
   "source": [
    "from azure.cosmos import CosmosClient, PartitionKey\n",
    "from langchain_community.vectorstores.azure_cosmos_db_no_sql import AzureCosmosDBNoSqlVectorSearch"
   ]
  },
  {
   "cell_type": "code",
   "execution_count": 30,
   "metadata": {},
   "outputs": [],
   "source": [
    "cosmos_client = CosmosClient(os.getenv(\"AZURE_COSMOS_DB_URI\"), os.getenv(\"AZURE_COSMOS_DB_KEY\"))\n",
    "database_name = \"vector_db_test\"\n",
    "container_name = \"test_collection\"\n",
    "partition_key = PartitionKey(path=\"/id\")\n",
    "cosmos_container_properties = {\"partition_key\": partition_key}\n",
    "cosmos_database_properties = {\"id\": database_name}"
   ]
  },
  {
   "cell_type": "code",
   "execution_count": null,
   "metadata": {},
   "outputs": [],
   "source": [
    "indexing_policy = {\n",
    "    \"indexingMode\": \"consistent\",\n",
    "    \"includedPaths\": [{\"path\": \"/*\"}],\n",
    "    \"excludedPaths\": [{\"path\": '/\"_etag\"/?'}],\n",
    "    \"vectorIndexes\": [{\"path\": \"/embedding\", \"type\": \"quantizedFlat\"}],\n",
    "}\n",
    "\n",
    "vector_embedding_policy = {\n",
    "    \"vectorEmbeddings\": [\n",
    "        {\n",
    "            \"path\": \"/embedding\",\n",
    "            \"dataType\": \"float32\",\n",
    "            \"distanceFunction\": \"cosine\",\n",
    "            \"dimensions\": 768,\n",
    "        }\n",
    "    ]\n",
    "}"
   ]
  },
  {
   "cell_type": "code",
   "execution_count": 32,
   "metadata": {},
   "outputs": [],
   "source": [
    "cosmos_db = AzureCosmosDBNoSqlVectorSearch(\n",
    "    embedding=google_embeddings,\n",
    "    cosmos_client=cosmos_client,\n",
    "    database_name=database_name,\n",
    "    container_name=container_name,\n",
    "    vector_embedding_policy=vector_embedding_policy,\n",
    "    indexing_policy=indexing_policy,\n",
    "    cosmos_container_properties=cosmos_container_properties,\n",
    "    cosmos_database_properties=cosmos_database_properties,\n",
    "    create_container=True\n",
    ")"
   ]
  },
  {
   "cell_type": "code",
   "execution_count": 33,
   "metadata": {},
   "outputs": [
    {
     "name": "stdout",
     "output_type": "stream",
     "text": [
      "Documents to insert: 311.\n",
      "Inserted 311 documents.\n"
     ]
    }
   ],
   "source": [
    "insert_data(pdf_chunks, cosmos_db)"
   ]
  },
  {
   "cell_type": "code",
   "execution_count": 34,
   "metadata": {},
   "outputs": [
    {
     "name": "stdout",
     "output_type": "stream",
     "text": [
      "* Allison Nathan: How should investors navigate this risk?  \n",
      "Sarah Guo: My advice to investors is to focus on choice of \n",
      "technical partners, concrete plans, and outcomes . When AI \n",
      "products account for a significant share of incremental revenue, \n",
      "it's hard to argue with that performance. Or, in consumer \n",
      "businesses, if the metrics investors typically use to assess a \n",
      "company’s performance— engagement , transactions, ad \n",
      "inventory, etc. —materially improve after introducing a new AI \n",
      "[{'id': '22b55aaa-cac4-42c2-a607-ed6918a6a109', 'embedding': [-0.010116511955857277, -0.06860020011663437, -0.043540891259908676, 0.0015710726147517562, 0.040942516177892685, 0.00905861146748066, 0.045039474964141846, 0.007032771594822407, 0.010039553977549076, 0.02657351829111576, 0.07548939436674118, 0.008177440613508224, -0.03559532016515732, -0.015411953441798687, 0.010103081353008747, -0.11607693135738373, 0.014570698142051697, 0.057302236557006836, 0.03229697048664093, -0.009306125342845917, 0.005449686199426651, -0.014170600101351738, -0.008881943300366402, -0.041114453226327896, -0.01186865009367466, -0.0001880930649349466, -0.006009295582771301, -0.060863662511110306, -0.0350835844874382, 0.026785897091031075, -0.02811550721526146, 0.04533272981643677, -0.03519263491034508, 0.018735995516180992, 0.001211601891554892, -0.055588070303201675, -0.009600892663002014, 0.011048117652535439, 0.002769248094409704, -0.013062897138297558, -0.02496708370745182, -0.07525680959224701, -0.040340639650821686, 0.005293599795550108, -0.04858570545911789, -0.0006561879999935627, 0.032132554799318314, 0.05378378555178642, -0.024578159675002098, -0.024445226415991783, 0.036588042974472046, 0.008158959448337555, 0.08422577381134033, -0.04601436108350754, 0.01662728749215603, -0.01794559694826603, 0.04473910108208656, -0.05733795091509819, 0.012326429598033428, 0.03582915663719177, -0.014527563937008381, 0.012376368045806885, -0.03145811706781387, -0.020966079086065292, -0.015878379344940186, -0.06798309832811356, -0.01802707090973854, 0.04005272313952446, 0.043904468417167664, 0.02908763289451599, 0.01795697957277298, 0.02904820255935192, 0.12817445397377014, -0.006615581456571817, -0.03697967901825905, -0.10499575734138489, -0.020338596776127815, 0.08995301276445389, 0.01389296818524599, 0.007444850634783506, 0.018085721880197525, -0.08031610399484634, -0.06496809422969818, -0.058748774230480194, -0.03708324208855629, 0.00470920093357563, 0.005223553162068129, -0.011923260986804962, -0.023429062217473984, 0.04459763690829277, -0.030308937653899193, -0.005760509055107832, 0.07108059525489807, -0.032422587275505066, -0.003700221423059702, 0.07659327983856201, -0.011228830553591251, -0.03423318266868591, 0.03959747776389122, -0.06279368698596954, -0.027676166966557503, -0.023088902235031128, -0.027690140530467033, -0.004797282628715038, 0.04033815488219261, 0.021477283909916878, -0.014829535968601704, 0.017023436725139618, -0.012045527808368206, -0.003747387556359172, -0.03834327682852745, -0.06559241563081741, -0.02449829690158367, -0.04455181211233139, 0.011541798710823059, -0.018461575731635094, 0.024453219026327133, 0.09593500941991806, 0.012113247998058796, 0.03137635067105293, 0.01876530423760414, 0.00042940123239532113, 0.06892053782939911, 0.0015679982025176287, 0.023497257381677628, 0.029787806794047356, 0.031166862696409225, -0.00553973950445652, 0.08029800653457642, 0.02791239134967327, -0.024734478443861008, -0.02334989607334137, -0.044334493577480316, 0.020777801051735878, 0.016567831858992577, 0.04330505058169365, 0.022851036861538887, -0.04044268652796745, 0.008051704615354538, -0.019403964281082153, -0.007055494002997875, 0.008843228220939636, 0.010531293228268623, 0.006876389961689711, -0.06773991137742996, 0.03522464632987976, -0.06305903941392899, 0.006049222778528929, 0.026382317766547203, -0.041212569922208786, -0.04008283093571663, 0.02017892152070999, -0.04964863136410713, -0.03719169273972511, 0.0017126034945249557, 0.04507991671562195, -0.0005908438470214605, 0.05264810845255852, 0.018711941316723824, 0.009289336390793324, 0.05511656776070595, 0.03433578833937645, 0.002105497755110264, 0.04827173054218292, -0.04264060780405998, -0.02687969245016575, 0.016477201133966446, 0.01225085835903883, 0.028721049427986145, 0.002611135598272085, 0.0026180483400821686, 0.07404995709657669, -0.05474163219332695, -0.04859919846057892, -0.017908211797475815, -0.0696055218577385, 0.02140219695866108, 0.03369920700788498, -0.026167508214712143, -0.0022027650848031044, -0.017093893140554428, -0.022996651008725166, -0.015405836515128613, 0.02217422053217888, 0.01009252667427063, -0.00807297695428133, 0.07035019993782043, -0.04444469138979912, -0.018632568418979645, 0.003824956715106964, -0.011668077670037746, -0.01661418378353119, -0.028749309480190277, 0.017280161380767822, -0.00020437261264305562, 0.04589303210377693, 0.04927185922861099, 0.044263921678066254, 0.045917872339487076, -0.015056848526000977, -0.007177533581852913, 0.06401018053293228, -0.0014720468316227198, 0.01229141652584076, 0.017638612538576126, 0.013861650601029396, 0.03276101127266884, 0.03401292860507965, -0.030321704223752022, 0.03135768324136734, -0.0657392218708992, 0.027748610824346542, -0.0016694236546754837, -0.023074422031641006, 0.007284700404852629, -0.026835594326257706, 0.031238039955496788, -0.00969952717423439, 0.011365384794771671, -0.012716407887637615, -0.022000333294272423, 0.011854891665279865, -0.041254088282585144, 0.002067053224891424, -0.034504976123571396, 0.06381165981292725, -0.0451434925198555, 0.014881918206810951, 0.039460428059101105, -0.030110634863376617, -0.002535548759624362, 0.07990753650665283, 0.052501749247312546, 0.0282148327678442, 0.06046288460493088, -0.0026278889272361994, 0.025197293609380722, 0.07479043304920197, 0.021688882261514664, 0.017241351306438446, -0.06372204422950745, 0.02464710734784603, 0.013576436787843704, 0.020004868507385254, -0.0888144001364708, -0.001113040605559945, -0.05951041355729103, 0.029916290193796158, 0.02872573584318161, 0.009654267691075802, -0.05640365183353424, -0.035404451191425323, -0.04059714451432228, 0.0068830279633402824, -0.04218679666519165, 0.00770979980006814, -0.08901248872280121, -0.047969091683626175, -0.024963458999991417, -0.0003902545722667128, 0.015452459454536438, -0.0025314788799732924, 0.022345688194036484, -0.03467189520597458, 0.02831989713013172, -0.03293434530496597, 0.005105160176753998, -0.0357024110853672, -0.02942728064954281, 0.030769729986786842, -0.0271464753895998, -0.01758945919573307, 0.021492352709174156, -0.004074077121913433, 0.03880229592323303, 0.04973311722278595, 0.03960587456822395, 0.034687865525484085, 0.014599139802157879, -0.018995579332113266, -0.011520719155669212, 0.020001482218503952, 0.018522994592785835, -0.007888871245086193, 0.011032909154891968, 0.02465624362230301, -0.031009942293167114, -0.009009613655507565, -0.003801994724199176, -0.08294599503278732, -0.03630545362830162, 0.012723705731332302, 0.03347303718328476, -0.05041264370083809, -0.0343400239944458, 0.015396621078252792, -0.0023116113152354956, -0.00626862607896328, 0.035641103982925415, -0.01940751075744629, 0.002804088406264782, -0.059712860733270645, -0.00837261974811554, -0.022409973666071892, 0.00014201753947418183, 0.03711974620819092, -0.030715741217136383, -0.07007908821105957, 0.0054256548173725605, -1.8914950487669557e-05, 0.02695421688258648, -0.02634064294397831, 0.016427338123321533, -0.02501455321907997, -0.00727024395018816, 0.028998514637351036, -0.024511532858014107, -0.007667765021324158, -0.0018939102301374078, 0.05290145054459572, -0.01740000955760479, 0.0026778432074934244, -0.017605306580662727, -0.036534033715724945, -0.026409633457660675, 0.051757507026195526, -0.04350077360868454, 0.00243299244903028, -0.025426963344216347, -0.02443748712539673, 0.06985410302877426, 0.019290877506136894, -0.03480243682861328, 0.0383317731320858, -0.016939010471105576, 0.03779934346675873, -0.01915394701063633, -0.0035187508910894394, -0.010189808905124664, 0.005644121672958136, 0.029399529099464417, -0.014793550595641136, -0.010156365111470222, -0.06765104830265045, 0.018818626180291176, -0.011721146292984486, -0.04086222127079964, 0.015773650258779526, 0.08364849537611008, 0.036013390868902206, 0.023556848987936974, 0.05729769915342331, -0.00827393215149641, -0.0012161298654973507, 0.0029112088959664106, -0.04870122671127319, 0.0009022177546285093, 0.0028139532078057528, 0.07041370868682861, -0.04446675628423691, -0.00776059553027153, 0.0070320055820047855, -0.00501562375575304, 0.00884170550853014, 0.016613967716693878, 0.022770827636122704, -0.020492257550358772, -0.007970165461301804, -0.0028205732814967632, 0.04038895666599274, 0.012030120939016342, 0.001746231922879815, 0.027245203033089638, -0.06424059718847275, 0.01972712203860283, 0.0038464770186692476, -0.062298890203237534, -0.013166213408112526, 0.014181994833052158, 0.007759030442684889, -0.03620372340083122, -0.006880712695419788, 0.05307631567120552, 0.06000756099820137, 0.0488298162817955, 0.01136908307671547, 0.012153884395956993, 0.05550391972064972, -0.01476296130567789, 0.0330970473587513, -0.014252002350986004, 0.03564998507499695, 0.0656622052192688, -0.00807158462703228, 0.023072263225913048, -0.004640149883925915, 0.016072804108262062, -0.0217976663261652, -0.0211372971534729, 0.0185597762465477, -0.05418518930673599, -0.022272605448961258, -0.04299779608845711, -0.02782900258898735, -0.006625781767070293, -0.03138325363397598, 0.050457488745450974, -0.03229770436882973, -0.014158057980239391, -0.010676458477973938, 0.028694702312350273, 0.018401507288217545, 0.018214736133813858, -0.04872795566916466, -0.02273683436214924, 0.010998732410371304, 0.047995783388614655, 0.004064289852976799, -0.04538356140255928, 0.019434820860624313, -0.057457081973552704, 0.00602057995274663, -0.03705362603068352, -0.011521494947373867, -0.0789501890540123, -0.021379685029387474, 0.020119091495871544, 0.0033738797064870596, 0.04622964933514595, -0.0037256721407175064, 0.04000183939933777, 0.009205527603626251, 0.0239042267203331, -0.02106355130672455, -0.021237507462501526, -0.02300545573234558, 0.003429185366258025, 0.03157150745391846, -0.0518852174282074, 0.011365382000803947, 0.010076010599732399, 0.02861073613166809, -0.01818695478141308, -0.01657538115978241, -0.0523301362991333, -0.01652226410806179, 0.02116076648235321, -0.03089985065162182, -0.006132122129201889, -0.03179331496357918, 0.016955018043518066, -0.059047453105449677, -0.041318994015455246, -0.06045917421579361, -0.04074608162045479, -0.06071826443076134, -0.02777811512351036, 0.052350081503391266, -0.004970045760273933, 0.02624429017305374, 0.01575867459177971, -0.03239898383617401, -0.01401723362505436, -0.047375891357660294, 0.06088193878531456, -0.010790505446493626, -0.023387223482131958, -0.04429659992456436, 0.024547530338168144, 0.06932729482650757, 0.020505856722593307, -0.055372580885887146, 0.0030366694554686546, -0.05798591673374176, -0.02817544713616371, -0.02320937067270279, -0.07381389290094376, 0.07121557742357254, -0.062867172062397, -0.025193894281983376, -0.001407427596859634, 0.08348304033279419, -0.00527780968695879, -0.017821533605456352, -0.022997288033366203, -0.013964718207716942, 0.01327778585255146, 0.013398717157542706, 0.022693980485200882, 0.06690631806850433, 0.03227521851658821, 0.041513435542583466, 0.0031764493323862553, -0.047040946781635284, -0.023530008271336555, -0.010980498045682907, -0.05342526733875275, 0.06394011527299881, 0.05809677019715309, 0.026401592418551445, -0.046197712421417236, -0.025780007243156433, -0.01699395850300789, -0.009804829023778439, 0.06741113215684891, -0.04293797165155411, 0.003951618913561106, -0.03100348822772503, 0.00028558255871757865, 0.003597273025661707, 0.009254945442080498, 0.041550375521183014, 0.03259684890508652, 0.003404733957722783, 0.08325989544391632, -0.04407248646020889, -0.0231065321713686, 0.01224578358232975, 0.02437119372189045, 0.013917640782892704, -0.008367817848920822, -0.00419285474345088, -0.09872831404209137, -0.017458287999033928, 0.038157254457473755, -0.0406329520046711, -0.03299073129892349, -0.011586113832890987, -0.019056152552366257, 0.006487267091870308, 0.020213009789586067, 0.02289256826043129, -0.06551379710435867, 0.03112475574016571, 0.04987921193242073, -0.00839296542108059, 0.02887040376663208, 0.003996777348220348, -0.032519444823265076, 0.005905565805733204, -0.007074270863085985, -0.033725325018167496, 0.025036612525582314, 0.043713029474020004, -0.04873690754175186, 0.0072958930395543575, 0.0017477500950917602, -0.06635202467441559, 0.024842644110322, -0.01781602017581463, -0.004874719772487879, 0.005478180944919586, 0.036479152739048004, -0.02774329110980034, 0.030775483697652817, -0.04013356938958168, -0.01502346619963646, 0.019508121535182, 0.05143357068300247, -0.002806386910378933, -0.018650004640221596, 0.020706897601485252, 0.02988782525062561, 0.02519824169576168, 0.05686179921030998, -0.0034351067151874304, -0.00958570558577776, -0.051275771111249924, 0.0025196729693561792, -0.03522464632987976, -0.019216589629650116, -0.014928513206541538, 0.012743514031171799, -0.008897073566913605, 0.040679480880498886, -0.006613824516534805, -0.05272533372044563, -0.0009170194389298558, -0.034301333129405975, 0.054741207510232925, 0.07493750005960464, 0.015638180077075958, -0.019160805270075798, 0.04393896833062172, -0.01573074795305729, -0.006599536631256342, 0.07001867145299911, 0.05486017465591431, 0.01765035279095173, 0.01602078229188919, -0.08093928545713425, 0.0640111193060875, -0.04846041277050972, 0.02398374117910862, -0.0015373665373772383, 0.008464773185551167, 0.037714652717113495, -0.01980169489979744, -0.01777835562825203, 0.024094192311167717, 0.021584875881671906, -0.03402582183480263, 0.05959674343466759, -0.04288971424102783, 0.06685810536146164, 0.02103043906390667, 0.011069144122302532, -0.034723080694675446, 0.010092291049659252, 0.047871846705675125, 0.0034903227351605892, -0.05271380394697189, 0.04498372599482536, -0.027262721210718155, -0.06172269955277443, -0.05924384295940399, 0.07877673208713531, 0.007276439107954502, -0.03422819450497627, 0.0069086202420294285, 0.026564033702015877, 0.035643186420202255, 0.025500888004899025, 0.025456588715314865, 0.03338860347867012, 0.04199276491999626, -0.028360435739159584, -0.0011010455200448632, 0.08042801171541214, 0.048316679894924164, 0.02765614725649357, 0.03878004476428032, 0.011338785290718079, -0.05056115239858627, -0.046949353069067, 0.004286234732717276, -0.014461576007306576, 0.037222761660814285, 0.01995948515832424, 0.012997669167816639, -0.055998072028160095, 0.008007890544831753, -0.015840882435441017, -0.0275729913264513, -0.01559082604944706, 0.04791596904397011, 0.03761785849928856, -0.09165642410516739, -0.049829576164484024, 0.0019424103666096926, -0.038224563002586365, 0.027131125330924988, 0.0550527349114418, -0.018368979915976524, 0.0006968132802285254, 0.02959531731903553, -0.010505488142371178, -0.01939358562231064, 0.04496904835104942, 0.0063260202296078205, 0.00881130900233984, 0.01287888828665018, -0.028257593512535095, -0.02090906910598278, -0.0028898431919515133, -0.04137786477804184, -0.05247008800506592, -0.05441759154200554, -0.003991045523434877, 0.037906669080257416, -0.06866103410720825, -0.0028592993039637804, -0.008610881865024567, 0.008029336109757423, 0.08791705220937729, 0.018597859889268875, 0.0017879609949886799, 0.04153716564178467, -0.003543476341292262, 0.03169864043593407, -0.024247445166110992, 0.06487715244293213, -0.02531960979104042, 0.002828056924045086, -0.013414010405540466, 0.023598531261086464, 0.03249938040971756, -0.00955353956669569, -0.031041208654642105, -0.021803708747029305, 0.015028143301606178, -0.011456573382019997, 0.03337983414530754, -0.016350753605365753, 0.019246872514486313, 0.01707025244832039, -0.045913342386484146, 0.030018560588359833, -0.0035758637823164463, 0.039820391684770584, -0.03774663805961609, -0.09847082942724228, 0.010404261760413647, 0.005627878475934267, 0.06229299679398537, 0.011586368083953857, 0.010869276709854603, 0.044692445546388626, 0.04483331739902496, 0.023154381662607193, -0.0013902965001761913, -0.07366777956485748, 0.008400190621614456, 0.0347924567759037, -0.027207618579268456, -0.03316113352775574, -0.02190304547548294, -0.0018712745513767004, -0.030438262969255447, 0.0023137580137699842, 0.03488033637404442, 0.022243160754442215, -0.007565329782664776, -0.011766567826271057, -0.022064993157982826, 0.07307148724794388, -0.04241134971380234, -0.021942170336842537, 0.007742219604551792, -0.015617567114531994, 0.012513265013694763, -0.016187401488423347, -0.03816887363791466, 0.002690731780603528, 0.013545816764235497, 0.09720775485038757, 0.007085414603352547, -0.002965550171211362, -0.014465764164924622, -0.07985994964838028, -0.014813915826380253, 7.44336357456632e-05, -0.02359759621322155, 0.04753285273909569, 0.03357943147420883, -0.02769853174686432, -0.013959599658846855, -0.0218940619379282, 0.01935356669127941, -0.06335219740867615, -0.039461564272642136, -0.0015051750233396888, -0.006149778608232737, 0.11188210546970367, 0.06504318863153458, -0.03131593018770218, 0.027102310210466385, -0.004130596294999123, -0.005001408513635397, -0.024781914427876472, -0.04842628911137581, 0.019767403602600098, -0.01488848403096199, -0.031008940190076828, 0.027255142107605934, 0.007245907559990883, -0.02816830202937126, 0.02354542352259159], 'text': \"Allison Nathan: How should investors navigate this risk?  \\nSarah Guo: My advice to investors is to focus on choice of \\ntechnical partners, concrete plans, and outcomes . When AI \\nproducts account for a significant share of incremental revenue, \\nit's hard to argue with that performance. Or, in consumer \\nbusinesses, if the metrics investors typically use to assess a \\ncompany’s performance— engagement , transactions, ad \\ninventory, etc. —materially improve after introducing a new AI\", 'SimilarityScore': 0.7213204676264908}] \n",
      "\n",
      "* inventory, etc. —materially improve after introducing a new AI \n",
      "product, that’s what you want to see.  \n",
      "Another significant risk is public and regulatory backlash against \n",
      "AI technology due to concerns around abuse of these \n",
      "technologies in t he areas of bias, disinformation, cybersecurity, \n",
      "etc. Just like the internet, general tools like generative AI can \n",
      "be used for good and for bad, so investment in risk mitigation \n",
      "must occur alongside investment in innovation. But given the \n",
      "[{'id': '9c53a000-affa-42bc-bdab-401e68a35c98', 'embedding': [-0.023750802502036095, -0.05175193026661873, -0.04154295101761818, 0.014564475044608116, 0.02696159854531288, -0.004428769461810589, 0.025239916518330574, 0.006415648851543665, 0.023332295939326286, 0.006265236064791679, 0.06987670063972473, 0.010023036040365696, 0.009927475824952126, 0.019832540303468704, 0.026788707822561264, -0.13527518510818481, 0.026423245668411255, 0.07152316719293594, 0.04017099738121033, 0.0037543412763625383, 0.02030080184340477, 0.026092492043972015, -0.006295809522271156, -0.04444132372736931, -0.02011745795607567, 0.007478570565581322, -0.007867911830544472, -0.062269534915685654, -0.028857601806521416, 0.019452905282378197, -0.04336247965693474, 0.062094878405332565, -0.02572523057460785, 0.03353524208068848, -0.013888610526919365, -0.05141120404005051, -0.005021513905376196, 0.006721837911754847, 0.00754267955198884, -0.040440429002046585, -0.016678934916853905, -0.05942907929420471, -0.0649452731013298, 0.026190733537077904, -0.03137163817882538, -0.014583282172679901, -0.0026422105729579926, 0.026449531316757202, 0.03905082866549492, -0.041903238743543625, 0.00392997357994318, 0.04750567674636841, 0.05624843016266823, -0.020278675481677055, -0.005299875047057867, -0.006383715197443962, 0.024067195132374763, -0.01059816312044859, 0.031015336513519287, 0.014805616810917854, 0.0026298018638044596, 0.02724618650972843, -0.025173187255859375, -0.0362815223634243, 0.014543970115482807, -0.04313412308692932, -0.027487559244036674, 0.030649621039628983, 0.03071901760995388, 0.010081836022436619, 0.012730431742966175, 0.023464277386665344, 0.10488622635602951, 0.02757634036242962, -0.0078215841203928, -0.13058151304721832, -0.030065754428505898, 0.054392896592617035, 0.01079885009676218, -0.00482412613928318, 0.0189072098582983, -0.045952364802360535, -0.05510716140270233, -0.05212797969579697, -0.03298351168632507, -0.007377480156719685, 0.01396852545440197, -0.023359162732958794, -0.02315312810242176, 0.03738812729716301, -0.025772061198949814, 0.018345702439546585, 0.05468350648880005, -0.02270667441189289, 0.01726171001791954, 0.07047887146472931, 0.004638503305613995, -0.06551845371723175, 0.04724636301398277, -0.06617829203605652, 0.012304523028433323, -0.019437123090028763, -0.005382607690989971, 0.013776098378002644, 0.06003609299659729, 0.029260126873850822, -0.020490827038884163, 0.04542390629649162, -0.015294033102691174, -0.022996196523308754, -0.06397083401679993, -0.033325646072626114, -0.01020713523030281, -0.057492002844810486, 0.03210575878620148, -0.022479435428977013, 0.032142601907253265, 0.09824474900960922, 0.015375335700809956, 0.03711989149451256, 0.0409681610763073, -0.013109498657286167, 0.06481540948152542, 0.004158640280365944, 0.004425528459250927, 0.014702142216265202, 0.01644819788634777, -0.015643998980522156, 0.053812798112630844, 0.03764728084206581, -0.02056090347468853, -0.007636656053364277, -0.03382756561040878, 0.01446062047034502, 0.029335133731365204, 0.05410899966955185, 0.020519819110631943, -0.013386406004428864, 0.010591670870780945, -0.019928211346268654, 0.012956812046468258, 0.014750937931239605, 0.0030276733450591564, 0.02212761901319027, -0.07136766612529755, 0.02073749527335167, -0.0717725083231926, 0.015996277332305908, 0.05256945267319679, -0.04983801394701004, -0.004891508258879185, 0.015924423933029175, -0.037790652364492416, -0.028199896216392517, 0.020120451226830482, 0.00042352621676400304, -0.022004082798957825, 0.05380462855100632, 0.007841570302844048, 0.020882518962025642, 0.04405803233385086, 0.027035992592573166, 0.041595518589019775, 0.06272458285093307, -0.06604272872209549, -0.030260028317570686, 0.004592284094542265, 0.02173377200961113, 0.027606196701526642, 0.00010749365173978731, 0.0013998541980981827, 0.0683773010969162, -0.04443668946623802, -0.05911075323820114, -0.01876239851117134, -0.03316982835531235, 0.03623947128653526, 0.03196452930569649, -0.019732534885406494, -0.014358438551425934, -0.0349101759493351, -0.006050270050764084, 0.002747895661741495, 0.010656451806426048, 0.02534644491970539, -0.0018561430042609572, 0.09620549529790878, -0.04824783280491829, -0.030121950432658195, 0.011653239838778973, -0.003304124576970935, -0.013262918218970299, -0.0618269182741642, 0.006666987203061581, 0.009075664915144444, 0.0549854151904583, 0.010987257584929466, 0.04491857439279556, 0.05265027657151222, -0.02173091657459736, -0.004362976178526878, 0.05175032839179039, 0.0015873429365456104, 0.027684243395924568, 0.02575000934302807, -0.001145764603279531, 0.03983849659562111, 0.008769886568188667, -0.028061747550964355, 0.024617180228233337, -0.07304481416940689, 0.014886809512972832, 0.01246732845902443, -0.023169154301285744, 0.0254603773355484, 0.013854410499334335, 0.0474790595471859, -0.00614130636677146, 0.031148135662078857, -0.031629011034965515, -0.0105574456974864, -0.0012084300396963954, -0.0336473248898983, 0.012929071672260761, -0.03041992336511612, 0.06233200058341026, -0.02464742213487625, 0.009902494959533215, 0.04659333825111389, -0.043273620307445526, 0.006344539579004049, 0.09384411573410034, 0.0177331380546093, 0.03461911901831627, 0.07020452618598938, 0.00214054761454463, 0.03117908351123333, 0.05576330050826073, 0.04155198857188225, 0.03898630663752556, -0.04069823771715164, 0.008758303709328175, 0.01804380863904953, 0.023897500708699226, -0.10876601934432983, -0.029590725898742676, -0.052844833582639694, 0.03667384758591652, -0.009157326072454453, 0.028007283806800842, -0.029049014672636986, -0.06446505337953568, -0.03984346613287926, 0.012399430386722088, -0.07234284281730652, 0.022324876859784126, -0.04724409803748131, -0.04891761392354965, -0.030389243736863136, -0.005306077189743519, 0.01917552947998047, 0.018006345257163048, 0.0049359421245753765, -0.02017115242779255, 0.03640599921345711, -0.026171760633587837, -0.003044477431103587, -0.04882371425628662, -0.01340627670288086, 0.028985485434532166, -0.03202445060014725, -0.04397670179605484, 0.021197475492954254, -0.012614353559911251, 0.01580706797540188, 0.02168889530003071, 0.039466604590415955, 0.031115198507905006, 0.013076734729111195, -0.018618809059262276, -0.01829204335808754, 0.024186162278056145, 0.02304258942604065, -0.017846010625362396, 0.006333867087960243, -0.005372801795601845, -0.052427828311920166, -0.03979716822504997, -0.01747296378016472, -0.08386120945215225, -0.01668451353907585, -0.023160671815276146, 0.021317729726433754, -0.03797360137104988, -0.04651622101664543, 0.030538285151124, -0.021413126960396767, 0.014208340086042881, 0.01877400651574135, -0.011158103123307228, -7.779472070978954e-05, -0.06613871455192566, -0.009209680370986462, -0.05090118572115898, -0.01214754767715931, 0.042507752776145935, -0.04517296701669693, -0.06567003577947617, 0.02106366492807865, 0.021257493644952774, 0.052989982068538666, -0.03795092925429344, 0.005173578858375549, -0.03119472786784172, 0.04628518968820572, 0.04576456919312477, -0.010829589329659939, -0.019026337191462517, -0.016350746154785156, 0.05710212513804436, -0.011486527509987354, 0.011385737918317318, -0.03474104404449463, -0.042258553206920624, -0.029870864003896713, 0.06658930331468582, -0.034026507288217545, -0.0018475260585546494, -0.03256361931562424, 0.029753584414720535, 0.05091182142496109, 0.005611075554043055, -0.0378633551299572, 0.01342032477259636, -0.013715649023652077, 0.022617587819695473, -0.06087096780538559, -0.01925455406308174, -0.010156639851629734, -0.022059543058276176, 0.012869168072938919, -0.02496342733502388, -0.007114982232451439, -0.07336967438459396, 0.012251218780875206, -0.03596959263086319, -0.060287825763225555, -0.009839524514973164, 0.09273533523082733, 0.02689547836780548, 0.012698987498879433, 0.015905233100056648, -0.018772784620523453, 0.004755556583404541, -0.0067418948747217655, -0.06024830788373947, -0.00012630573473870754, -0.0090123750269413, 0.06527508795261383, -0.04559803754091263, -0.02185298688709736, 0.007678398862481117, -0.03373799845576286, -0.035988785326480865, 0.02464614063501358, -0.0017247420037165284, -0.01862146332859993, -0.0063952114433050156, -0.019273482263088226, 0.03909534215927124, 0.013064287602901459, -0.027132198214530945, 0.060174472630023956, -0.05979648977518082, 0.02864605002105236, -0.03379545733332634, -0.03273913636803627, -0.021517328917980194, 0.022726787254214287, 0.014837458729743958, -0.045562516897916794, -0.017970604822039604, 0.04230663925409317, 0.03999806195497513, 0.03753439709544182, 0.013593084178864956, 0.0009429669007658958, 0.07267703860998154, -0.00700505031272769, 0.04478643834590912, -0.04125542566180229, 0.025781746953725815, 0.08344203978776932, 0.0007033806177787483, 0.026743032038211823, -0.025117071345448494, 0.025544704869389534, -0.041792627424001694, -0.019366057589650154, 0.014571255072951317, -0.01554415188729763, -0.06848414242267609, -0.038827765733003616, -0.045076388865709305, -0.0033743225503712893, -0.00865894928574562, 0.044094014912843704, -0.05214045196771622, -0.009220747277140617, 0.00669881422072649, 0.029117994010448456, 0.0019080154597759247, 0.04036867991089821, -0.019946707412600517, -0.018558504059910774, -0.01643592119216919, 0.0456814244389534, 0.0054766107350587845, -0.0445835255086422, 0.015263204462826252, -0.03110339865088463, -0.00960495788604021, -0.023030709475278854, -0.014624565839767456, -0.06440415978431702, -0.02484849840402603, 0.0391196683049202, -0.018984289839863777, 0.03333429992198944, -0.008474249392747879, 0.06124520301818848, 0.007258497644215822, 0.00817700382322073, -0.026243653148412704, 0.01347827073186636, -0.034261900931596756, -0.0046543157659471035, 0.022251514717936516, -0.03685078024864197, -0.003605832112953067, 0.039457980543375015, 0.0059228516183793545, -0.023639503866434097, -0.04131188616156578, -0.01094808615744114, -0.026524530723690987, 0.024374203756451607, -0.027731696143746376, -0.0013964356621727347, -0.05548805370926857, -0.0016952200094237924, -0.05675235763192177, -0.03449241816997528, -0.05462036654353142, -0.016058299690485, -0.031593479216098785, -0.01131784450262785, 0.05555957928299904, 0.004548338707536459, 0.019714614376425743, 0.024138735607266426, -0.02763243392109871, -0.009943384677171707, -0.030793672427535057, 0.06463386118412018, -0.01946081407368183, -0.022246185690164566, -0.04322466999292374, -0.011564726941287518, 0.07247035205364227, 0.025231722742319107, -0.05070263892412186, 0.0041967532597482204, -0.04497725889086723, -0.005023524630814791, -0.036161329597234726, -0.051561638712882996, 0.06708823889493942, -0.09019545465707779, -0.014810656197369099, 0.013086785562336445, 0.034330759197473526, 0.021237019449472427, -0.006938855163753033, -0.027196044102311134, 0.011337123811244965, 0.011576885357499123, 0.010992171242833138, 0.0015774128260090947, 0.08052214235067368, 0.005985640920698643, 0.01623215712606907, -0.02882397174835205, -0.06182100251317024, -0.034019943326711655, -0.015690423548221588, -0.05587603896856308, 0.075570248067379, 0.04144638776779175, 0.02720053680241108, -0.026931416243314743, -0.002338274847716093, -0.0008738092728890479, -0.01113379281014204, 0.051794636994600296, -0.024188784882426262, 0.04210098087787628, -0.029234467074275017, 0.02401268109679222, -0.0022426429204642773, -0.014388526789844036, 0.02823605015873909, -0.016216963529586792, -0.009731888771057129, 0.10612066835165024, -0.035913992673158646, 0.009623751975595951, 0.01944691129028797, 0.036045320332050323, 0.009471733123064041, -0.004503865726292133, -0.022969605401158333, -0.09505563974380493, -0.011276680044829845, 0.0449426993727684, -0.02892344817519188, -0.039152465760707855, -0.0029135383665561676, -0.025203511118888855, 0.01676078885793686, -6.232013402041048e-05, 0.04157182574272156, -0.06277516484260559, 0.039151646196842194, 0.030293622985482216, 0.006986887659877539, 0.018976032733917236, 0.03622281923890114, -0.014144363813102245, 0.005202617961913347, -0.0023448336869478226, -0.013254997320473194, 0.012808036990463734, 0.06940005719661713, -0.054425355046987534, 0.016674354672431946, -0.00627572275698185, -0.07277260720729828, 0.01425383985042572, 0.008521268144249916, 0.004647732712328434, 0.0038325265049934387, 0.0283315759152174, -0.029587719589471817, 0.031687695533037186, -0.042214009910821915, -0.012166016735136509, 0.040567539632320404, 0.02814522758126259, -0.03154382482171059, -0.020862441509962082, -0.0004055107128806412, 0.039204586297273636, 0.02392570488154888, 0.04664520546793938, 0.02932497300207615, -0.02539505809545517, -0.04875722900032997, 0.008329059928655624, -0.04151295870542526, 0.0034479759633541107, 0.010177196934819221, 0.04118059575557709, -0.010513951070606709, 0.05537092685699463, -0.02763683721423149, -0.04594867303967476, -0.013960191048681736, -0.04842562600970268, 0.03604811802506447, 0.06352084875106812, -0.0039671193808317184, -0.013195091858506203, 0.037028372287750244, -0.012807702645659447, 0.009014134295284748, 0.046472176909446716, 0.04549463465809822, 0.01692070998251438, 0.01958533562719822, -0.09772941470146179, 0.020485324785113335, -0.03647003695368767, 0.002697201445698738, -0.0024678362533450127, 6.636780017288402e-05, 0.03228100389242172, -0.025632860139012337, -0.003282917430624366, 0.009708336554467678, -0.003175656544044614, -0.00011583867308218032, 0.04634609818458557, -0.0158845167607069, 0.06339754164218903, 0.0280477125197649, 0.0034664254635572433, -0.017175136134028435, 0.038799598813056946, 0.03799446299672127, 0.004364121705293655, -0.0700560063123703, 0.052289705723524094, -0.016500793397426605, -0.07001528888940811, -0.048297371715307236, 0.07225945591926575, 0.011167922988533974, -0.05338170751929283, -0.029263099655508995, 0.03918955847620964, 0.04986995458602905, 0.04225700721144676, 0.020084353163838387, 0.01962626725435257, 0.00876794382929802, -0.03714526444673538, -0.004834034945815802, 0.08723411709070206, 0.060430724173784256, 0.05320511758327484, 0.037936512380838394, -0.009680813178420067, -0.027628960087895393, -0.04023265093564987, -0.004594653844833374, -0.001692348625510931, 0.058539167046546936, 0.0035931176971644163, 0.020627666264772415, -0.04717088118195534, -0.016515687108039856, -0.0018366840668022633, -0.028651809319853783, -0.013509501703083515, 0.037118952721357346, 0.0016081742942333221, -0.09843447804450989, -0.06369496136903763, -0.0033143209293484688, -0.01850000023841858, -0.0015499161090701818, 0.05409960448741913, -0.008187095634639263, 0.014091236516833305, 0.017702054232358932, -0.00929888803511858, -0.02027696743607521, 0.05385962128639221, 0.009214974008500576, 0.004684131592512131, 0.04476111754775047, -0.027480989694595337, 0.0030410008039325476, 0.021964937448501587, -0.013144775293767452, -0.06089898943901062, -0.06592821329832077, -0.016066523268818855, 0.041308414191007614, -0.05626397952437401, 0.02599085122346878, 0.023933246731758118, -0.004272329155355692, 0.0928308367729187, 0.030568575486540794, -0.002526608295738697, 0.038443926721811295, -0.00893182773143053, -0.004820767790079117, -0.014202358201146126, 0.030059006065130234, -0.027832020074129105, -0.0027600512839853764, -0.0016230540350079536, 0.005220971070230007, -0.01965327560901642, 0.004214142914861441, -0.0166946891695261, -0.023569971323013306, 0.022578921169042587, -0.015433012507855892, 0.028506143018603325, 0.005536513403058052, 0.03910968825221062, 0.022553525865077972, -0.028016768395900726, 0.003177497535943985, -0.02305682934820652, 0.04755929112434387, -0.005465234629809856, -0.051884789019823074, 0.017530694603919983, 0.003367380239069462, 0.05386878922581673, 0.0069762952625751495, -0.002377177122980356, 0.04510688781738281, 0.05689254030585289, 0.01728089712560177, -0.008368325419723988, -0.0615055151283741, 0.0034602247178554535, 0.03151078522205353, -0.03240799531340599, -0.045728571712970734, -0.02211284078657627, -0.024864861741662025, -0.0368090458214283, -0.021627960726618767, 0.0348266139626503, 0.030834175646305084, 0.008262229152023792, -0.04317392036318779, -0.046671777963638306, 0.08645161241292953, -0.03780322149395943, -0.017548775300383568, -0.007603418547660112, -0.04884062334895134, 0.013160530477762222, -0.059943944215774536, -0.02018074132502079, 0.04488243907690048, 0.0030804071575403214, 0.08533862978219986, 0.011140882037580013, -0.002809434663504362, -0.029105162248015404, -0.062028273940086365, -0.005379818845540285, -0.027623867616057396, -0.010491746477782726, 0.05265200510621071, 0.028155457228422165, -0.033396150916814804, -0.010497653856873512, -0.012651383876800537, 0.03384097293019295, -0.05320950597524643, -0.03341244161128998, 0.006062711589038372, 0.01830919459462166, 0.11237522214651108, 0.05430172383785248, -0.028125666081905365, 0.007932953536510468, -0.00829017348587513, -0.020829185843467712, 0.011597229167819023, -0.029962215572595596, -0.008597981184720993, 0.010444150306284428, -0.012624751776456833, 0.049746908247470856, 0.008092758245766163, -0.009558867663145065, -0.0020727443043142557], 'text': 'inventory, etc. —materially improve after introducing a new AI \\nproduct, that’s what you want to see.  \\nAnother significant risk is public and regulatory backlash against \\nAI technology due to concerns around abuse of these \\ntechnologies in t he areas of bias, disinformation, cybersecurity, \\netc. Just like the internet, general tools like generative AI can \\nbe used for good and for bad, so investment in risk mitigation \\nmust occur alongside investment in innovation. But given the', 'SimilarityScore': 0.7182350610157481}] \n",
      "\n",
      "* new entrants. Regulation can definitely slow innovation down. \n",
      "But it’s also necessary to keep bad actors out. And ultimately, a \n",
      "space rife with bad actors, especially AI where the \n",
      "consequences of bad behavior could be severe, isn’t beneficial \n",
      "to any investor .   \n",
      "Allison Nathan: What risks, then, should investors be \n",
      "concerned about?  \n",
      "Eric Sheridan: The potential for changed computing habits is a risk both if it doesn’t, and does, happen. We’ve lived through \n",
      "[{'id': 'd203ce84-0931-47f7-b181-a23d099b1ded', 'embedding': [-0.049798257648944855, -0.014242470264434814, -0.06490737199783325, 0.013346129097044468, 0.04331577196717262, -0.003998349886387587, 0.016575220972299576, 0.03148340806365013, 0.02077246829867363, 0.03651456534862518, 0.055474258959293365, 0.0004968796274624765, -0.024265144020318985, 0.0035436777397990227, 0.0198381170630455, -0.09149327129125595, -0.0034763531293720007, 0.05684957280755043, 0.006203456316143274, -0.03135518729686737, 0.024171384051442146, -0.005548848770558834, 0.02553759701550007, -0.019291026517748833, -0.01591377519071102, -0.014721960760653019, 0.02919020690023899, -0.06563587486743927, 0.0010774732800200582, 0.04988369345664978, -0.028913741931319237, 0.060335673391819, -0.0396852046251297, 0.03284319490194321, -0.05525630712509155, -0.06048493832349777, -0.007678605150431395, -0.01139870472252369, -0.014267300255596638, -0.005170235875993967, -0.018830114975571632, -0.0694388672709465, -0.07186046242713928, 0.016779402270913124, -0.006423841696232557, -0.01025851909071207, 0.02154715731739998, 0.028813626617193222, -0.0025922844652086496, -0.03702627122402191, 0.02324081026017666, 0.03951432555913925, 0.07134053111076355, -0.02210799790918827, 0.03091958723962307, -0.006369182374328375, 0.07000792026519775, -0.04831305891275406, 0.01598021760582924, -0.005520910490304232, 0.019036447629332542, 0.01778143085539341, -0.009169369004666805, -0.003374658524990082, -0.006705621723085642, -0.04733734205365181, -0.04876263067126274, 0.04462328925728798, 0.05699741095304489, 0.018225660547614098, 0.0041578239761292934, 0.015096643939614296, 0.1271355301141739, 0.0016516577452421188, -0.045650873333215714, -0.08587989211082458, -0.018644429743289948, 0.07177182286977768, 0.008623240515589714, 0.0020767678506672382, 0.01798688806593418, -0.027253443375229836, -0.053456343710422516, -0.07422344386577606, -0.028218867257237434, -0.024451913312077522, 0.001272724592126906, 0.014712410978972912, -0.009959334507584572, 0.031884822994470596, -0.0022135369945317507, 0.014520715922117233, 0.04105212539434433, -0.02450776845216751, -0.023180071264505386, 0.04845723882317543, -0.013167217373847961, -0.03053286112844944, 0.025510283187031746, -0.07534704357385635, -0.0009186682291328907, -0.04514152184128761, -0.04470200464129448, 0.02127554453909397, 0.04380899667739868, 0.0213168915361166, -0.026323089376091957, 0.03478618338704109, 0.0034235045313835144, 0.011221284978091717, -0.027409709990024567, -0.026728656142950058, 0.003910778556019068, -0.023884907364845276, 0.0059513612650334835, -0.05078202113509178, 0.041549429297447205, 0.0967593863606453, 0.0038621705025434494, 0.03992664813995361, 0.050230320543050766, 0.011384330689907074, 0.07568980753421783, 0.0005333522567525506, -0.014705562964081764, 0.00869697518646717, 0.03928452357649803, 0.014501935802400112, 0.046021733433008194, 0.02406744472682476, -0.02470586821436882, -0.02796223945915699, -0.008922388777136803, 0.021327819675207138, 0.05424686148762703, 0.06909001618623734, 0.03065943717956543, -0.02830342948436737, 0.010560722090303898, 0.028291182592511177, -0.002830029698088765, -0.006689881440252066, 0.0014278411399573088, -0.00785188376903534, -0.055026035755872726, 0.02681480348110199, -0.050577957183122635, 0.006670667324215174, 0.02409907802939415, -0.01634913869202137, -0.016710985451936722, 0.014637710526585579, -0.04621567949652672, -0.009975745342671871, 0.018189463764429092, 0.007616104558110237, 0.003028449136763811, 0.03802713751792908, -0.020199928432703018, -0.0043322318233549595, 0.017004817724227905, -0.00612785154953599, 0.02083650603890419, 0.06822966039180756, -0.06480526924133301, -0.019296254962682724, 0.0012438696576282382, -0.003940466791391373, 0.02194787561893463, 0.010051699355244637, -0.0021920599974691868, 0.03435692936182022, -0.048658788204193115, -0.04234253242611885, -0.03379399701952934, -0.07266531884670258, 0.05682558938860893, 0.040707532316446304, -0.020770223811268806, -0.003749681869521737, -0.0136317303404212, -0.03632226213812828, -0.018954411149024963, 0.004594388883560896, 0.007769170682877302, 0.006409483030438423, 0.07020383328199387, -0.060389529913663864, -0.020631881430745125, 0.04029693081974983, 0.0025560848880559206, -0.0060582649894058704, -0.03283826261758804, -0.00784480944275856, -0.01545378565788269, 0.05449266731739044, 0.040090162307024, 0.008357096463441849, 0.04688169062137604, -0.03913792595267296, 0.006251196376979351, 0.06041232496500015, 0.011982155963778496, 0.018700893968343735, 0.04285169020295143, 0.006716092582792044, 0.044463593512773514, 0.019156303256750107, -0.04849717766046524, 0.05444963648915291, -0.04231893643736839, -0.008541097864508629, 0.008860370144248009, 0.020273109897971153, 0.010151076130568981, -0.03472686558961868, 0.047749608755111694, -0.03197352960705757, 0.03265370428562164, -0.013726308941841125, -0.025078855454921722, 0.00636985944584012, -0.03362229838967323, 0.02472863160073757, -0.012856380082666874, 0.06844004988670349, 0.0010315695544704795, -0.004785402212291956, 0.06785673648118973, -0.04783385246992111, -0.01821012608706951, 0.07876087725162506, 0.015079132281243801, 0.0507638081908226, 0.06562092155218124, -0.00865765567868948, 0.0618932843208313, 0.05191297456622124, 0.04850083217024803, 0.026564208790659904, -0.034289103001356125, 0.02043227106332779, 0.019825121387839317, 0.0170657429844141, -0.08769483119249344, -0.021646272391080856, -0.048617422580718994, 0.012559371069073677, 0.012907931581139565, 0.03870170935988426, 0.024139845743775368, -0.05117325857281685, -0.009413347579538822, 0.005083360709249973, -0.08067712932825089, 0.026936039328575134, -0.0691804438829422, -0.03868947923183441, -0.01944488286972046, -0.013871162198483944, 0.01573176681995392, -0.0007670423947274685, -0.006492482032626867, -0.011828090064227581, 0.03689562529325485, -0.03788800910115242, -0.014068897813558578, -0.028885874897241592, -0.003433722071349621, 0.0340297594666481, -0.010290966369211674, -0.02858383022248745, 0.04408568888902664, -0.021009890362620354, 0.02904629334807396, 0.033132314682006836, 0.007178504951298237, 0.04717632383108139, -0.009741341695189476, -0.019878415390849113, 0.011913697235286236, 0.028411995619535446, 0.024917205795645714, -0.034278836101293564, -0.0001575192582095042, 0.009963559918105602, -0.041072335094213486, -0.04510606825351715, -0.007486881222575903, -0.10536075383424759, -0.02974030002951622, -0.022473538294434547, 0.007679943926632404, -0.039809294044971466, -0.06981667876243591, 0.017365189269185066, -0.04465114325284958, -0.012920273467898369, 0.0005491538322530687, -0.01482357457280159, -0.02234484627842903, -0.0589621402323246, 0.0027888610493391752, -0.03203548491001129, 0.013374957256019115, 0.04380413144826889, -0.04085257276892662, -0.054940033704042435, 0.020951613783836365, -0.013873365707695484, 0.008087406866252422, -0.057639528065919876, 0.02867029793560505, -0.024294361472129822, 0.04357881844043732, 0.05754692107439041, -0.03417779877781868, -0.0072565157897770405, 0.004698184318840504, 0.011801167391240597, -0.015104809775948524, 0.002473473781719804, -0.0483739897608757, -0.01863817498087883, -0.03834496811032295, 0.04353746399283409, -0.026490837335586548, 0.017381038516759872, -0.02897847630083561, 0.012985769659280777, -0.004563219379633665, 0.01949555240571499, -0.0561356283724308, -0.004167239647358656, -0.03489488735795021, -0.01875084638595581, -0.043053437024354935, 0.004586893133819103, -0.009334190748631954, 0.017301112413406372, 0.03762882947921753, -0.016212044283747673, 0.0020739121828228235, -0.0668233335018158, 0.02497130259871483, -0.010718795470893383, -0.04741944372653961, 0.009772097691893578, 0.06727632880210876, 0.058501094579696655, 0.026126893237233162, 0.054006509482860565, 0.0008223291370086372, -0.002289846306666732, 0.02453358843922615, -0.03399420157074928, 0.016430146992206573, 0.0037647325079888105, 0.052711814641952515, -0.03621125966310501, -0.05140407755970955, -0.0164459440857172, -0.011578534729778767, -0.002507047029212117, 0.016120126470923424, 0.056664805859327316, -0.013166042044758797, -0.019295981153845787, -0.0068526072427630424, 0.040148261934518814, 0.012193155474960804, -0.02468935400247574, 0.060438286513090134, -0.03682854026556015, 0.015105434693396091, 0.01842322014272213, -0.03859415650367737, 0.00186532165389508, 0.01838523894548416, 0.04482463002204895, -0.04117829352617264, -0.05525975301861763, 0.07255224138498306, 0.06790254265069962, 0.05612426623702049, 0.010186182335019112, 0.03402445837855339, 0.06030755490064621, 0.02015315741300583, -0.0031008534133434296, -0.0008630956872366369, 0.06344270706176758, 0.09049659967422485, -0.035107072442770004, 0.011778069660067558, -0.013062669895589352, 0.02422116883099079, -0.020496001467108727, -0.026782922446727753, -0.0007474786252714694, -0.010913269594311714, -0.05738566070795059, -0.02002757415175438, -0.01712908409535885, -0.0235971137881279, 0.012813163921236992, 0.025067944079637527, -0.05028991773724556, -0.02023724839091301, 0.03364628553390503, 0.05019894614815712, 0.0040563358925282955, 0.01303576584905386, -0.03408897668123245, -0.052506763488054276, -0.04282500594854355, 0.07343683391809464, -0.0221604872494936, -0.03957492485642433, 0.0026683288160711527, -0.05948846787214279, 0.010181794874370098, -0.031941961497068405, 0.009108413010835648, -0.04060722514986992, -0.0004282869049347937, 0.03415849059820175, 0.002889163326472044, 0.043759021908044815, 0.014147250913083553, 0.05278778821229935, -0.002134740585461259, 0.01427789218723774, -0.038573164492845535, 0.007210291922092438, -0.008522698655724525, 0.024583401158452034, 0.016349075362086296, -0.06282489746809006, -0.04908853396773338, -0.002631146227940917, 0.0023203841410577297, 0.0023918915539979935, -0.014303941279649734, -0.04445257410407066, -0.02115248516201973, 0.011117580346763134, -0.020782707259058952, 0.009539922699332237, -0.04660971090197563, 0.03781086206436157, -0.0553777702152729, -0.036915723234415054, -0.04164576902985573, -0.017407545819878578, -0.022030098363757133, -0.014161385595798492, 0.0776703879237175, -0.007492369506508112, 0.005736479070037603, 0.0058842315338552, -0.025533383712172508, -0.021071648225188255, -0.0639583170413971, 0.04986884817481041, -0.05727969482541084, -0.013504697941243649, -0.0342121347784996, -0.008670449256896973, 0.04782929643988609, 0.01935938000679016, -0.051378488540649414, -0.00025474242283962667, -0.016344327479600906, -0.043684232980012894, -0.02555021457374096, -0.05762742459774017, 0.05194210633635521, -0.05167672783136368, -0.025087960064411163, -0.002020592102780938, 0.04315952956676483, -0.007228960283100605, -0.02998155914247036, -0.004633387550711632, -0.0045632305555045605, -0.01620454527437687, -0.017242057248950005, -0.006816732231527567, 0.058576058596372604, 0.03207239508628845, 0.058303844183683395, 0.015414468012750149, -0.05181768536567688, -0.031397078186273575, -0.0709863230586052, -0.03342509642243385, 0.07717756927013397, 0.05698632821440697, 0.05587427690625191, -0.034924112260341644, -0.02762153185904026, -0.021612292155623436, 0.004634191282093525, 0.06286724656820297, -0.042802561074495316, -0.0047814990393817425, -0.044961582869291306, 0.0017778316978365183, 0.023028839379549026, -0.03387482836842537, 0.026593737304210663, 0.0277249738574028, 0.001261926256120205, 0.06555066257715225, -0.04405560716986656, -0.02079755626618862, 0.020099787041544914, 0.06630800664424896, 0.014203446917235851, 0.038699980825185776, 0.010666826739907265, -0.10885508358478546, 0.03350793942809105, 0.007162912283092737, -0.03693234920501709, -0.03422519564628601, 0.014812160283327103, -0.01757238060235977, 0.017198706045746803, 0.005659143440425396, 0.03568674251437187, -0.035636112093925476, 0.031061291694641113, 0.02118811197578907, -0.0160134918987751, 0.028502775356173515, 0.01616896130144596, -0.027904486283659935, -0.012360055930912495, -0.005104065872728825, -0.0211403239518404, 0.03234625235199928, 0.025828327983617783, -0.03759553283452988, -0.008825390599668026, 0.009302292950451374, -0.06623804569244385, 0.05277302488684654, -0.017507795244455338, -0.05781673640012741, -0.0004313576500862837, 0.05168483406305313, -0.007246912457048893, 0.027470998466014862, -0.02342047356069088, -0.001204799860715866, 0.018764622509479523, 0.05059041455388069, 0.011630956083536148, -0.007068168371915817, 0.02433306910097599, 0.018480829894542694, 0.032196059823036194, 0.035764433443546295, -0.003719664178788662, -0.008856933563947678, -0.017779754474759102, 0.01928037405014038, -0.035193782299757004, -0.03218479081988335, -0.005955044645816088, 0.019358864054083824, 0.0028993210289627314, 0.04802081733942032, -0.025521937757730484, -0.044309910386800766, -0.02799883484840393, -0.04216264560818672, 0.039187707006931305, 0.03913218528032303, 0.006709252018481493, -0.00650401134043932, 0.018928656354546547, -0.0025469555985182524, -0.02275613322854042, 0.041770078241825104, 0.06101684644818306, 0.022040823474526405, 0.027644138783216476, -0.03756547346711159, 0.038227006793022156, -0.02091255784034729, 0.02317967638373375, -0.0056866975501179695, 0.031534526497125626, 0.03897678479552269, -0.02646092139184475, 0.004403089638799429, 0.023164324462413788, 0.020370706915855408, -0.022115999832749367, 0.06108387932181358, -0.04831348732113838, 0.052435074001550674, -0.0036227263044565916, -0.010669699870049953, -0.03327643498778343, 0.01549347024410963, 0.04714446887373924, -0.019327901303768158, -0.040624190121889114, 0.06279148906469345, -0.025051584467291832, -0.032894834876060486, -0.03712353855371475, 0.08984003216028214, 0.030322646722197533, -0.029717277735471725, -0.010125573724508286, 0.026023462414741516, 0.024329079315066338, 0.021348265931010246, 0.051665570586919785, 0.04820958897471428, 0.005805536173284054, -0.045062098652124405, 0.010715237818658352, 0.10008054226636887, 0.04571489244699478, 0.03503536805510521, 0.024366751313209534, 0.006233372259885073, -0.003368693171069026, -0.07343742251396179, -0.004232525359839201, -0.0064598387107253075, 0.018975326791405678, -0.0032046884298324585, 0.02985469624400139, -0.02770538441836834, 0.00032427895348519087, -0.027717527002096176, -0.043221428990364075, 0.00271194102242589, 0.02644781582057476, 0.044614966958761215, -0.06309404224157333, -0.0588390976190567, 0.013922855257987976, -0.06014443561434746, 0.003909608349204063, 0.05090926215052605, -0.011380027048289776, 0.00023474196495953947, 0.002523538190871477, 0.012295110151171684, -0.0781947523355484, 0.02624211460351944, -0.01590767875313759, -0.0050390949472785, 0.0049162996001541615, -0.008585569448769093, -0.01967117004096508, 0.0064522139728069305, -0.06429512053728104, -0.049616482108831406, -0.05591819807887077, 0.003450833261013031, 0.030286310240626335, -0.0569656603038311, 0.032727282494306564, 0.023382650688290596, -0.024244017899036407, 0.08605201542377472, 0.005619783420115709, -0.00176552077755332, 0.04632555693387985, -0.024030141532421112, -0.018790187314152718, -0.031189333647489548, 0.030595900490880013, -0.011734460480511189, -0.022236276417970657, -0.011387206614017487, 0.009221989661455154, -0.01671336218714714, -0.012280347757041454, -0.02952144294977188, -0.013972404412925243, 0.01582314260303974, -0.00567748723551631, 0.020631790161132812, 0.0350460521876812, 0.03150947019457817, 0.006344316527247429, -0.040578693151474, 0.0019179711816832423, -0.031226584687829018, 0.00694296695291996, -0.04082868993282318, -0.07379306107759476, -0.014836994931101799, 0.020479286089539528, 0.03720051050186157, -0.01836596056818962, -0.02028740756213665, 0.03659527748823166, 0.04115599766373634, 0.041240137070417404, 0.033557645976543427, -0.06258643418550491, 0.012248550541698933, 0.029159467667341232, -0.010619749315083027, -0.024469302967190742, -0.018283376470208168, -0.02563251554965973, -0.00687786377966404, -0.01405638549476862, 0.04724826663732529, 0.0010097578633576632, 0.030405299738049507, -0.030541183426976204, -0.06667084991931915, 0.0858982652425766, -0.10120977461338043, -0.006785694509744644, 0.00550011545419693, -0.048480164259672165, 0.01431614626199007, -0.07266223430633545, -0.05450346693396568, 0.004609956406056881, -0.011675735004246235, 0.07955450564622879, -0.013791825622320175, 0.02414260245859623, -0.020015833899378777, -0.0888298749923706, -0.013487040996551514, -0.02851884439587593, -0.004715275950729847, 0.08108752220869064, 0.049188219010829926, -0.03951369225978851, 0.0031052909325808287, -0.04149836674332619, 0.012502962723374367, -0.0753910169005394, -0.03365987166762352, -0.013555899262428284, -0.0049171349965035915, 0.11315682530403137, 0.03902444988489151, -0.019551130011677742, 0.04415754973888397, 0.004877903498709202, -0.028706619516015053, 0.008224274963140488, -0.03883514925837517, -0.026247765868902206, -0.00841484870761633, 0.010724485851824284, 0.026738662272691727, 0.007661391515284777, -0.01706524007022381, 0.03802192956209183], 'text': 'new entrants. Regulation can definitely slow innovation down. \\nBut it’s also necessary to keep bad actors out. And ultimately, a \\nspace rife with bad actors, especially AI where the \\nconsequences of bad behavior could be severe, isn’t beneficial \\nto any investor .   \\nAllison Nathan: What risks, then, should investors be \\nconcerned about?  \\nEric Sheridan: The potential for changed computing habits is a risk both if it doesn’t, and does, happen. We’ve lived through', 'SimilarityScore': 0.7149395109672909}] \n",
      "\n"
     ]
    }
   ],
   "source": [
    "search_vstore(\"what are the risks of AI?\", cosmos_db)"
   ]
  },
  {
   "cell_type": "code",
   "execution_count": 35,
   "metadata": {},
   "outputs": [
    {
     "name": "stdout",
     "output_type": "stream",
     "text": [
      "Documents to insert: 7.\n",
      "Inserted 7 documents.\n"
     ]
    }
   ],
   "source": [
    "insert_data(md_chunks, cosmos_db)"
   ]
  },
  {
   "cell_type": "code",
   "execution_count": 36,
   "metadata": {},
   "outputs": [
    {
     "name": "stdout",
     "output_type": "stream",
     "text": [
      "* History\n",
      "\n",
      "The first World Cup was held in 1930 in Uruguay, with the host nation emerging as the champions. Since then, the tournament has grown significantly in size and popularity. Originally featuring just 13 teams, the World Cup now includes 32 teams in the final tournament, with plans to expand to 48 teams in the near future.\n",
      "\n",
      "Format\n",
      "\n",
      "The World Cup is divided into two main stages: \n",
      "[{'id': '200b0788-22a6-44bc-b517-cc8e6e59bebd', 'embedding': [0.05687127634882927, -0.044950079172849655, -0.08449845761060715, -0.007109180558472872, 0.02278314344584942, 0.050022922456264496, 0.027620889246463776, -0.022218625992536545, 0.007175700273364782, 0.06564831733703613, -0.028561297804117203, 0.04098201543092728, 0.019916323944926262, 0.03842863067984581, -0.016354287043213844, -0.004110174253582954, -0.012827101163566113, 0.049804940819740295, -0.006501531694084406, -0.008129394613206387, -0.007895036600530148, 0.021091509610414505, -0.005252905655652285, 0.017993811517953873, -0.019087428227066994, -0.04135347157716751, 0.02250506542623043, -0.028934411704540253, -0.018532566726207733, 0.042500268667936325, -0.03209323436021805, 0.026969008147716522, -0.005783150438219309, 0.008177847601473331, 0.023333031684160233, -0.039011865854263306, -0.043378982692956924, 0.040315400809049606, -0.0400853306055069, 0.05767054110765457, -0.008741280063986778, -0.03910669684410095, -0.04579328000545502, 0.024687595665454865, -0.013058854267001152, 0.012957138940691948, -0.04005974903702736, 0.037921443581581116, 0.02174808643758297, -0.02019635960459709, 0.006077553611248732, 0.006965533830225468, 0.06369952857494354, -0.010954662226140499, -0.008473291993141174, -0.03875160589814186, 0.019983559846878052, -0.07101095467805862, -0.023165211081504822, -0.002379521494731307, -0.005844964645802975, 0.005067999474704266, 0.0036370183806866407, 0.009687080979347229, -0.04351866617798805, -0.04146070405840874, -0.040260132402181625, 0.05212440341711044, 0.043461915105581284, -0.027752932161092758, 0.040382932871580124, -0.07930846512317657, 0.03352924436330795, 0.01690216176211834, -0.03200656920671463, -0.08457927405834198, 0.020907990634441376, 0.06455215811729431, 0.0167576652020216, -0.02448781579732895, 0.0010536249028518796, -0.07035030424594879, -0.024014169350266457, -0.02101450227200985, -0.0367378294467926, 0.012666000984609127, -0.038503196090459824, -0.007369396276772022, -0.04716990888118744, 0.07909580320119858, -0.008422729559242725, 0.0028288057073950768, 0.07375230640172958, -0.04339678958058357, -0.0376594252884388, 0.05947346240282059, -0.0125411506742239, -0.03413204848766327, 0.05198795720934868, -0.03666612133383751, -0.032729484140872955, -0.04613875970244408, -0.08771137148141861, 0.05020175874233246, 0.056256212294101715, 0.022023018449544907, -0.04144465550780296, 0.01018157135695219, -0.0076616988517344, 0.02679246850311756, -0.06568380445241928, 0.020303674042224884, 0.016435477882623672, 0.00914586242288351, 0.04617740213871002, -0.022520484402775764, 0.012889166362583637, 0.05559665709733963, -0.00751305790618062, 0.08118395507335663, 0.004413624294102192, 0.007199041545391083, 0.04699382558465004, -0.022982141003012657, 0.018907925114035606, -0.005825737491250038, 0.01697821170091629, 0.048063963651657104, -0.013720767572522163, 0.00412708567455411, 0.005818009842187166, -0.024680161848664284, -0.04062847048044205, -0.02255984954535961, 0.02139468863606453, 0.11190345138311386, 0.06419859826564789, -0.009814931079745293, 0.014868169091641903, -0.007549561094492674, -0.0045067439787089825, 0.013656344264745712, 0.05936378613114357, 0.03824404254555702, -0.039298225194215775, 0.02943258546292782, -0.034230902791023254, 0.00010407271474832669, 0.05270864814519882, -0.01791328564286232, -0.01062103547155857, 0.020312247797846794, -0.03999366983771324, -0.039863985031843185, 0.03764130920171738, 0.027626097202301025, -0.04747145622968674, 0.02480626478791237, 0.0344814658164978, 0.025545930489897728, 0.027629906311631203, -0.024112079292535782, 0.006762045901268721, -0.001116049475967884, -0.01660412922501564, -0.007967383600771427, 0.0011320303892716765, -0.04369296878576279, 0.03353748098015785, 0.02296052686870098, -0.03966908156871796, 0.032303668558597565, -0.03740464895963669, -0.044122107326984406, 0.051323000341653824, -0.02102513052523136, 0.052647512406110764, 0.009266297332942486, -0.04063866287469864, -0.0015144164208322763, 0.040159571915864944, -0.03606302663683891, 0.035246994346380234, -0.0026863943785429, 0.023343738168478012, -0.016115935519337654, 0.0482722632586956, 0.011571070179343224, -0.01686987839639187, 0.05713453143835068, -0.013509923592209816, -0.003598358714953065, -0.05332641303539276, -0.03905240818858147, -0.04311605170369148, 0.06454698741436005, 0.008628027513623238, 0.020510513335466385, 0.03288636729121208, -0.02180647663772106, -0.002680438570678234, 0.058895789086818695, -0.002318736631423235, -0.038152530789375305, 0.04932262375950813, 0.033262576907873154, 0.04628309607505798, -0.06690843403339386, -0.015757214277982712, 0.03801447153091431, -0.004927390720695257, 0.016249995678663254, -0.014222410507500172, 0.0324598103761673, 0.0006252755410969257, -0.024581050500273705, 0.02360999770462513, 0.012467600405216217, 0.02681039460003376, -0.02685679867863655, -0.026601595804095268, 0.05011278763413429, -0.035334497690200806, 0.03199083358049393, -0.02038714848458767, 0.016133833676576614, -0.019758621230721474, 0.012005633674561977, 0.0027382338885217905, -0.04434409737586975, -0.029308462515473366, 0.09490978717803955, 0.014953386969864368, 0.024487363174557686, 0.05289515480399132, -0.002979845739901066, 0.0067191473208367825, 0.02587982267141342, 0.04340916499495506, 0.05563855543732643, -0.06874273717403412, 0.014482884667813778, 0.04809712618589401, 0.019964145496487617, -0.05601588636636734, -0.04785503074526787, -0.01912754960358143, 0.04961675778031349, 0.021573882550001144, 0.061098676174879074, -0.038879457861185074, -0.014720426872372627, 0.010974545031785965, 0.037007130682468414, -0.0937282145023346, 0.039038531482219696, -0.01668202131986618, 0.015173978172242641, -0.0803801491856575, 0.013470637612044811, 0.08818546682596207, 0.049179304391145706, 0.01038987748324871, 0.0008992979419417679, -0.04715835303068161, -0.04886995255947113, 0.0038414860609918833, -0.015580927021801472, 0.019982866942882538, 0.05099114403128624, 0.01835430972278118, -0.04675313085317612, 0.02903754636645317, 0.047347620129585266, 0.022449005395174026, 0.02358286827802658, -0.02122442238032818, 0.03140716999769211, 0.03418438136577606, 0.015307294204831123, 0.005890377331525087, 0.002815444488078356, 0.011563368141651154, 0.0032682986930012703, -0.03176117688417435, -0.05225780978798866, -0.046638213098049164, -0.03016451746225357, 0.0344061553478241, -0.02256537228822708, -0.03277619928121567, -0.033553849905729294, 0.0012989956885576248, -0.049880724400281906, -0.08545774966478348, -0.008368151262402534, 0.02485802210867405, 0.05499698594212532, 0.007684124633669853, -0.031646180897951126, -0.00959919486194849, -0.02622545138001442, 0.013360720127820969, -0.09398876875638962, -0.01140853576362133, 0.019196780398488045, -0.0011529732728376985, 0.0003832984366454184, 0.012117911130189896, 0.014912241138517857, 0.02436687983572483, -0.03258029371500015, -0.02554130181670189, -0.017114821821451187, 0.03582771122455597, 0.07063852995634079, -0.005944235250353813, 0.0007377538713626564, -0.006169920787215233, 0.03084944374859333, 0.04375535622239113, 0.08856956660747528, 0.021602535620331764, 0.007755252532660961, 0.010988832451403141, 0.04459574073553085, 0.025783345103263855, 0.022137273102998734, -0.007353711407631636, 0.003965380135923624, -0.06773588806390762, -0.009152420796453953, -0.04954240843653679, 0.01919606514275074, 0.0208195261657238, 0.041924938559532166, -0.08227115124464035, -0.0007932470762170851, -0.06153609976172447, -0.00988405104726553, 0.01600390300154686, 0.024808816611766815, -0.02603532373905182, 0.0022499056067317724, -0.006016074679791927, 0.007093322463333607, -0.06607311964035034, 0.04176107421517372, 0.08398062735795975, 0.039994947612285614, -0.030293794348835945, 0.06573829054832458, -0.017640944570302963, 0.06689127534627914, 0.030833933502435684, -0.004769403487443924, 0.05372784286737442, -0.05262233689427376, 0.03653012961149216, -0.06508638709783554, -0.012902287766337395, 0.009377050213515759, 0.010243238881230354, -0.04462737590074539, -0.03704339265823364, -0.017915839329361916, -0.025848129764199257, 0.03977793827652931, 0.010696138255298138, 0.029570678249001503, 0.009416347369551659, -0.0063330563716590405, 0.006965151056647301, -0.055320873856544495, 0.029366448521614075, 0.029184207320213318, -0.04657355323433876, -0.017802150920033455, -0.005768781527876854, 0.03398992866277695, -0.048506446182727814, 0.011713860556483269, 0.05706024914979935, 0.028072107583284378, -0.002615775214508176, -0.00923843588680029, 0.013486921787261963, 0.05227748304605484, -0.050267718732357025, 0.03137253597378731, -0.05430721119046211, 0.02853783406317234, 0.1061767041683197, 0.012719453312456608, -0.008537692949175835, -0.0596177875995636, -0.03214222937822342, -0.0243750661611557, 0.03082117810845375, 0.03677293658256531, -0.04488324001431465, -0.06634930521249771, -0.02720126137137413, -0.01543431356549263, -0.029807450249791145, 0.032773301005363464, -0.004684699233621359, 0.004677338059991598, -0.0207426268607378, 0.021832449361681938, 0.006280520465224981, -0.004558577202260494, 0.01321767270565033, 0.018491102382540703, -0.07822426408529282, -0.0005759705090895295, 0.0001590756728546694, -0.025707727298140526, 0.01369567308574915, 0.02141903154551983, 0.007892785593867302, -0.021715203300118446, -0.0009384650038555264, 0.01865747757256031, -0.06135716289281845, -0.04041430354118347, -0.008383657783269882, 0.026127560064196587, 0.018479736521840096, -0.011019052937626839, 0.042067963629961014, -0.043311186134815216, 0.005929609760642052, -0.027202891185879707, 0.008339332416653633, -0.03817586228251457, 0.01329556293785572, 0.0682746171951294, -0.01725517399609089, 0.03038996271789074, 0.025174517184495926, -0.014713349752128124, 0.0009247863199561834, -0.037392254918813705, -0.04830166697502136, -0.04014218971133232, -0.023491354659199715, -0.03951752930879593, 0.028912678360939026, -0.05775747820734978, 0.04542922228574753, -0.06148770451545715, -0.060571763664484024, -0.03590632230043411, -0.04977918416261673, -0.029961487278342247, 0.013516301289200783, 0.0566987469792366, -0.04498165100812912, -0.007434078957885504, 0.02912045083940029, -0.009580972604453564, 0.03637439012527466, -0.08220162987709045, 0.02029155194759369, 0.005687922239303589, 0.016563795506954193, -0.02115578204393387, -0.026485227048397064, 0.004449754022061825, 0.014110111631453037, -0.01849357597529888, -0.024458739906549454, -0.011195789091289043, -0.005287628620862961, -0.04423585906624794, -0.03012106381356716, 0.017000539228320122, -0.048348136246204376, -0.027393292635679245, -0.013915433548390865, -0.003653617575764656, 0.03391518443822861, 0.04211380332708359, -0.00541939539834857, 0.06941081583499908, 0.02273891307413578, -0.0013274119701236486, -0.035368382930755615, 0.05379823222756386, -0.00898880697786808, 0.0016848088707774878, -0.013701515272259712, -0.020045584067702293, 0.015883352607488632, 0.01773717626929283, -0.014559123665094376, 0.0459020771086216, 0.01610785350203514, 0.01593165658414364, -0.010217060334980488, -0.021600954234600067, -0.017335861921310425, 0.025897974148392677, 0.052534397691488266, -0.0664888322353363, -0.002170736435800791, 0.009221132844686508, -0.03901131823658943, 0.022818587720394135, 0.026448773220181465, 0.06464309990406036, -0.010258321650326252, -0.010825281962752342, 0.029310420155525208, -0.0017079550307244062, -0.00626705726608634, 0.07530491799116135, 0.028335103765130043, -0.00011343555524945259, -0.002844611881300807, 0.018665650859475136, -0.08664335310459137, 0.030610019341111183, 0.0005430458695627749, -0.025870783254504204, -0.006734705995768309, 0.048469316214323044, -0.04403465613722801, 0.04245661571621895, -0.01932116039097309, 0.04613124951720238, -0.02539891190826893, 0.022126981988549232, 0.03140999749302864, -0.026770005002617836, 0.023915844038128853, 0.03432903811335564, 0.035952284932136536, -0.034129220992326736, 0.03498852252960205, 0.02089633047580719, 0.03741325065493584, 0.05135608837008476, -0.01970001310110092, 0.02519805170595646, -0.03528277575969696, -0.06814499944448471, 0.03419748321175575, -0.017126865684986115, -0.013484539464116096, -0.006114935036748648, 0.004345181863754988, -0.04229125753045082, 0.050798263400793076, -0.00481492979452014, 0.019573204219341278, 0.014448234811425209, -0.01112276129424572, -0.03393491357564926, -0.0566825270652771, 0.04981831833720207, 0.01755782775580883, -0.01594267599284649, 0.06001753360033035, 0.022635677829384804, -0.0351032093167305, -0.06883952766656876, 0.07062985748052597, -0.03188887983560562, -0.03964252397418022, -0.007775556296110153, 0.019000064581632614, 0.005463413428515196, 0.02097739465534687, -0.03619566559791565, -0.0016174920601770282, -0.013449802063405514, -0.010015479288995266, -0.01607120782136917, 0.02439838834106922, 0.04034837707877159, 0.026343395933508873, 0.03668652102351189, 0.01848701760172844, -0.02059238962829113, 0.05445569008588791, 0.06921752542257309, 0.01585308276116848, -0.0031195790506899357, -0.01063032727688551, 0.09298163652420044, -0.03368154913187027, 0.008979464881122112, 0.04814588278532028, 0.040289830416440964, 0.008916421793401241, -0.044969070702791214, -0.07286994904279709, -0.004617206286638975, 0.0186864472925663, -0.04085038602352142, 0.01051628589630127, -0.006753134541213512, -0.006017157342284918, -0.010973164811730385, 0.04304942861199379, 0.02248404361307621, -0.02199329435825348, 0.030497312545776367, -0.04595392197370529, -0.027656372636556625, -0.0006455270340666175, -0.029485948383808136, -0.030606400221586227, -0.046998266130685806, 0.06974539905786514, 0.007290582172572613, 0.011570341885089874, -0.012789356522262096, -0.023759661242365837, 0.009257768280804157, 0.0064316438511013985, 0.007398194633424282, 0.00046911381650716066, 0.03232641518115997, -0.0020512472838163376, -0.028323043137788773, 0.048305168747901917, 0.02008732594549656, 0.0568050742149353, 0.05957325920462608, -0.020465336740016937, -0.006887923460453749, -0.054202768951654434, -0.008675872348248959, -0.056852277368307114, 0.021144689992070198, 0.026779813691973686, 0.007084590848535299, -0.07730241864919662, -0.009622395969927311, 0.04076657071709633, -0.020283609628677368, 0.014502723701298237, 0.08791050314903259, 0.009036309085786343, -0.05061525106430054, -0.07531673461198807, -0.013297280296683311, -0.05518649145960808, 0.01660381257534027, 0.014804043807089329, 0.0016105716349557042, 0.03736681863665581, -0.013566208072006702, 0.009286698885262012, -0.029312660917639732, 0.030771972611546516, 0.01753140613436699, -0.04369453340768814, -0.014797846786677837, -0.027065804228186607, 0.015423828735947609, -0.0003112662525381893, -0.011271093972027302, -0.060989730060100555, -0.07554391771554947, -0.018306046724319458, 0.05922963097691536, -0.07944239675998688, -0.0031667938455939293, 0.029981594532728195, 0.0017041827086359262, 0.03226239234209061, -0.014597945846617222, -0.013325908221304417, 0.021271932870149612, 0.04717988520860672, 0.022880902513861656, -0.015629423782229424, 0.0012275332119315863, -0.035026915371418, 0.04813942313194275, -0.019703751429915428, 0.04627121239900589, 0.03583486005663872, 0.007505727931857109, -0.048243701457977295, -0.019051220268011093, -0.012479901313781738, 0.016355440020561218, -0.014100107364356518, 0.034537944942712784, 0.034938983619213104, -0.0023161708377301693, 0.06156614422798157, -0.02054532803595066, 0.0008862311951816082, 0.011386750265955925, -0.004738682880997658, -0.011715993285179138, -0.04393276199698448, 0.02422897145152092, 0.05275720730423927, 0.02516917884349823, 0.02391819655895233, 0.026536792516708374, 0.040168192237615585, 0.017651092261075974, 0.014381714165210724, -0.053160473704338074, -0.009504643268883228, 0.03974878415465355, -0.005931553430855274, -0.049779295921325684, 0.03810916841030121, 0.0330880768597126, -0.020925266668200493, 0.08343096077442169, 0.025733118876814842, 0.032604433596134186, 0.008234615437686443, -0.043419115245342255, -0.05748673155903816, 0.07483529299497604, -0.0573216937482357, 0.0306133683770895, 0.01328606903553009, 0.04535514861345291, 0.0769399106502533, 0.023017944768071175, -0.028882047161459923, 0.005833781324326992, -0.008429277688264847, 0.1114153042435646, 0.010028575547039509, 0.03548877313733101, 0.011332862079143524, -0.07319863140583038, -0.035474538803100586, -0.00622864393517375, -0.050192639231681824, 0.04821576550602913, 0.04070200398564339, -0.014702903106808662, -0.046571481972932816, -0.043282005935907364, 0.0401386134326458, -0.034392885863780975, -0.05068078264594078, -0.008429908193647861, -0.017578760161995888, -0.01074620895087719, 0.04911210015416145, 0.021654095500707626, -0.01688649319112301, -0.01911449246108532, -0.010641121305525303, 0.0076849618926644325, 0.002903118496760726, -0.03242350369691849, 0.0032560317777097225, 0.011760125868022442, 0.0015169744146987796, 0.014214291237294674, -0.0036352048628032207, -0.020620036870241165], 'text': 'History\\n\\nThe first World Cup was held in 1930 in Uruguay, with the host nation emerging as the champions. Since then, the tournament has grown significantly in size and popularity. Originally featuring just 13 teams, the World Cup now includes 32 teams in the final tournament, with plans to expand to 48 teams in the near future.\\n\\nFormat\\n\\nThe World Cup is divided into two main stages:', 'SimilarityScore': 0.6053021790058243}] \n",
      "\n",
      "* Format\n",
      "\n",
      "The World Cup is divided into two main stages:\n",
      "\n",
      "Qualification: This stage occurs over the three years preceding the tournament, with national teams competing within their respective confederations (e.g., UEFA, CONMEBOL, AFC) to secure a spot in the finals.\n",
      "\n",
      "Final Tournament: Held over approximately one month, the final tournament features: \n",
      "[{'id': 'f925f11c-6d45-441c-9d4e-07d3a65a4fd2', 'embedding': [0.05547088757157326, -0.04123633727431297, -0.07566624134778976, -0.001653525629080832, 0.023452408611774445, 0.03044397570192814, 0.044421374797821045, -0.018526386469602585, 0.001918513560667634, 0.055453404784202576, -0.013493571430444717, 0.03018486686050892, 0.02270260639488697, 0.029987959191203117, -0.03814026340842247, -0.004052676726132631, -0.020161403343081474, 0.03005347028374672, -0.01608881540596485, -0.037125490605831146, 0.018356896936893463, 0.024964744225144386, 0.0018300671363249421, -0.01796206645667553, -0.0043363808654248714, -0.06042376905679703, 0.008079824969172478, -0.030973494052886963, -0.02833894081413746, 0.03211051970720291, -0.04345649480819702, 0.035422228276729584, 0.00247370358556509, 0.02770673669874668, 0.0202735997736454, -0.034415923058986664, -0.031713083386421204, 0.04885962978005409, -0.04908894747495651, 0.07110666483640671, -0.030015520751476288, -0.03667031228542328, -0.02418885938823223, 0.023553306236863136, 0.0014425419503822923, 0.022723766043782234, -0.0567607544362545, 0.06134994700551033, 0.01962731033563614, -0.026527561247348785, 0.0019121437799185514, 0.004725238308310509, 0.0766649916768074, -0.006154433358460665, -0.03231232240796089, -0.03981702774763107, 0.0046227239072322845, -0.06175030767917633, -0.012775924988090992, -0.003690465120598674, -0.011006562039256096, -0.01587139256298542, 0.02278759703040123, 0.036596089601516724, -0.03716783970594406, -0.038174401968717575, -0.04804987087845802, 0.05232385918498039, 0.050825752317905426, -0.058633506298065186, 0.03391718864440918, -0.06517723202705383, 0.025344621390104294, 0.015587758272886276, -0.026528039947152138, -0.09682571142911911, 0.03054320067167282, 0.04924723133444786, 0.01921694353222847, -0.008332306519150734, -0.0002637018042150885, -0.05431220680475235, -0.042541343718767166, -0.006243300158530474, -0.053952209651470184, 0.01960122399032116, -0.04020146280527115, -0.013647641986608505, -0.042419373989105225, 0.09102459251880646, -0.026174383237957954, -0.0038552756886929274, 0.09460084140300751, -0.062261175364255905, -0.025425737723708153, 0.02519850991666317, -0.01276976615190506, -0.060189660638570786, 0.05237158387899399, -0.02888316847383976, -0.021648727357387543, -0.0555553212761879, -0.08069566637277603, 0.03785129636526108, 0.03762448579072952, 0.0022638635709881783, -0.022095177322626114, 0.009419761598110199, 0.0029983464628458023, 0.0627487376332283, -0.05552944540977478, 0.020659388974308968, 0.0008806232362985611, -0.014038252644240856, 0.05751243978738785, -0.0073015023954212666, 0.005606879945844412, 0.037807900458574295, -0.005482356995344162, 0.05813784897327423, 0.004849599674344063, 0.01965133473277092, 0.027812816202640533, -0.03342411294579506, 0.0117857176810503, 0.004271407146006823, 0.01245184801518917, 0.029049083590507507, -0.01318205613642931, 0.025248365476727486, -0.005443825386464596, -0.04260576516389847, -0.04071548581123352, -0.0347771979868412, 0.022967763245105743, 0.10027085244655609, 0.05882621556520462, 0.016925470903515816, 0.03568793088197708, -0.01193043403327465, -0.017994310706853867, 0.01592356339097023, 0.0257249902933836, 0.04052896425127983, -0.03798360377550125, 0.039055801928043365, -0.016353843733668327, 0.012475871481001377, 0.054121024906635284, -0.0014727232046425343, -0.011211545206606388, -0.0012420262210071087, -0.013631956651806831, -0.007292645517736673, 0.034562915563583374, 0.03022093139588833, -0.03619096428155899, 0.0031490304972976446, 0.0276283398270607, 0.030620045959949493, 0.02065292000770569, -0.029080180451273918, -0.006336394231766462, 0.009802433662116528, 0.01925603114068508, 0.009770234115421772, 0.007219043094664812, -0.01210396271198988, 0.025876754894852638, 0.0571761354804039, -0.0514167919754982, 0.010107641108334064, -0.04942338541150093, -0.028092827647924423, 0.04899311065673828, -0.010124809108674526, 0.06026406213641167, -0.003196972655132413, -0.035428307950496674, -0.020928706973791122, 0.02292121760547161, -0.048681244254112244, 0.024524087086319923, -0.018159443512558937, 0.011944667436182499, -0.018819233402609825, 0.049381453543901443, 0.009825174696743488, -0.022950420156121254, 0.06181548535823822, -0.017852669581770897, -0.013654801994562149, -0.07518310844898224, -0.010007381439208984, -0.03321915864944458, 0.038714904338121414, 0.0001904142409330234, 0.02724132128059864, 0.03818013146519661, -0.02783978171646595, -0.010852326638996601, 0.08044103533029556, -0.0009958141017705202, -0.006969633046537638, 0.05145953223109245, 0.02333829365670681, 0.062248796224594116, -0.05394623428583145, -0.019962431862950325, 0.05418959632515907, -0.00039171252865344286, 0.000892081530764699, -0.006969874259084463, 0.036704324185848236, 0.013780878856778145, -0.0184062160551548, 0.04236181825399399, 0.029608914628624916, 0.0331612154841423, -0.04019978642463684, 0.003855668241158128, 0.06023888662457466, -0.04594762250781059, 0.02931775152683258, 0.000503390037920326, 0.001764931483194232, -0.019178276881575584, -0.006011113058775663, 0.0016145874978974462, -0.032981306314468384, -0.017382454127073288, 0.10697957873344421, 0.01522063184529543, 0.013836897909641266, 0.0442565493285656, -0.006226081866770983, -0.01130493450909853, 0.035292334854602814, 0.04924047738313675, 0.06073405593633652, -0.06362403929233551, 0.033861298114061356, 0.05684667080640793, 0.03950546681880951, -0.041405871510505676, -0.03850574791431427, -0.02077275514602661, 0.035446397960186005, -0.004345623776316643, 0.0433916337788105, -0.05662381276488304, -0.014502364210784435, 0.017326828092336655, 0.029218314215540886, -0.08551804721355438, 0.03616883605718613, -0.006654214113950729, -0.01422919426113367, -0.0881577581167221, 0.013117444701492786, 0.06064596027135849, 0.05804203450679779, 0.011512383818626404, -0.018006719648838043, -0.04947945848107338, -0.04930901899933815, 0.02481979876756668, 0.017812030389904976, -0.00417926674708724, 0.01884191669523716, 0.01606719195842743, -0.04294615238904953, 0.022330252453684807, 0.0648256316781044, 0.006176602095365524, 0.02602178044617176, -0.030957737937569618, 0.031201710924506187, 0.05744830146431923, 0.013786783441901207, 0.016253354027867317, 0.006148559506982565, 0.028652526438236237, -6.142607162473723e-06, -0.01737501472234726, -0.042847003787755966, -0.022627437487244606, -0.017974311485886574, -0.0055526928044855595, -0.028822487220168114, -0.02071562223136425, -0.040331993252038956, -0.01642291061580181, -0.030459661036729813, -0.05844120681285858, -0.01868533343076706, 0.0051607899367809296, 0.07227034866809845, 0.03780857101082802, -0.022976187989115715, 0.01529843918979168, -0.03616204857826233, 0.006998625583946705, -0.10005918145179749, 0.011845212429761887, 0.019345561042428017, -0.005433628801256418, 0.024176504462957382, 0.021889913827180862, 0.004037769511342049, 0.016904566437005997, -0.022399969398975372, -0.012331374920904636, -0.021196361631155014, 0.05356826260685921, 0.0733952447772026, -0.022047942504286766, -0.0017189731588587165, -8.760711352806538e-05, 0.0367010235786438, 0.028179362416267395, 0.07452308386564255, 0.017710547894239426, 0.020653467625379562, -0.000626214372459799, 0.03542812913656235, 0.027992747724056244, -0.0004686079628299922, -0.028047924861311913, 0.015676461160182953, -0.053276170045137405, -0.012852014042437077, -0.01759796217083931, 0.023748667910695076, 0.03232113644480705, 0.030203968286514282, -0.07917745411396027, -0.006054377648979425, -0.04682714864611626, -0.010026496835052967, 0.024365972727537155, 0.010878766886889935, -0.021873345598578453, -0.01168341189622879, -0.010199096985161304, -0.011824529618024826, -0.047298233956098557, 0.018650971353054047, 0.09310600161552429, 0.03598523512482643, -0.00826358888298273, 0.06374435126781464, -0.01858772337436676, 0.05659352242946625, 0.020717747509479523, -0.008593468926846981, 0.0632866621017456, -0.053017303347587585, 0.023524781689047813, -0.06031298264861107, 0.02072669193148613, -0.001770090195350349, 0.007594098336994648, -0.021486137062311172, -0.023667866364121437, -0.013195366598665714, -0.02774321660399437, 0.06321442127227783, 0.010924147441983223, 0.017770828679203987, 0.01820981502532959, -0.00028683841810561717, 0.004546241369098425, -0.0421275869011879, 0.016021667048335075, 0.052391503006219864, -0.03821822628378868, -0.0205172598361969, 0.00020489629241637886, 0.03654840216040611, -0.0417616181075573, -0.002668434986844659, 0.03439874202013016, 0.013977129943668842, 0.015747442841529846, -0.01491684839129448, -0.0038473347667604685, 0.028840426355600357, -0.028070323169231415, 0.036309514194726944, -0.05590370297431946, 0.0432455837726593, 0.10137484222650528, -0.008581823669373989, -0.003529993584379554, -0.0673702210187912, -0.011124858632683754, -0.02136319875717163, 0.027355903759598732, 0.03573249652981758, -0.03795451298356056, -0.07478164881467819, -0.011118943803012371, -0.013835182413458824, -0.024162789806723595, 0.02554294839501381, -0.008738355711102486, -0.014074483886361122, -0.015561719425022602, 0.006553094368427992, -0.004841989371925592, 0.012310219928622246, 0.018433425575494766, 0.02736467681825161, -0.09369710087776184, -0.0035637407563626766, -0.004800351336598396, -0.030555127188563347, 0.02519541047513485, -0.012077204883098602, 0.006299336440861225, -0.03305162861943245, 0.0193282812833786, -0.0008781130309216678, -0.055889204144477844, -0.05853046476840973, -0.029958486557006836, 0.015627045184373856, 0.02747267298400402, -0.008120784536004066, 0.04539809003472328, -0.03678135946393013, -0.01750905066728592, -0.021610626950860023, 0.009769597090780735, -0.048143498599529266, -0.00810042954981327, 0.06344113498926163, -0.030175236985087395, 0.012522440403699875, 0.03850674256682396, -0.013146703131496906, 0.018249057233333588, -0.028082985430955887, -0.04700266569852829, -0.011739641427993774, -0.012057384476065636, 0.0009133263374678791, 0.040861357003450394, -0.05289652198553085, 0.06660297513008118, -0.05946489796042442, -0.05691497400403023, -0.02732577547430992, -0.030510956421494484, -0.027799464762210846, 0.0016438247403129935, 0.03388059139251709, -0.03656509891152382, -0.023992586880922318, 0.043946027755737305, -0.01928235962986946, 0.029604583978652954, -0.07592365890741348, 0.008578730747103691, 0.004889476578682661, 0.00184182683005929, -0.016596270725131035, 0.013108400627970695, 0.018886402249336243, 0.02333267591893673, -0.012885183095932007, -0.04025721177458763, -0.005089053884148598, 0.007362383417785168, -0.019068481400609016, -0.03522934392094612, 0.04002785682678223, -0.019772663712501526, -0.007076832931488752, -0.017849262803792953, -0.030842341482639313, 0.03287133201956749, 0.054076023399829865, -0.01981501840054989, 0.056930579245090485, 0.02027372270822525, 0.012748305685818195, -0.014122892171144485, 0.07805919647216797, 0.0035185262095183134, -0.012025868520140648, 0.0048535484820604324, -0.02542257122695446, 0.006351833697408438, -0.006581525318324566, -0.02702089212834835, 0.04536430537700653, 0.03339393436908722, 0.027883799746632576, 0.009460763074457645, -0.015193106606602669, -0.038045305758714676, 0.045728228986263275, 0.052513040602207184, -0.060743339359760284, 0.0009988235542550683, 0.002436506561934948, -0.017366722226142883, 0.05077699199318886, 0.03556840494275093, 0.039628766477108, 0.011741739697754383, 0.0073325615376234055, 0.03381137177348137, 0.010545861907303333, 0.03077845461666584, 0.0875004455447197, 0.006369199138134718, 0.01749344915151596, 0.013775329105556011, 0.02949542924761772, -0.09337008744478226, 0.012793938629329205, 0.03373369202017784, -0.01997755654156208, 0.021191278472542763, 0.025701524689793587, -0.04565385729074478, 0.022693458944559097, -0.023888519033789635, 0.05846211314201355, -0.01398075558245182, 0.012922250665724277, 0.02235306054353714, -0.021942324936389923, 0.031812142580747604, 0.04165035858750343, 0.012566596269607544, -0.056286465376615524, 0.02899772673845291, -0.0007654818473383784, 0.035545725375413895, 0.05079669505357742, -0.026347875595092773, 0.030797362327575684, -0.0453418605029583, -0.08419514447450638, 0.057548701763153076, -0.014055244624614716, -0.028335684910416603, 0.004606036935001612, 0.00889297854155302, -0.05719826743006706, 0.04066987708210945, -0.007054305635392666, 0.012225218117237091, 0.0014226859202608466, -0.009722251445055008, -0.012914758175611496, -0.06759950518608093, 0.04874372482299805, 0.011437838897109032, -0.004683817271143198, 0.08030105382204056, 0.01866035908460617, -0.06347335129976273, -0.05758829042315483, 0.06911519914865494, -0.02536166086792946, -0.046791233122348785, -0.0017097963718697429, 0.011947020888328552, 0.004833836108446121, 0.025608280673623085, -0.018805749714374542, -0.014328683726489544, -0.011449403129518032, -0.03730083256959915, -0.013723155483603477, 0.025853216648101807, 0.023892486467957497, 0.007872392423450947, 0.04969366267323494, -0.01614861749112606, -0.012537279166281223, 0.051683321595191956, 0.06416532397270203, 0.023734575137495995, -0.006395214237272739, -0.015802979469299316, 0.07346971333026886, -0.04172417148947716, -0.0066454289481043816, 0.03965376317501068, 0.01763925887644291, -0.011568804271519184, -0.045574069023132324, -0.05177267640829086, -0.022328633815050125, 0.03568153455853462, -0.0616951622068882, 0.006436937488615513, -0.024975690990686417, -0.015539073385298252, -0.0057256948202848434, 0.03297734260559082, 0.02483571693301201, -0.014578576199710369, 0.009466031566262245, -0.03102428838610649, -0.036596935242414474, 0.011755483224987984, -0.03987672179937363, -0.01885014772415161, -0.08290151506662369, 0.07174498587846756, -0.006586174014955759, 0.018991824239492416, 0.01459550391882658, -0.01340944692492485, 0.015009282156825066, 0.008990048430860043, -0.0032260187435895205, 0.015216631814837456, 0.032449763268232346, 0.001226538443006575, -0.029737265780568123, 0.06578847765922546, 0.013844626024365425, 0.0480598546564579, 0.06528767943382263, -0.012712988071143627, 0.015234917402267456, -0.029926935210824013, -0.01363943051546812, -0.055634211748838425, 0.0028153597377240658, 0.02990024723112583, 0.02337886206805706, -0.08315936475992203, 0.0075845192186534405, 0.01928630843758583, -0.009176746942102909, 0.019758837297558784, 0.09994828701019287, -0.0007545204716734588, -0.05172208696603775, -0.06837444752454758, 0.00015757433720864356, -0.045221928507089615, 0.02807559072971344, 0.004279027692973614, 0.01715734973549843, 0.03096836805343628, -0.02108108066022396, 0.04668127000331879, -0.044358737766742706, 0.026538129895925522, 0.025772904977202415, -0.04229048639535904, -0.012090249918401241, -0.03227270022034645, 0.005328414961695671, 0.006640983745455742, 0.007122133392840624, -0.05536075308918953, -0.06410513073205948, -0.002702346770092845, 0.05845115706324577, -0.07157519459724426, -0.00839380081743002, 0.019836517050862312, 0.009096921421587467, -0.004472082015126944, -0.026865661144256592, -0.01903831958770752, 0.03283267095685005, 0.054306406527757645, 0.007118187379091978, -0.01373600959777832, -0.015878846868872643, -0.00927165150642395, 0.028309708461165428, -0.0033889298792928457, 0.05418526381254196, 0.039377715438604355, 0.015186487697064877, -0.053599122911691666, -0.029816344380378723, -0.016734560951590538, 0.0003420364810153842, -0.005947318393737078, 0.016782766208052635, 0.036572739481925964, 0.0023777978494763374, 0.025041358545422554, -0.007490906864404678, 0.010322330519557, 0.017852971330285072, -0.0036431881599128246, -0.00993808638304472, -0.03752122446894646, 0.027854884043335915, 0.03424656018614769, 0.02368658222258091, 0.03684930503368378, 0.032772209495306015, 0.04826059937477112, 0.012614388950169086, 0.03486336022615433, -0.057952236384153366, -0.035633429884910583, 0.040040940046310425, -0.002260378794744611, -0.027971824631094933, 0.05598729848861694, 0.02537824772298336, -0.01897887885570526, 0.09891146421432495, 0.02397921308875084, 0.02863204851746559, 0.0003198441118001938, -0.024955404922366142, -0.046618737280368805, 0.06143990531563759, -0.03853974863886833, 0.01828901097178459, -0.012082736939191818, 0.04900580272078514, 0.06266281753778458, 0.057644881308078766, -0.01662440039217472, -0.004452856257557869, -0.0024251712020486593, 0.12999650835990906, -0.0039102924056351185, 0.06153212487697601, 0.009852292947471142, -0.10247190296649933, -0.029189420863986015, 0.0011103611905127764, -0.03764941915869713, 0.0345831960439682, 0.028999729081988335, -0.03573678433895111, -0.04208941385149956, -0.05853933468461037, 0.04045313969254494, -0.054335299879312515, -0.04912441596388817, -0.006813989020884037, -0.008809591643512249, 0.01714143343269825, 0.061932340264320374, 0.04078635945916176, -0.02005849964916706, -0.011419628746807575, 0.005746580194681883, 0.01698514260351658, 0.007647582795470953, -0.03594734147191048, 0.0025037708692252636, -0.004465748090296984, 0.008057919330894947, 0.008771579712629318, -0.009947855025529861, -0.004582426510751247], 'text': 'Format\\n\\nThe World Cup is divided into two main stages:\\n\\nQualification: This stage occurs over the three years preceding the tournament, with national teams competing within their respective confederations (e.g., UEFA, CONMEBOL, AFC) to secure a spot in the finals.\\n\\nFinal Tournament: Held over approximately one month, the final tournament features:', 'SimilarityScore': 0.5561058210596552}] \n",
      "\n",
      "* The Football World Cup\n",
      "\n",
      "The FIFA World Cup, often simply referred to as the World Cup, is the premier international football competition. Organized by the Fédération Internationale de Football Association (FIFA), it features national teams from around the globe competing for the most coveted trophy in the sport. The tournament is held every four years and is one of the most widely viewed and followed sporting events in the world.\n",
      "\n",
      "History \n",
      "[{'id': '4faab5e1-5802-491a-b543-a6f2980468ad', 'embedding': [0.058541469275951385, -0.02740592323243618, -0.07772878557443619, -0.03470222279429436, 0.06243438646197319, 0.033618610352277756, 0.03431039676070213, -0.03169595077633858, -0.005944196134805679, 0.04006606712937355, 0.009814152494072914, 0.028031371533870697, -0.003839492565020919, 0.028240036219358444, -0.06014739349484444, -0.009418530389666557, 0.00812592264264822, 0.032460931688547134, -0.0002581325825303793, -0.011178887449204922, 0.028203699737787247, 0.027842378243803978, 0.003935306333005428, 0.011816933751106262, 0.01727594994008541, -0.07640008628368378, 0.00823639240115881, -0.00630529411137104, -0.016353925690054893, 0.041521452367305756, -0.043903451412916183, 0.017481625080108643, -0.024430587887763977, 0.03382270410656929, 0.03249841555953026, -0.0406850166618824, -0.041256263852119446, 0.04312845319509506, -0.009472646750509739, 0.054606322199106216, -0.005300992168486118, -0.03437817096710205, -0.030919048935174942, 0.011840343475341797, -0.0017478854861110449, 0.02134108543395996, -0.06585820019245148, 0.03822988271713257, 0.013110867701470852, -0.039411041885614395, 0.034267913550138474, 0.022232873365283012, 0.07508649677038193, 0.01911674439907074, -0.01940798945724964, -0.056895479559898376, 0.006795249879360199, -0.04002149775624275, -0.011895554140210152, 0.023817310109734535, -0.030265433713793755, -0.0033370377495884895, 0.03173781931400299, 0.01737150177359581, -0.035006240010261536, -0.05075976252555847, -0.04989965260028839, 0.05374685674905777, 0.031502049416303635, -0.014471461065113544, 0.049555014818906784, -0.06923828274011612, 0.01838778518140316, -0.00012838038674090058, -0.017384707927703857, -0.07621249556541443, 0.01695706881582737, 0.04440378397703171, 0.013288975693285465, -0.029992690309882164, -0.0200992152094841, -0.06312599778175354, -0.04600417613983154, 0.0119206253439188, -0.05126426741480827, 0.015171620063483715, -0.04321879893541336, -0.007563173305243254, -0.04644891247153282, 0.08739952743053436, -0.013771051540970802, 0.01793801598250866, 0.0665062740445137, -0.057037580758333206, -0.016129067167639732, 0.05460032820701599, -0.036029595881700516, -0.05438493192195892, 0.06575535982847214, -0.010916803032159805, -0.010588731616735458, -0.0436379499733448, -0.076561838388443, 0.04519365355372429, 0.025438247248530388, -0.012865728698670864, -0.0013576680794358253, 0.014400607906281948, -0.0018021570285782218, 0.06639096885919571, -0.09750446677207947, 0.02436600811779499, 0.03775611147284508, 0.006804187316447496, 0.05293593555688858, -0.03411993756890297, -0.0073525430634617805, 0.08071211725473404, 0.01768501289188862, 0.06350288540124893, 0.032724399119615555, 0.013862687163054943, 0.043644946068525314, -0.01834123022854328, 0.026398636400699615, 0.008892837911844254, 0.0035662977024912834, 0.03186153993010521, -0.007472742348909378, -0.000959094031713903, 0.0023754460271447897, -0.018064504489302635, -0.031720880419015884, -0.038551896810531616, 0.031084679067134857, 0.11564043909311295, 0.03607488423585892, 0.0006168087711557746, 0.03404726833105087, 0.00828478578478098, -0.004845264833420515, 0.01165318675339222, 0.041350219398736954, 0.02598491683602333, -0.05884575843811035, 0.040809087455272675, -0.010772704146802425, 0.015737855806946754, 0.060399461537599564, -0.030494336038827896, -0.01600046083331108, -0.008982691913843155, -0.03336683660745621, -0.015593654476106167, 0.06911955773830414, 0.035915590822696686, -0.019416920840740204, 0.021114738658070564, 0.02138177864253521, 0.024805715307593346, 0.013742025941610336, -0.02245556376874447, 0.004106942098587751, 0.010785858146846294, 0.0048925732262432575, -0.00922111514955759, 0.0216511357575655, -0.037496015429496765, 0.04373936727643013, 0.03355838730931282, -0.02512264996767044, 0.016522938385605812, -0.03958148881793022, -0.04420796036720276, 0.05036415904760361, -0.03266860172152519, 0.07724587619304657, -0.028629949316382408, -0.027251573279500008, -0.029430188238620758, 0.03318249061703682, -0.04745122790336609, 0.03205260634422302, 0.012032469734549522, 0.019864754751324654, -0.03526247292757034, 0.05487266182899475, 0.027887141332030296, -0.03113546222448349, 0.04222755879163742, -0.011254564858973026, 0.007791928015649319, -0.07185067236423492, -0.03332209214568138, -0.009327540174126625, 0.04461148753762245, 0.013761622831225395, 0.002021242631599307, 0.02984532341361046, -0.024537738412618637, 0.011196094565093517, 0.06735293567180634, -0.008014029823243618, 0.0036276699975132942, 0.020435811951756477, 0.02163843810558319, 0.027175012975931168, -0.053764209151268005, -0.0008709230460226536, 0.051578227430582047, -0.02499566040933132, 0.027495255693793297, -0.017322367057204247, -0.012422095984220505, 0.009977265261113644, -0.00851267296820879, 0.00223033525981009, 0.03220980614423752, 0.03455044701695442, -0.007508018985390663, 0.004483112599700689, 0.021500229835510254, -0.031272467225790024, 0.03654496744275093, -0.01485457457602024, -0.002595385303720832, -0.005015185102820396, 0.036029960960149765, -0.006613320205360651, -0.014395732432603836, -0.026849130168557167, 0.06965295225381851, -0.009812855161726475, -0.0003932288964278996, 0.0817030817270279, 0.017112338915467262, -0.0035892114974558353, 0.04084812104701996, 0.06200521066784859, 0.05675442889332771, -0.05144735425710678, 0.05889948457479477, 0.03786590322852135, 0.03168795257806778, -0.058212656527757645, -0.05504435673356056, -0.03859763965010643, 0.04439493641257286, 0.005362800322473049, 0.05092699080705643, -0.03196854144334793, -0.01772380620241165, 0.009872754104435444, 0.018756937235593796, -0.11246189475059509, 0.02848869375884533, -0.021860303357243538, -0.010000665672123432, -0.05820311978459358, 0.009106152690947056, 0.05090169981122017, 0.048482853919267654, 0.023948824033141136, -0.027615193277597427, -0.04357707127928734, -0.0326218344271183, 0.01251461822539568, -0.026161715388298035, -0.01007083710283041, 0.023084409534931183, 0.00935934018343687, -0.031239831820130348, 0.052758608013391495, 0.05713425204157829, 0.023415517061948776, 0.0285583958029747, -0.03517453372478485, 0.04630020260810852, 0.04904474690556526, 0.011282526887953281, 0.03472161665558815, -0.00861328560858965, 0.03157160431146622, -0.0013068827101960778, 0.022693438455462456, -0.03154664486646652, -0.05391009896993637, -0.022527026012539864, -0.035253122448921204, -0.022720759734511375, -0.040924470871686935, -0.03894849494099617, 0.02839425951242447, -0.030194608494639397, -0.05651180446147919, -0.013718204572796822, 0.017044199630618095, 0.04563877731561661, 0.022580217570066452, -0.030115682631731033, 0.023428084328770638, -0.015237770974636078, 0.018338091671466827, -0.1090296283364296, -0.015309203416109085, 0.01483065914362669, 0.00527394050732255, 0.011354242451488972, 0.0188955906778574, 0.04838768392801285, -0.003299703821539879, -0.012057077139616013, -0.006158614531159401, -0.01218845322728157, 0.045404110103845596, 0.04860716313123703, -0.003482507076114416, 0.013868794776499271, -0.00016535933536943048, 0.02683231234550476, 0.019763587042689323, 0.07014922052621841, 0.037795886397361755, 0.006645497400313616, -0.013235071673989296, 0.05793522298336029, 0.005198368802666664, 0.010147850960493088, -0.020627891644835472, 0.007297490257769823, -0.06569065153598785, -0.01140916533768177, -0.03923692926764488, 0.0034581420477479696, 0.02672545611858368, 0.03411613032221794, -0.07377719134092331, -4.8667166993254796e-05, -0.0513787567615509, -0.026132363826036453, -0.012312360107898712, 0.03878059238195419, -0.04268154129385948, -0.025203779339790344, -0.020521564409136772, -0.003422653069719672, -0.045120321214199066, 0.06617210805416107, 0.06510772556066513, 0.017206698656082153, 0.01231362298130989, 0.0836535319685936, -0.004518205299973488, 0.06754793226718903, -6.659607606707141e-05, -0.023938611149787903, 0.05632710084319115, -0.06288786977529526, 0.016691649332642555, -0.081893689930439, -0.003807698842138052, 0.010457812808454037, 0.036089688539505005, -0.04136646166443825, -0.07316204905509949, -0.016096707433462143, -0.025663310661911964, 0.018291322514414787, -0.013557418249547482, 0.03675714507699013, 0.010753737762570381, 0.01714402437210083, 0.003388463519513607, -0.05940193310379982, -0.0023393607698380947, 0.03814331442117691, -0.02410060726106167, -0.007039626594632864, 0.014839982613921165, 0.028897643089294434, -0.030597275123000145, 0.008902914822101593, 0.060729119926691055, 0.003195135621353984, -0.025707555934786797, -0.0049964552745223045, 0.015952687710523605, 0.04495251551270485, -0.03755765035748482, 0.04237357899546623, -0.06233222782611847, 0.04646184295415878, 0.08375097066164017, 0.014284425415098667, -0.04183037206530571, -0.04458833858370781, -0.041580382734537125, -0.04342662915587425, 0.015464329160749912, 0.05254808068275452, -0.01966148242354393, -0.07827640324831009, -0.030841199681162834, -0.03070882149040699, -0.03013993799686432, 0.03434749320149422, 0.00014004278637003154, 0.04306747764348984, -0.04774286970496178, 0.0022690491750836372, -0.016434989869594574, -0.022725362330675125, -0.00454636849462986, 0.01096300594508648, -0.06309309601783752, -0.012741880491375923, 0.021879076957702637, -0.008184149861335754, 0.03291484713554382, 0.034057095646858215, 0.0029806550592184067, -0.008838227950036526, 0.01439325138926506, 0.00632138829678297, -0.05663204565644264, -0.05417410284280777, -0.011742167174816132, 0.01698385924100876, 0.03552331030368805, -0.0016939467750489712, 0.051993876695632935, -0.04665157571434975, 0.020203176885843277, -0.02607581950724125, -0.0017247183714061975, -0.03835716471076012, -0.020648300647735596, 0.07292930036783218, -0.029344195500016212, -0.0026911499444395304, 0.03572007641196251, -0.0037351888604462147, 0.0262033361941576, -0.03127123787999153, -0.03853597864508629, -0.03693658486008644, -0.021025268360972404, -0.00484981806948781, 0.04987657070159912, -0.06379250437021255, 0.06429069489240646, -0.07754690945148468, -0.058247797191143036, -0.045388419181108475, -0.022287771105766296, -0.03048601932823658, 0.006114897783845663, 0.06535238027572632, -0.05326089635491371, 0.003579983487725258, 0.03688449785113335, -0.028049927204847336, 0.01577846147119999, -0.06256382167339325, 0.013854743912816048, -0.0033562842290848494, 0.018211815506219864, -0.006133338902145624, -0.015249427407979965, 0.03423728793859482, 0.013751409016549587, 0.00777412997558713, -0.02820529416203499, 0.007064439356327057, 0.01819394901394844, -0.03352217748761177, -0.026121266186237335, 0.02040950581431389, -0.013241392560303211, -0.01421133242547512, -0.022628849372267723, -0.00035152400960214436, 0.0015341779217123985, 0.03641921281814575, -0.0254493597894907, 0.05570777878165245, -0.004597535822540522, -0.01902068220078945, -0.010407313704490662, 0.06098227575421333, 0.02723783813416958, 0.007584243547171354, 0.015910854563117027, -0.027536410838365555, -0.02118612639605999, -0.002891282085329294, -0.0241706483066082, 0.05809608846902847, 0.035058874636888504, 0.018788348883390427, -0.023858310654759407, -0.03217136859893799, -0.010574974119663239, 0.02063302882015705, 0.07060454040765762, -0.05438745394349098, 0.000898046069778502, -0.01102988701313734, 0.0012861295836046338, 0.021266713738441467, 0.037306733429431915, 0.07186558097600937, 0.017202218994498253, -0.005984138231724501, 0.037919558584690094, 0.006352727301418781, 0.04114213585853577, 0.03296278789639473, 0.0008602333255112171, 0.01871795766055584, 0.026268916204571724, -0.00241055223159492, -0.09257450699806213, 0.005535146687179804, 0.023213166743516922, -0.0213775597512722, 0.015408169478178024, 0.027943920344114304, -0.038814395666122437, 0.007020740769803524, -0.03591093048453331, 0.062080781906843185, -0.018880149349570274, -0.010831514373421669, 0.0368313305079937, -0.029599597677588463, 0.02765502966940403, 0.02676350809633732, 0.00669085280969739, -0.039898570626974106, 0.030267447233200073, 0.01802743412554264, 0.046412207186222076, 0.024433642625808716, -0.034853145480155945, 0.0387163870036602, -0.030300071462988853, -0.09072510153055191, 0.04086939990520477, -0.024544209241867065, -0.014160179533064365, -0.01995704509317875, 0.009235145524144173, -0.049964968115091324, 0.02714894339442253, -0.0007627131417393684, 0.021856848150491714, -0.004559936001896858, -0.022713134065270424, -0.005594766233116388, -0.058964211493730545, 0.0501026026904583, 0.014332381077110767, -0.015462299808859825, 0.07959659397602081, 0.009061773307621479, -0.045071668922901154, -0.04637301713228226, 0.08278636634349823, -0.025982201099395752, -0.044946689158678055, -3.1970594136510044e-05, 0.0016163355903699994, -0.005716224201023579, 0.01655174419283867, -0.0018818187527358532, -0.004969378001987934, -0.008123689331114292, -0.04643595963716507, -0.02130071073770523, 0.02427348494529724, 0.02980141155421734, 0.026862259954214096, 0.03991534933447838, -0.0015959582524374127, -0.0202266164124012, 0.06223209202289581, 0.07008487731218338, 0.012669176794588566, 0.00031415955163538456, -0.019586246460676193, 0.050105948001146317, -0.03290713578462601, -0.008643712848424911, 0.029716379940509796, -0.006750635337084532, 0.020416367799043655, -0.038989994674921036, -0.05127006769180298, -0.014564276672899723, 0.011381974443793297, -0.019329272210597992, 0.00765335513278842, -0.03393584117293358, 0.010659193620085716, 0.013162155635654926, 0.01238252967596054, 0.01925511099398136, -0.014729783870279789, 0.049750879406929016, -0.005223480984568596, -0.049335628747940063, -0.016136394813656807, -0.04175848886370659, -0.04328521713614464, -0.05484596639871597, 0.05712597444653511, -0.010050966404378414, 0.019442006945610046, 0.014871003106236458, -0.01433620136231184, 0.004803199786692858, -0.0002914056822191924, -0.005611739587038755, 0.008652889169752598, 0.03570165857672691, 0.009385301731526852, -0.01543862372636795, 0.06525877863168716, 0.03008636273443699, 0.040689945220947266, 0.04924963042140007, 0.014293480664491653, 0.006732843816280365, -0.06353756785392761, -0.02096111699938774, -0.0553123876452446, -0.01069902628660202, 0.02432125434279442, 0.011870372109115124, -0.08660316467285156, -0.022262588143348694, 0.0358811616897583, 0.011514789424836636, 0.02014651708304882, 0.08418287336826324, -0.021991712972521782, -0.0405082069337368, -0.06988909095525742, -0.03604405000805855, -0.04838806018233299, -0.0037514842115342617, -0.02134513296186924, -0.008556208573281765, 0.027132617309689522, -0.014418515376746655, 0.007350529544055462, -0.02803041785955429, 0.05350359529256821, 0.033787377178668976, -0.044512998312711716, 0.017359646037220955, -0.04505112022161484, 0.00255016190931201, -0.007789128925651312, -0.03050515428185463, -0.06945233047008514, -0.08576236665248871, -0.021326616406440735, 0.06401848793029785, -0.08185611665248871, -0.009436851367354393, 0.026971129700541496, 0.020780963823199272, -0.0010651275515556335, -0.00439846096560359, -0.02609415352344513, 0.03620340675115585, 0.03467786684632301, 0.01793494261801243, 0.012160246260464191, -0.007070914842188358, -0.024170398712158203, 0.022844532504677773, -0.01479397900402546, 0.06067655235528946, 0.04136386513710022, 0.0068795811384916306, -0.060513172298669815, -0.04229547083377838, 0.015137764625251293, 0.020267128944396973, -0.0002645007043611258, 0.06429008394479752, 0.031689707189798355, 0.031368058174848557, 0.03909346088767052, -0.012700098566710949, 0.03210461884737015, 0.007065303158015013, -0.011640400625765324, 0.0014530199114233255, -0.03274731710553169, 0.04900437593460083, 0.03241337090730667, 0.0197491105645895, 0.051757972687482834, 0.013025910593569279, 0.03450813889503479, 0.02945997752249241, -0.010841836221516132, -0.04586252197623253, -0.025282787159085274, 0.041479047387838364, 0.00013623732957057655, -0.025891724973917007, 0.06525145471096039, 0.03788197040557861, -0.027749542146921158, 0.05845976620912552, 0.057705968618392944, 0.02102714590728283, 0.006317210383713245, -0.02330305427312851, -0.06333716213703156, 0.0764601081609726, -0.05996061488986015, 0.0016430697869509459, -0.00963028147816658, 0.010368527844548225, 0.069747194647789, 0.032364536076784134, -0.006198273506015539, 0.03686462342739105, -0.016862865537405014, 0.0960470512509346, 0.010859708301723003, 0.028575817123055458, 0.03490620478987694, -0.07557132840156555, -0.02549879439175129, -0.005858855787664652, -0.024728478863835335, 0.035426367074251175, 0.04285242035984993, 0.013447651639580727, -0.035662055015563965, -0.0017715857829898596, 0.03012564405798912, -0.047949615865945816, -0.03286296874284744, -0.0032002530060708523, -0.008790032006800175, 0.027326766401529312, 0.048641327768564224, 0.03132694214582443, -0.037579357624053955, -0.021009963005781174, 0.004794715438038111, -0.021836470812559128, -0.02142048440873623, -0.026537101715803146, -0.010672426782548428, -0.005636591464281082, 0.02346828393638134, -0.004809499718248844, 0.011121561750769615, 0.009019212797284126], 'text': 'The Football World Cup\\n\\nThe FIFA World Cup, often simply referred to as the World Cup, is the premier international football competition. Organized by the Fédération Internationale de Football Association (FIFA), it features national teams from around the globe competing for the most coveted trophy in the sport. The tournament is held every four years and is one of the most widely viewed and followed sporting events in the world.\\n\\nHistory', 'SimilarityScore': 0.5530321875202497}] \n",
      "\n"
     ]
    }
   ],
   "source": [
    "search_vstore(\"when was the first tournament played?\", cosmos_db)"
   ]
  },
  {
   "cell_type": "markdown",
   "metadata": {},
   "source": [
    "✅ Pros:\n",
    "- Suitable for private information as you can deploy it in your own subscription\n",
    "\n",
    "❌ Cons:\n",
    "- It's paid"
   ]
  }
 ],
 "metadata": {
  "kernelspec": {
   "display_name": ".venv",
   "language": "python",
   "name": "python3"
  },
  "language_info": {
   "codemirror_mode": {
    "name": "ipython",
    "version": 3
   },
   "file_extension": ".py",
   "mimetype": "text/x-python",
   "name": "python",
   "nbconvert_exporter": "python",
   "pygments_lexer": "ipython3",
   "version": "3.10.4"
  }
 },
 "nbformat": 4,
 "nbformat_minor": 2
}
