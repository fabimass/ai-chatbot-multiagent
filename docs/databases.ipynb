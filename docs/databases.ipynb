{
 "cells": [
  {
   "cell_type": "markdown",
   "metadata": {},
   "source": [
    "# Vector Databases - Research\n",
    "\n",
    "Vector search is a cutting-edge approach to searching and retrieving data that leverages the power of vector similarity calculations. Unlike traditional keyword-based search, which matches documents based on the occurrence of specific terms, vector search focuses on the semantic meaning and similarity of data points. By representing data as vectors in a high-dimensional space, vector search enables more accurate and intuitive search results."
   ]
  },
  {
   "cell_type": "code",
   "execution_count": null,
   "metadata": {},
   "outputs": [],
   "source": [
    "pip install python-dotenv==1.0.1 langchain==0.2.1 langchain-community==0.2.1 scikit-learn==1.5.0"
   ]
  },
  {
   "cell_type": "code",
   "execution_count": 1,
   "metadata": {},
   "outputs": [],
   "source": [
    "import os\n",
    "from dotenv import load_dotenv"
   ]
  },
  {
   "cell_type": "code",
   "execution_count": 2,
   "metadata": {},
   "outputs": [
    {
     "data": {
      "text/plain": [
       "True"
      ]
     },
     "execution_count": 2,
     "metadata": {},
     "output_type": "execute_result"
    }
   ],
   "source": [
    "load_dotenv()"
   ]
  },
  {
   "cell_type": "markdown",
   "metadata": {},
   "source": [
    "## Load and split the data"
   ]
  },
  {
   "cell_type": "markdown",
   "metadata": {},
   "source": [
    "First, we need to load a document. Let's try with a pdf and a markdown file.\n",
    "\n",
    "Then, we will split it into smaller chunks of text. This serves several important purposes:\n",
    "- Granularity: By splitting a document into smaller chunks, you can retrieve more specific and relevant pieces of information. If you work with large documents as single chunks, retrieval can become inefficient and less precise.\n",
    "- Search Performance: Smaller chunks improve the performance of search algorithms. It's easier to match a query against smaller, more focused pieces of text rather than a large document.\n",
    "- Computational efficiency: Working with entire documents as single units can be memory-expensive and slow. Splitting documents into chunks allows for more efficient use of memory and computational resources.\n",
    "\n",
    "Practical example: Imagine we have a large document, such as a product manual or a scientific paper. If a user asks a question like \"How do I reset the device?\" or \"What is the conclusion of the study?\", splitting the document into smaller chunks allows the chatbot to:\n",
    "- Efficiently locate and retrieve the most relevant section about device resetting instructions or the conclusion of the study.\n",
    "- Avoid returning irrelevant parts of the document, which might confuse the user.\n",
    "- Provide a faster response by only processing a small portion of the document."
   ]
  },
  {
   "cell_type": "code",
   "execution_count": null,
   "metadata": {},
   "outputs": [],
   "source": [
    "pip install pypdf==4.2.0 unstructured==0.14.7 markdown==3.6"
   ]
  },
  {
   "cell_type": "code",
   "execution_count": 3,
   "metadata": {},
   "outputs": [],
   "source": [
    "from langchain_text_splitters import RecursiveCharacterTextSplitter\n",
    "\n",
    "# Define how the text should be split:\n",
    "#  - Each chunk should be up to 512 characters long.\n",
    "#  - There should be an overlap of 64 characters between consecutive chunks. \n",
    "#  - This overlap helps maintain context across the chunks.\n",
    "splitter = RecursiveCharacterTextSplitter(chunk_size=512, chunk_overlap=64)"
   ]
  },
  {
   "cell_type": "code",
   "execution_count": 4,
   "metadata": {},
   "outputs": [
    {
     "name": "stdout",
     "output_type": "stream",
     "text": [
      "Number of chunks: 311\n",
      "page_content='GENERATIVE AI: HYPE,  OR \\nTRUL\\nY TRANSFORMATIVE?ISSUE 120 | July 5, 2023 | 12:28 PM EDT”\\x01\\x01\\x01\\x01\\x01P\\x01\\x01\\x01\\x01\\x01\\x01\\x01\\x01\\x01 \\x01\\x01 \\x01 \\x01Global Macro  \\nResearch\\nInvestors should consider this report as only a single factor in making their investment decision. For \\nReg AC certiﬁcation and other important disclosures, see the Disclosure Appendix, or go to www.gs.com/research/hedge.html.\\nThe Goldman Sachs Group, Inc.Since the release of OpenAI’s generative AI tool ChatGPT in November, investor' metadata={'source': 'example_data/example_pdf.pdf', 'page': 0}\n",
      "page_content='interest in generative AI technology has surged. The disruptive potential of  this technology, and whether the hype around it—and market pricing—has gone too far, is Top of Mind. We speak with Conviction’s Sarah Guo, NYU’s Gary Marcus, and GS GIR’s US software and internet analysts Kash Rangan and Eric Sheridan about what the technology can—and can’t—do at this stage. GS economists then assess the technology’s potentially large impact on productivity and growth, which our equity strategists estimate could' metadata={'source': 'example_data/example_pdf.pdf', 'page': 0}\n",
      "page_content='and growth, which our equity strategists estimate could translate into signiﬁcant upside for US equities over the medium-to-longer term, though our strategists also warn that past productivity' metadata={'source': 'example_data/example_pdf.pdf', 'page': 0}\n",
      "page_content='booms have resulted in equity bubbles that ultimately burst. We also discuss where the most compelling investment opportunities in the AI space may lie today, and the near-term risks investors should most watch out for.        \\n““ INTERVIEWS WITH:  \\nSarah Guo, Founder, Conviction, former General Partner, Greylock \\nGary Marcus, Professor Emeritus of Psychology and Neural Science, \\nNew York University \\nKash Rangan, US Software Equity Research Analyst, Goldman Sachs;' metadata={'source': 'example_data/example_pdf.pdf', 'page': 0}\n",
      "page_content='Eric Sheridan, US Internet Equity Research Analyst, Goldman Sachs  \\nAI’S POTENTIALLY LARGE ECONOMIC IMPACTS \\nJoseph Briggs, GS Global Economics Research \\nUS EQUITIES: GAUGING THE AI UPSIDE \\nRyan Hammond and David Kostin, GS US Portfolio Strategy Research \\nMARKETS AROUND PAST PRODUCTIVITY BOOMS \\nDominic Wilson and Vickie Chang, GS Markets Research \\nWHAT WE’RE HEARING FROM PUBLIC INVESTORS \\nPeter Callahan, GS Global Banking & Markets WHAT’S INSIDEof\\nAllison Nathan | allison.nathan@gs.com       ...AND MORE' metadata={'source': 'example_data/example_pdf.pdf', 'page': 0}\n"
     ]
    }
   ],
   "source": [
    "# PDF\n",
    "\n",
    "from langchain_community.document_loaders import PyPDFLoader\n",
    "\n",
    "pdf_loader = PyPDFLoader(\"example_data/example_pdf.pdf\")\n",
    "\n",
    "# Load pdf and split into chunks.\n",
    "pdf_chunks = pdf_loader.load_and_split(text_splitter=splitter)\n",
    "\n",
    "# Get the number of chunks\n",
    "print(f\"Number of chunks: {len(pdf_chunks)}\")\n",
    "\n",
    "# Print the first 5 chunks\n",
    "for chunk in pdf_chunks[:5]:\n",
    "    print(chunk)"
   ]
  },
  {
   "cell_type": "code",
   "execution_count": 5,
   "metadata": {},
   "outputs": [
    {
     "name": "stdout",
     "output_type": "stream",
     "text": [
      "Number of chunks: 7\n",
      "page_content='The Football World Cup\\n\\nThe FIFA World Cup, often simply referred to as the World Cup, is the premier international football competition. Organized by the Fédération Internationale de Football Association (FIFA), it features national teams from around the globe competing for the most coveted trophy in the sport. The tournament is held every four years and is one of the most widely viewed and followed sporting events in the world.\\n\\nHistory' metadata={'source': 'example_data/example_markdown.md'}\n",
      "page_content='History\\n\\nThe first World Cup was held in 1930 in Uruguay, with the host nation emerging as the champions. Since then, the tournament has grown significantly in size and popularity. Originally featuring just 13 teams, the World Cup now includes 32 teams in the final tournament, with plans to expand to 48 teams in the near future.\\n\\nFormat\\n\\nThe World Cup is divided into two main stages:' metadata={'source': 'example_data/example_markdown.md'}\n",
      "page_content='Format\\n\\nThe World Cup is divided into two main stages:\\n\\nQualification: This stage occurs over the three years preceding the tournament, with national teams competing within their respective confederations (e.g., UEFA, CONMEBOL, AFC) to secure a spot in the finals.\\n\\nFinal Tournament: Held over approximately one month, the final tournament features:' metadata={'source': 'example_data/example_markdown.md'}\n",
      "page_content='Group Stage: Teams are divided into eight groups of four. Each team plays three matches in a round-robin format. The top two teams from each group advance to the knockout stage.\\n\\nKnockout Stage: A single-elimination format, starting with the Round of 16 and culminating in the final match. This stage includes the Round of 16, Quarter-Finals, Semi-Finals, and the Final.\\n\\nNotable Moments\\n\\nThe World Cup has produced countless memorable moments, including:' metadata={'source': 'example_data/example_markdown.md'}\n",
      "page_content=\"Maracanazo (1950): Uruguay's shocking victory over Brazil in the final match at the Maracanã Stadium.\\n\\nHand of God (1986): Diego Maradona's controversial goal against England in the quarter-finals.\\n\\nGermany 7, Brazil 1 (2014): Germany's stunning semi-final victory over host Brazil.\\n\\nRecords and Statistics\\n\\nMost Titles: Brazil holds the record with five World Cup victories.\\n\\nTop Scorer: Miroslav Klose of Germany is the top scorer in World Cup history with 16 goals.\" metadata={'source': 'example_data/example_markdown.md'}\n"
     ]
    }
   ],
   "source": [
    "# Markdown\n",
    "\n",
    "from langchain_community.document_loaders import UnstructuredMarkdownLoader\n",
    "\n",
    "md_loader = UnstructuredMarkdownLoader(\"example_data/example_markdown.md\")\n",
    "\n",
    "# Load pdf and split into chunks.\n",
    "md_chunks = md_loader.load_and_split(text_splitter=splitter)\n",
    "\n",
    "# Get the number of chunks\n",
    "print(f\"Number of chunks: {len(md_chunks)}\")\n",
    "\n",
    "# Print the first 5 chunks\n",
    "for chunk in md_chunks[:5]:\n",
    "    print(chunk)"
   ]
  },
  {
   "cell_type": "markdown",
   "metadata": {},
   "source": [
    "## Embeddings"
   ]
  },
  {
   "cell_type": "markdown",
   "metadata": {},
   "source": [
    "Now we will proceed to transform our text junks into vector embeddings.\n",
    "\n",
    "Vector embeddings is a powerful technique for transforming complex data into numerical forms that can be easily processed and analyzed by machine learning algorithms. It basically allows us to take virtually any data type and represent it as vectors.\n",
    "\n",
    "But it isn't as simple as just turning data into vectors. We want to ensure that we can perform tasks on this transformed data without losing the data's original meaning. For example, if we want to compare two sentences, we don't want just to compare the words they contain but rather whether or not they mean the same thing. \n",
    "\n",
    "To preserve the data's meaning, we need to understand how to produce vectors where relationships between the vectors make sense. To do this, we need what's known as an embedding model. We apply a pre-trained machine learning model that will produce a representation of this data that is more compact while preserving what's meaningful about the data.\n",
    "\n",
    "The goal of embeddings is to capture the semantic meaning or relationships between data points in a way that similar items are close together in the vector space, and dissimilar items are far apart. For example, consider two words \"king\" and \"queen\". An embedding might map these words to vectors such that the difference between the \"king\" and \"queen\" vectors is similar to the difference between the \"man\" and \"woman\" vectors. This reflects the underlying semantic relationships.\n",
    "\n",
    "Key characteristics of embeddings:\n",
    "- Dimensionality: The number of elements in the vector. Higher dimensions can capture more complex relationships but are computationally more expensive.\n",
    "- Similarity: Measured using metrics like cosine similarity or euclidean distance, which help in finding how close or far two vectors are from each other."
   ]
  },
  {
   "cell_type": "code",
   "execution_count": 6,
   "metadata": {},
   "outputs": [],
   "source": [
    "from sklearn.metrics.pairwise import cosine_similarity"
   ]
  },
  {
   "cell_type": "code",
   "execution_count": 31,
   "metadata": {},
   "outputs": [],
   "source": [
    "# Calculate cosine similarity between vectors.\n",
    "# Values close to 1 indicate very similar vectors, while values close to 0 indicate very different vectors.\n",
    "# Cosine similarity is particularly useful when the magnitude of the vectors is not as important as their direction. \n",
    "# It is often used in text analysis and information retrieval where the orientation (semantic meaning) of vectors \n",
    "# matters more than their magnitude.\n",
    "def compare_embeddings(vector_1, vector_2):\n",
    "    similarity = cosine_similarity([vector_1], [vector_2])\n",
    "    print(f\"Cosine similarity: {similarity[0][0]}\")\n",
    "    "
   ]
  },
  {
   "cell_type": "code",
   "execution_count": 37,
   "metadata": {},
   "outputs": [],
   "source": [
    "# Some sentences to test different embedding models\n",
    "sentences = [\n",
    "    # Include the same words but have different semantics. Similarity should be low.\n",
    "    [\"man pets dog\", \"dog bites man\"],      \n",
    "    [\"today is Monday\", \"today is Friday\"],\n",
    "    # Have related meanings but no common words. Similarity should be high.\n",
    "    [\"I need a new phone\", \"my old device is broken\"], \n",
    "    [\"tourism numbers are collapsing\", \"travel industry fears Covid-19 crisis will cause more companies to enter bankruptcy\"],\n",
    "    # Completely unrelated in terms of their content and context. Similarity should be low.\n",
    "    [\"the stock market experienced a significant decline last week\", \"she enjoys painting landscapes in her free time\"]\n",
    "]"
   ]
  },
  {
   "cell_type": "code",
   "execution_count": 35,
   "metadata": {},
   "outputs": [],
   "source": [
    "# Function to test an embedding model applying it to a set of sentences and analyzing similarity\n",
    "def test_embeddings(model):\n",
    "    for sentences_pair in sentences:\n",
    "        vector_1 = model.embed_query(sentences_pair[0])\n",
    "        print(f\"{sentences_pair[0]}:\")\n",
    "        print(f\" Dimensionality: {len(vector_1)}\")\n",
    "        print(f\" Sample: {vector_1[:5]}\")\n",
    "        print()\n",
    "        \n",
    "        vector_2 = model.embed_query(sentences_pair[1])\n",
    "        print(f\"{sentences_pair[1]}:\")\n",
    "        print(f\" Dimensionality: {len(vector_2)}\")\n",
    "        print(f\" Sample: {vector_2[:5]}\")\n",
    "        print()\n",
    "\n",
    "        compare_embeddings(vector_1, vector_2)\n",
    "        print(\"---\")"
   ]
  },
  {
   "cell_type": "markdown",
   "metadata": {},
   "source": [
    "#### Google AI"
   ]
  },
  {
   "cell_type": "code",
   "execution_count": null,
   "metadata": {},
   "outputs": [],
   "source": [
    "pip install langchain-google-genai"
   ]
  },
  {
   "cell_type": "code",
   "execution_count": 9,
   "metadata": {},
   "outputs": [],
   "source": [
    "from langchain_google_genai import GoogleGenerativeAIEmbeddings"
   ]
  },
  {
   "cell_type": "code",
   "execution_count": 38,
   "metadata": {},
   "outputs": [
    {
     "name": "stdout",
     "output_type": "stream",
     "text": [
      "man pets dog:\n",
      " Dimensionality: 768\n",
      " Sample: [0.03934462368488312, 0.019560974091291428, -0.023450257256627083, -0.004843460395932198, -0.01836157590150833]\n",
      "\n",
      "dog bites man:\n",
      " Dimensionality: 768\n",
      " Sample: [0.045345816761255264, 0.0035485224798321724, 0.015394225716590881, -0.030298084020614624, -0.00495710177347064]\n",
      "\n",
      "Cosine similarity: 0.8259540237192756\n",
      "---\n",
      "today is Monday:\n",
      " Dimensionality: 768\n",
      " Sample: [0.0022789041977375746, -0.015724509954452515, 0.0013650263426825404, -0.03787536919116974, 0.023058727383613586]\n",
      "\n",
      "today is Friday:\n",
      " Dimensionality: 768\n",
      " Sample: [0.009477449581027031, -0.010321601293981075, -0.01116954442113638, -0.051544252783060074, 0.014089941047132015]\n",
      "\n",
      "Cosine similarity: 0.9181408679004186\n",
      "---\n",
      "I need a new phone:\n",
      " Dimensionality: 768\n",
      " Sample: [0.02577350102365017, 0.0053873201832175255, -0.053824517875909805, -0.03254551440477371, 0.051140397787094116]\n",
      "\n",
      "my old device is broken:\n",
      " Dimensionality: 768\n",
      " Sample: [0.01551913470029831, 0.022993290796875954, -0.04532448947429657, -0.031173517927527428, 0.039086777716875076]\n",
      "\n",
      "Cosine similarity: 0.7714070554718615\n",
      "---\n",
      "tourism numbers are collapsing:\n",
      " Dimensionality: 768\n",
      " Sample: [0.018571928143501282, -0.042596057057380676, -0.033118829131126404, 0.009428524412214756, 0.08529277890920639]\n",
      "\n",
      "travel industry fears Covid-19 crisis will cause more companies to enter bankruptcy:\n",
      " Dimensionality: 768\n",
      " Sample: [0.007609598338603973, -0.05949319526553154, -0.032647762447595596, -0.005685833748430014, 0.11148308217525482]\n",
      "\n",
      "Cosine similarity: 0.7339725804424577\n",
      "---\n",
      "the stock market experienced a significant decline last week:\n",
      " Dimensionality: 768\n",
      " Sample: [-0.003688360331580043, 0.0027276757173240185, 0.017061511054635048, 0.01659872569143772, 0.04728257283568382]\n",
      "\n",
      "she enjoys painting landscapes in her free time:\n",
      " Dimensionality: 768\n",
      " Sample: [0.05198753625154495, 0.004382163751870394, -0.00450704712420702, -0.05465523153543472, 0.04875632002949715]\n",
      "\n",
      "Cosine similarity: 0.5006961223255812\n",
      "---\n"
     ]
    }
   ],
   "source": [
    "google_embeddings = GoogleGenerativeAIEmbeddings(model=\"models/embedding-001\")\n",
    "\n",
    "test_embeddings(google_embeddings)"
   ]
  },
  {
   "cell_type": "markdown",
   "metadata": {},
   "source": [
    "#### Hugging Face"
   ]
  },
  {
   "cell_type": "code",
   "execution_count": null,
   "metadata": {},
   "outputs": [],
   "source": [
    "pip install langchain_huggingface==0.0.3 huggingface_hub==0.23.4"
   ]
  },
  {
   "cell_type": "code",
   "execution_count": 63,
   "metadata": {},
   "outputs": [],
   "source": [
    "from langchain_huggingface.embeddings import HuggingFaceEndpointEmbeddings"
   ]
  },
  {
   "cell_type": "code",
   "execution_count": 64,
   "metadata": {},
   "outputs": [
    {
     "name": "stdout",
     "output_type": "stream",
     "text": [
      "man pets dog:\n",
      " Dimensionality: 768\n",
      " Sample: [0.02580537460744381, -0.022475017234683037, -0.014024853706359863, -0.005074481945484877, 0.005956384819000959]\n",
      "\n",
      "dog bites man:\n",
      " Dimensionality: 768\n",
      " Sample: [0.06021416559815407, -0.0734042078256607, -0.00042923304135911167, -0.00997690949589014, 0.03659734129905701]\n",
      "\n",
      "Cosine similarity: 0.5876407567728386\n",
      "---\n",
      "today is Monday:\n",
      " Dimensionality: 768\n",
      " Sample: [0.007682239171117544, -8.812590385787189e-05, -0.013025548309087753, 0.04075957089662552, -0.06397198885679245]\n",
      "\n",
      "today is Friday:\n",
      " Dimensionality: 768\n",
      " Sample: [-0.008920947089791298, 0.038364000618457794, -0.0027555814012885094, 0.03241955488920212, -0.05083586648106575]\n",
      "\n",
      "Cosine similarity: 0.8555735624527724\n",
      "---\n",
      "I need a new phone:\n",
      " Dimensionality: 768\n",
      " Sample: [0.0016399134183302522, 0.05188266932964325, 0.003045764984562993, 0.007006904575973749, 0.01983613707125187]\n",
      "\n",
      "my old device is broken:\n",
      " Dimensionality: 768\n",
      " Sample: [0.020737426355481148, 0.04476892948150635, 0.044220585376024246, -0.03426819294691086, 0.02580345794558525]\n",
      "\n",
      "Cosine similarity: 0.506254737343545\n",
      "---\n",
      "tourism numbers are collapsing:\n",
      " Dimensionality: 768\n",
      " Sample: [-0.07626479119062424, 0.08678441494703293, -0.0076302289962768555, 0.06937321275472641, -0.00825352780520916]\n",
      "\n",
      "travel industry fears Covid-19 crisis will cause more companies to enter bankruptcy:\n",
      " Dimensionality: 768\n",
      " Sample: [-0.06916751712560654, 0.07874162495136261, -0.060683514922857285, -0.008884481154382229, 0.03561409190297127]\n",
      "\n",
      "Cosine similarity: 0.535441151271302\n",
      "---\n",
      "the stock market experienced a significant decline last week:\n",
      " Dimensionality: 768\n",
      " Sample: [-0.06019498035311699, 0.0500253289937973, -0.04552822932600975, -0.025974158197641373, 0.018337182700634003]\n",
      "\n",
      "she enjoys painting landscapes in her free time:\n",
      " Dimensionality: 768\n",
      " Sample: [-0.0283308457583189, 0.05374739691615105, -0.028162294998764992, 0.027542121708393097, 0.007920113392174244]\n",
      "\n",
      "Cosine similarity: -0.09596994000259941\n",
      "---\n"
     ]
    }
   ],
   "source": [
    "hface_embeddings = HuggingFaceEndpointEmbeddings()\n",
    "\n",
    "test_embeddings(hface_embeddings)"
   ]
  },
  {
   "cell_type": "markdown",
   "metadata": {},
   "source": [
    "Embedding model | Sentence 1 | Sentence 2 | Cosine similarity | Expected result\n",
    ":---: | :---: | :---: | :---: | :---:\n",
    "Google | \"man pets dog\" | \"dog bites man\" | 0.83 | ❌\n",
    "Google | \"today is Monday\" | \"today is Friday\" | 0.92 | ❌\n",
    "Google | \"I need a new phone\" | \"my old device is broken\" | 0.77 | ✅\n",
    "Google | \"tourism numbers are collapsing\" | \"travel industry fears Covid-19 crisis will cause more companies to enter bankruptcy\" | 0.73 | ✅\n",
    "Google | \"the stock market experienced a significant decline last week\" | \"she enjoys painting landscapes in her free time\" | 0.92 | ❌\n",
    "Hugging Face | \"man pets dog\" | \"dog bites man\" | 0.59 | ✅\n",
    "Hugging Face | \"today is Monday\" | \"today is Friday\" | 0.85 | ❌\n",
    "Hugging Face | \"I need a new phone\" | \"my old device is broken\" | 0.51 | ❌\n",
    "Hugging Face | \"tourism numbers are collapsing\" | \"travel industry fears Covid-19 crisis will cause more companies to enter bankruptcy\" | 0.53 | ❌\n",
    "Hugging Face | \"the stock market experienced a significant decline last week\" | \"she enjoys painting landscapes in her free time\" | -0.1 | ✅\n",
    "\n"
   ]
  },
  {
   "cell_type": "markdown",
   "metadata": {},
   "source": [
    "# Astra DB"
   ]
  },
  {
   "cell_type": "markdown",
   "metadata": {},
   "source": [
    "For using Datastax Astra DB:\n",
    "- Create a database in https://astra.datastax.com/\n",
    "- Obtain your database API endpoint, located under Database Details > API Endpoint, and save it as an environment variable called: ASTRA_DB_API_ENDPOINT\n",
    "- Generate a token and save it as an environment variable called: ASTRA_DB_APPLICATION_TOKEN"
   ]
  },
  {
   "cell_type": "code",
   "execution_count": null,
   "metadata": {},
   "outputs": [],
   "source": [
    "pip install langchain-astradb==0.3.3"
   ]
  },
  {
   "cell_type": "code",
   "execution_count": 17,
   "metadata": {},
   "outputs": [],
   "source": [
    "from langchain_astradb import AstraDBVectorStore"
   ]
  },
  {
   "cell_type": "code",
   "execution_count": 19,
   "metadata": {},
   "outputs": [
    {
     "ename": "ValueError",
     "evalue": "Either an `embedding` or a `collection_vector_service_options`                    must be provided.",
     "output_type": "error",
     "traceback": [
      "\u001b[1;31m---------------------------------------------------------------------------\u001b[0m",
      "\u001b[1;31mValueError\u001b[0m                                Traceback (most recent call last)",
      "Cell \u001b[1;32mIn[19], line 1\u001b[0m\n\u001b[1;32m----> 1\u001b[0m vstore \u001b[38;5;241m=\u001b[39m \u001b[43mAstraDBVectorStore\u001b[49m\u001b[43m(\u001b[49m\n\u001b[0;32m      2\u001b[0m \u001b[43m    \u001b[49m\u001b[43mcollection_name\u001b[49m\u001b[38;5;241;43m=\u001b[39;49m\u001b[38;5;124;43m\"\u001b[39;49m\u001b[38;5;124;43mastra_vector_db\u001b[39;49m\u001b[38;5;124;43m\"\u001b[39;49m\u001b[43m,\u001b[49m\n\u001b[0;32m      3\u001b[0m \u001b[43m    \u001b[49m\u001b[43mapi_endpoint\u001b[49m\u001b[38;5;241;43m=\u001b[39;49m\u001b[43mos\u001b[49m\u001b[38;5;241;43m.\u001b[39;49m\u001b[43mgetenv\u001b[49m\u001b[43m(\u001b[49m\u001b[38;5;124;43m\"\u001b[39;49m\u001b[38;5;124;43mASTRA_DB_API_ENDPOINT\u001b[39;49m\u001b[38;5;124;43m\"\u001b[39;49m\u001b[43m)\u001b[49m\u001b[43m,\u001b[49m\n\u001b[0;32m      4\u001b[0m \u001b[43m    \u001b[49m\u001b[43mtoken\u001b[49m\u001b[38;5;241;43m=\u001b[39;49m\u001b[43mos\u001b[49m\u001b[38;5;241;43m.\u001b[39;49m\u001b[43mgetenv\u001b[49m\u001b[43m(\u001b[49m\u001b[38;5;124;43m\"\u001b[39;49m\u001b[38;5;124;43mASTRA_DB_APPLICATION_TOKEN\u001b[39;49m\u001b[38;5;124;43m\"\u001b[39;49m\u001b[43m)\u001b[49m\u001b[43m,\u001b[49m\n\u001b[0;32m      5\u001b[0m \u001b[43m)\u001b[49m\n",
      "File \u001b[1;32mc:\\Users\\masso\\OneDrive\\Escritorio\\rag-chatbot\\.venv\\lib\\site-packages\\langchain_astradb\\vectorstores.py:256\u001b[0m, in \u001b[0;36mAstraDBVectorStore.__init__\u001b[1;34m(self, collection_name, embedding, token, api_endpoint, astra_db_client, async_astra_db_client, namespace, metric, batch_size, bulk_insert_batch_concurrency, bulk_insert_overwrite_concurrency, bulk_delete_concurrency, setup_mode, pre_delete_collection, metadata_indexing_include, metadata_indexing_exclude, collection_indexing_policy, collection_vector_service_options, collection_embedding_api_key)\u001b[0m\n\u001b[0;32m    253\u001b[0m \u001b[38;5;66;03m# Embedding and the server-side embeddings are mutually exclusive,\u001b[39;00m\n\u001b[0;32m    254\u001b[0m \u001b[38;5;66;03m# as both specify how to produce embeddings\u001b[39;00m\n\u001b[0;32m    255\u001b[0m \u001b[38;5;28;01mif\u001b[39;00m embedding \u001b[38;5;129;01mis\u001b[39;00m \u001b[38;5;28;01mNone\u001b[39;00m \u001b[38;5;129;01mand\u001b[39;00m collection_vector_service_options \u001b[38;5;129;01mis\u001b[39;00m \u001b[38;5;28;01mNone\u001b[39;00m:\n\u001b[1;32m--> 256\u001b[0m     \u001b[38;5;28;01mraise\u001b[39;00m \u001b[38;5;167;01mValueError\u001b[39;00m(\n\u001b[0;32m    257\u001b[0m         \u001b[38;5;124m\"\u001b[39m\u001b[38;5;124mEither an `embedding` or a `collection_vector_service_options`\u001b[39m\u001b[38;5;130;01m\\\u001b[39;00m\n\u001b[0;32m    258\u001b[0m \u001b[38;5;124m            must be provided.\u001b[39m\u001b[38;5;124m\"\u001b[39m\n\u001b[0;32m    259\u001b[0m     )\n\u001b[0;32m    261\u001b[0m \u001b[38;5;28;01mif\u001b[39;00m embedding \u001b[38;5;129;01mis\u001b[39;00m \u001b[38;5;129;01mnot\u001b[39;00m \u001b[38;5;28;01mNone\u001b[39;00m \u001b[38;5;129;01mand\u001b[39;00m collection_vector_service_options \u001b[38;5;129;01mis\u001b[39;00m \u001b[38;5;129;01mnot\u001b[39;00m \u001b[38;5;28;01mNone\u001b[39;00m:\n\u001b[0;32m    262\u001b[0m     \u001b[38;5;28;01mraise\u001b[39;00m \u001b[38;5;167;01mValueError\u001b[39;00m(\n\u001b[0;32m    263\u001b[0m         \u001b[38;5;124m\"\u001b[39m\u001b[38;5;124mOnly one of `embedding` or `collection_vector_service_options`\u001b[39m\u001b[38;5;130;01m\\\u001b[39;00m\n\u001b[0;32m    264\u001b[0m \u001b[38;5;124m            can be provided.\u001b[39m\u001b[38;5;124m\"\u001b[39m\n\u001b[0;32m    265\u001b[0m     )\n",
      "\u001b[1;31mValueError\u001b[0m: Either an `embedding` or a `collection_vector_service_options`                    must be provided."
     ]
    }
   ],
   "source": [
    "vstore = AstraDBVectorStore(\n",
    "    embedding=embe,\n",
    "    collection_name=\"astra_vector_db\",\n",
    "    api_endpoint=os.getenv(\"ASTRA_DB_API_ENDPOINT\"),\n",
    "    token=os.getenv(\"ASTRA_DB_APPLICATION_TOKEN\"),\n",
    ")"
   ]
  }
 ],
 "metadata": {
  "kernelspec": {
   "display_name": ".venv",
   "language": "python",
   "name": "python3"
  },
  "language_info": {
   "codemirror_mode": {
    "name": "ipython",
    "version": 3
   },
   "file_extension": ".py",
   "mimetype": "text/x-python",
   "name": "python",
   "nbconvert_exporter": "python",
   "pygments_lexer": "ipython3",
   "version": "3.10.4"
  }
 },
 "nbformat": 4,
 "nbformat_minor": 2
}
