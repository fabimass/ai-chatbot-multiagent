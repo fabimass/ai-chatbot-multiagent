{
 "cells": [
  {
   "cell_type": "code",
   "execution_count": null,
   "metadata": {},
   "outputs": [],
   "source": [
    "pip install langchain==0.2.11 langchain-community==0.2.10 scikit-learn==1.5.0 langchain-openai==0.1.22 langgraph==0.2.59 azure-search-documents azure-identity pyodbc"
   ]
  },
  {
   "cell_type": "code",
   "execution_count": 1,
   "metadata": {},
   "outputs": [],
   "source": [
    "import os\n",
    "import re\n",
    "from typing import TypedDict, List\n",
    "from langchain_core.prompts import ChatPromptTemplate\n",
    "from langchain_core.output_parsers import StrOutputParser\n",
    "from langchain_core.runnables import RunnableLambda, RunnablePassthrough\n",
    "from langchain_openai import AzureOpenAIEmbeddings, AzureChatOpenAI\n",
    "from langchain_community.vectorstores.azuresearch import AzureSearch\n",
    "from langchain_community.utilities import SQLDatabase\n",
    "from langgraph.graph import StateGraph\n"
   ]
  },
  {
   "cell_type": "code",
   "execution_count": 4,
   "metadata": {},
   "outputs": [],
   "source": [
    "class State(TypedDict):\n",
    "    question: str\n",
    "    agent_rag: str\n",
    "    agent_sql: str\n",
    "    answer: str"
   ]
  },
  {
   "cell_type": "code",
   "execution_count": 3,
   "metadata": {},
   "outputs": [],
   "source": [
    "agents = [\"agent_rag\"]"
   ]
  },
  {
   "cell_type": "markdown",
   "metadata": {},
   "source": [
    "## RAG agent\n",
    "\n",
    "Retrieves relevant information from a predefined knowledge base and uses this context to generate accurate and contextually relevant responses."
   ]
  },
  {
   "cell_type": "code",
   "execution_count": 76,
   "metadata": {},
   "outputs": [],
   "source": [
    "class AgentRag:\n",
    "    \n",
    "    def __init__(self, index): \n",
    "        # Embeddings model instantiation\n",
    "        self.embeddings = AzureOpenAIEmbeddings(model=\"ada-002\", openai_api_version=\"2024-06-01\")\n",
    "        \n",
    "        # Vector store instantiation\n",
    "        self.vstore = AzureSearch(\n",
    "            azure_search_endpoint=os.getenv(\"AZURE_SEARCH_URI\"),\n",
    "            azure_search_key=os.getenv(\"AZURE_SEARCH_KEY\"),\n",
    "            index_name=index,\n",
    "            embedding_function=self.embeddings.embed_query\n",
    "        )\n",
    "\n",
    "        # LLM instantiation\n",
    "        self.llm = AzureChatOpenAI(\n",
    "            deployment_name=\"gpt-4o\",\n",
    "            api_version=\"2023-06-01-preview\"\n",
    "        )\n",
    "\n",
    "        # The system prompt guides the agent on how to respond\n",
    "        self.system_prompt = (\n",
    "            \"You are an AI assistant for question-answering tasks.\"\n",
    "            \"You are able to answer questions related to Fabian's final project for his master degree in AI.\"\n",
    "            \"If someone asks, 'What can I ask you about?' or other similar questions, respond with the above topics.\"\n",
    "            \"If you're unsure, use the following pieces of retrieved context to answer the question.\" \n",
    "            \"If you don't know the answer, say that you don't know.\"\n",
    "            \"If a question does not relate to Fabian's project, respond with: 'This question falls outside of my knowledge base'.\" \n",
    "            \"Use three sentences maximum and keep the answer concise.\"\n",
    "            \"\\n\\n\"\n",
    "            \"Context: {context}\"\n",
    "        )\n",
    "\n",
    "        # The prompt puts together the system prompt with the user question\n",
    "        self.prompt = ChatPromptTemplate.from_messages(\n",
    "            [\n",
    "                (\"system\", self.system_prompt),\n",
    "                (\"human\", \"{question}\"),\n",
    "            ]\n",
    "        )\n",
    "\n",
    "        # The parser just plucks the string content out of the LLM's output message\n",
    "        self.parser = StrOutputParser()\n",
    "\n",
    "        # The chain orchestrates the whole flow\n",
    "        self.rag_chain = (\n",
    "            {\"context\": self.retrieve, \"question\": RunnablePassthrough()}\n",
    "            #| RunnableLambda(lambda inputs: (print(f\"Logging Inputs: {inputs}\") or inputs))\n",
    "            | self.prompt\n",
    "            | self.llm\n",
    "            | self.parser\n",
    "        )\n",
    "       \n",
    "    def retrieve(self, query):      \n",
    "        docs = self.vstore.similarity_search(query, k=3)\n",
    "        # Put together the results of the similarity search into one chunk of text\n",
    "        return \"\\n\\n\".join(doc.page_content for doc in docs)\n",
    "\n",
    "    def generate(self, state: State):\n",
    "        answer = self.rag_chain.invoke(state[\"question\"])\n",
    "        print(f\"Agent says: {answer}\")\n",
    "        return { \"agent_rag\": answer }\n"
   ]
  },
  {
   "cell_type": "code",
   "execution_count": 77,
   "metadata": {},
   "outputs": [],
   "source": [
    "agent_rag = AgentRag(\"rag-v2\")"
   ]
  },
  {
   "cell_type": "code",
   "execution_count": 6,
   "metadata": {},
   "outputs": [
    {
     "data": {
      "text/plain": [
       "{'agent_rag': 'El objetivo del proyecto de Fabián es desarrollar un chatbot especializado que pueda ser entrenado con documentos propietarios de una empresa. Este chatbot debe ser capaz de interpretar correctamente las consultas de los usuarios y proporcionar respuestas precisas y relevantes basadas en el contenido de los documentos.'}"
      ]
     },
     "execution_count": 6,
     "metadata": {},
     "output_type": "execute_result"
    }
   ],
   "source": [
    "agent_rag.generate({\"question\": \"hablame acerca de los objetivos del proyecto de Fabian\"})"
   ]
  },
  {
   "cell_type": "markdown",
   "metadata": {},
   "source": [
    "## SQL agent\n",
    "\n",
    "An agent that can answer questions about a SQL database.\n",
    "\n",
    "At a high level, the agent will: \n",
    "\n",
    "1. Fetch the available schema from the database (tables, columns and data types) \n",
    "2. Generate a query based on the question and information from the schema \n",
    "3. Double-check the query for common mistakes and adjust if needed\n",
    "4. Execute the query\n",
    "5. Formulate a response based on the results\n",
    "\n",
    "![](images/sql_agent.png)"
   ]
  },
  {
   "cell_type": "code",
   "execution_count": 2,
   "metadata": {},
   "outputs": [],
   "source": [
    "# Connection details for Azure SQL Server\n",
    "server = \"chatwithfabi-dev-sqlserver.database.windows.net\"\n",
    "database = \"chatwithfabi-dev-sqldb\"\n",
    "username = os.getenv(\"SQL_AGENT_USERNAME\")\n",
    "password = os.getenv(\"SQL_AGENT_PASSWORD\")\n",
    "driver = \"ODBC+Driver+18+for+SQL+Server\"\n",
    "\n",
    "# Construct the URI\n",
    "db_uri = f\"mssql+pyodbc://{username}:{password}@{server}:1433/{database}?driver={driver}\""
   ]
  },
  {
   "cell_type": "code",
   "execution_count": 32,
   "metadata": {},
   "outputs": [],
   "source": [
    "class AgentSql:\n",
    "    \n",
    "    def __init__(self, db_uri, name=\"SQL Agent\"): \n",
    "        self.name = name\n",
    "        \n",
    "        # Database instantiation\n",
    "        self.db_uri = db_uri\n",
    "        self.db = self.connect()\n",
    "        \n",
    "        # LLM instantiation\n",
    "        self.llm = AzureChatOpenAI(\n",
    "            deployment_name=\"gpt-4o\",\n",
    "            api_version=\"2023-06-01-preview\"\n",
    "        )\n",
    "\n",
    "        # The prompt puts together the system prompt with the user question\n",
    "        self.prompt = lambda inputs: ChatPromptTemplate.from_messages(\n",
    "            [\n",
    "                (\"system\", inputs[\"system_prompt\"]),\n",
    "                (\"human\", inputs[\"human_prompt\"]),\n",
    "            ]\n",
    "        )\n",
    "\n",
    "        # The parser just plucks the string content out of the LLM's output message\n",
    "        self.parser = StrOutputParser()\n",
    "\n",
    "        # A prompt to generate a SQL query from a user question\n",
    "        self.query_generator_prompt = (\n",
    "            \"You are a SQL expert with a strong attention to detail.\"\n",
    "            \"Given an input question, output a syntactically correct SQL query to run.\"\n",
    "            \"Respond only with the generated query, nothing else.\"\n",
    "            \"When generating the query:\"\n",
    "            \"- Unless the user specifies a specific number of examples they wish to obtain, always limit your query to at most 5 results.\" \n",
    "            \"- You can order the results by a relevant column to return the most interesting examples in the database.\"\n",
    "            \"- Never query for all the columns from a specific table, only ask for the relevant columns given the question.\" \n",
    "            \"- DO NOT make any DML statements (INSERT, UPDATE, DELETE, DROP etc.) to the database.\"\n",
    "            \"- Pay attention to use only the column names that you can see in the schema description. Be careful to not query for columns that do not exist. Also, pay attention to which column is in which table.\"\n",
    "            \"\\n\\n\"\n",
    "            \"Schema description (TABLE_SCHEMA, TABLE_NAME, COLUMN_NAME, DATA_TYPE): {schema}\"\n",
    "        )\n",
    "\n",
    "        self.query_generator_chain = (\n",
    "            { \"question\": RunnableLambda(lambda inputs: inputs[\"question\"]), \"schema\": RunnableLambda(lambda inputs: inputs[\"schema\"]) }\n",
    "            #| RunnableLambda(lambda inputs: (print(f\"Logging Inputs: {inputs}\") or inputs))\n",
    "            | RunnableLambda(lambda inputs: self.prompt({\"system_prompt\": self.query_generator_prompt, \"human_prompt\": inputs[\"question\"]}))\n",
    "            | self.llm\n",
    "            | self.parser\n",
    "        )\n",
    "\n",
    "        # A prompt to double check the generated query and adjust if needed\n",
    "        self.query_corrector_prompt = (\n",
    "            \"You are a SQL expert with a strong attention to detail.\"\n",
    "            \"Double check the SQL query for common mistakes, including:\"\n",
    "            \"- Using NOT IN with NULL values\"\n",
    "            \"- Using UNION when UNION ALL should have been used\"\n",
    "            \"- Using BETWEEN for exclusive ranges\"\n",
    "            \"- Data type mismatch in predicates\"\n",
    "            \"- Properly quoting identifiers (e.g., using square brackets for column/table names)\"\n",
    "            \"- Using the correct number of arguments for functions\"\n",
    "            \"- Casting to the correct data type\"\n",
    "            \"- Using the proper columns for joins\"\n",
    "            \"- Ensuring TOP is used for limiting rows instead of LIMIT\"\n",
    "            \"If there are any of the above mistakes, rewrite the query. If there are no mistakes, just reproduce the original query.\"\n",
    "            \"Respond only with the rewritten query or the original query, nothing else.\"\n",
    "        )\n",
    "\n",
    "        self.query_corrector_chain = (\n",
    "            { \"query\": RunnablePassthrough() }\n",
    "            #| RunnableLambda(lambda inputs: (print(f\"Logging Inputs: {inputs}\") or inputs))\n",
    "            | RunnableLambda(lambda inputs: self.prompt({\"system_prompt\": self.query_corrector_prompt, \"human_prompt\": inputs[\"query\"]}))\n",
    "            | self.llm\n",
    "            | self.parser\n",
    "        )\n",
    "\n",
    "        # A prompt to generate an answer to the question given the information pulled from the database\n",
    "        self.answer_generator_prompt = (\n",
    "            \"Given the following user question, corresponding SQL query, and SQL result, answer the user question.\"\n",
    "            \"\\n\\n\"\n",
    "            \"SQL query: {query}\"\n",
    "            \"SQL result: {result}\"\n",
    "        )\n",
    "\n",
    "        self.answer_generator_chain = (\n",
    "            { \"question\": RunnableLambda(lambda inputs: inputs[\"question\"]), \"query\": RunnableLambda(lambda inputs: inputs[\"query\"]), \"result\": RunnableLambda(lambda inputs: inputs[\"result\"]) }\n",
    "            #| RunnableLambda(lambda inputs: (print(f\"Logging Inputs: {inputs}\") or inputs))\n",
    "            | RunnableLambda(lambda inputs: self.prompt({\"system_prompt\": self.answer_generator_prompt, \"human_prompt\": inputs[\"question\"]}))\n",
    "            | self.llm\n",
    "            | self.parser\n",
    "        )\n",
    "\n",
    "    def connect(self):\n",
    "        print(f\"{self.name} says: connecting to database...\")\n",
    "        db = SQLDatabase.from_uri(self.db_uri)\n",
    "        print(f\"{self.name} says: connection established.\")\n",
    "        return db\n",
    "\n",
    "    def check_connection(self):\n",
    "        print(f\"{self.name} says: checking connection to database...\")\n",
    "        try:\n",
    "            self.db.run(\"\"\"SELECT 1\"\"\")\n",
    "            print(f\"{self.name} says: connection up and running.\")\n",
    "            return True\n",
    "        except Exception as e:\n",
    "            print(f\"{self.name} says: there is no open connection.\")\n",
    "            return False\n",
    "\n",
    "    def get_schema(self):\n",
    "        print(f\"{self.name} says: retrieving database schema...\")\n",
    "        schema = self.db.run(\"\"\"SELECT \n",
    "                                TABLE_SCHEMA, \n",
    "                                TABLE_NAME,\n",
    "                                COLUMN_NAME,\n",
    "                                DATA_TYPE \n",
    "                        FROM INFORMATION_SCHEMA.COLUMNS\"\"\")\n",
    "        print(f\"{self.name} says: {schema}\")\n",
    "        return schema\n",
    "\n",
    "    def generate_query(self, question, schema):\n",
    "        print(f\"{self.name} says: generating query...\")\n",
    "        query = self.query_generator_chain.invoke({\"question\": question, \"schema\": schema})\n",
    "        print(f\"{self.name} says: {query}\")\n",
    "\n",
    "        print(f\"{self.name} says: reviewing query...\")\n",
    "        corrected_query = self.query_corrector_chain.invoke(query)\n",
    "        print(f\"{self.name} says: {corrected_query}\")\n",
    "\n",
    "        cleaned_query = re.sub(r\"^```sql\\n\", \"\", corrected_query)  # Remove start markdown\n",
    "        cleaned_query = re.sub(r\"\\n```$\", \"\", cleaned_query)  # Remove end markdown\n",
    "        cleaned_query = re.sub(r\"\\n\", \" \", cleaned_query) # Replace new line with space\n",
    "        cleaned_query = cleaned_query.strip() # Remove leading and trailing whitespace (just in case)\n",
    "        \n",
    "        return cleaned_query\n",
    "    \n",
    "    def run_query(self, query):\n",
    "        print(f\"{self.name} says: executing query...\")\n",
    "        result = self.db.run(query)\n",
    "        print(f\"{self.name} says: {result}\")\n",
    "        return result\n",
    "    \n",
    "    def generate_answer(self, state: State):\n",
    "        print(f\"{self.name} says: received question '{state['question']}'\")\n",
    "        \n",
    "        # Reconnect with database if connection was closed\n",
    "        if(self.check_connection() is False):\n",
    "            self.connect()\n",
    "        \n",
    "        try:\n",
    "            # Get tables and columns from the database\n",
    "            schema = self.get_schema()\n",
    "\n",
    "            # Construct a SQL query\n",
    "            query = self.generate_query(state['question'], schema)\n",
    "\n",
    "            # Execute the query\n",
    "            result = self.run_query(query)\n",
    "\n",
    "            # Finally answer the question\n",
    "            print(f\"{self.name} says: generating answer...\")\n",
    "            answer = self.answer_generator_chain.invoke({\"question\": state[\"question\"], \"query\": query, \"result\": result})\n",
    "            print(f\"{self.name} says: {answer}\")\n",
    "            return { \"agent_sql\": answer }\n",
    "        except Exception as e:\n",
    "            print(f\"{self.name} says: ERROR {e}\")\n",
    "            return { \"agent_sql\": f\"I don't know\" }"
   ]
  },
  {
   "cell_type": "code",
   "execution_count": 33,
   "metadata": {},
   "outputs": [
    {
     "name": "stdout",
     "output_type": "stream",
     "text": [
      "SQL Agent says: connecting to database...\n",
      "SQL Agent says: connection established.\n"
     ]
    }
   ],
   "source": [
    "agent_sql = AgentSql(db_uri)"
   ]
  },
  {
   "cell_type": "code",
   "execution_count": 34,
   "metadata": {},
   "outputs": [
    {
     "name": "stdout",
     "output_type": "stream",
     "text": [
      "SQL Agent says: received question 'which are the 10 most expensive products?'\n",
      "SQL Agent says: checking connection to database...\n",
      "SQL Agent says: connection up and running.\n",
      "SQL Agent says: retrieving database schema...\n",
      "SQL Agent says: [('sys', 'database_firewall_rules', 'id', 'int'), ('sys', 'database_firewall_rules', 'name', 'nvarchar'), ('sys', 'database_firewall_rules', 'start_ip_address', 'varchar'), ('sys', 'database_firewall_rules', 'end_ip_address', 'varchar'), ('sys', 'database_firewall_rules', 'create_date', 'datetime'), ('sys', 'database_firewall_rules', 'modify_date', 'datetime'), ('SalesLT', 'Customer', 'CustomerID', 'int'), ('SalesLT', 'Customer', 'NameStyle', 'bit'), ('SalesLT', 'Customer', 'Title', 'nvarchar'), ('SalesLT', 'Customer', 'FirstName', 'nvarchar'), ('SalesLT', 'Customer', 'MiddleName', 'nvarchar'), ('SalesLT', 'Customer', 'LastName', 'nvarchar'), ('SalesLT', 'Customer', 'Suffix', 'nvarchar'), ('SalesLT', 'Customer', 'CompanyName', 'nvarchar'), ('SalesLT', 'Customer', 'SalesPerson', 'nvarchar'), ('SalesLT', 'Customer', 'EmailAddress', 'nvarchar'), ('SalesLT', 'Customer', 'Phone', 'nvarchar'), ('SalesLT', 'Customer', 'PasswordHash', 'varchar'), ('SalesLT', 'Customer', 'PasswordSalt', 'varchar'), ('SalesLT', 'Customer', 'rowguid', 'uniqueidentifier'), ('SalesLT', 'Customer', 'ModifiedDate', 'datetime'), ('SalesLT', 'ProductModel', 'ProductModelID', 'int'), ('SalesLT', 'ProductModel', 'Name', 'nvarchar'), ('SalesLT', 'ProductModel', 'CatalogDescription', 'xml'), ('SalesLT', 'ProductModel', 'rowguid', 'uniqueidentifier'), ('SalesLT', 'ProductModel', 'ModifiedDate', 'datetime'), ('SalesLT', 'vProductModelCatalogDescription', 'ProductModelID', 'int'), ('SalesLT', 'vProductModelCatalogDescription', 'Name', 'nvarchar'), ('SalesLT', 'vProductModelCatalogDescription', 'Summary', 'nvarchar'), ('SalesLT', 'vProductModelCatalogDescription', 'Manufacturer', 'nvarchar'), ('SalesLT', 'vProductModelCatalogDescription', 'Copyright', 'nvarchar'), ('SalesLT', 'vProductModelCatalogDescription', 'ProductURL', 'nvarchar'), ('SalesLT', 'vProductModelCatalogDescription', 'WarrantyPeriod', 'nvarchar'), ('SalesLT', 'vProductModelCatalogDescription', 'WarrantyDescription', 'nvarchar'), ('SalesLT', 'vProductModelCatalogDescription', 'NoOfYears', 'nvarchar'), ('SalesLT', 'vProductModelCatalogDescription', 'MaintenanceDescription', 'nvarchar'), ('SalesLT', 'vProductModelCatalogDescription', 'Wheel', 'nvarchar'), ('SalesLT', 'vProductModelCatalogDescription', 'Saddle', 'nvarchar'), ('SalesLT', 'vProductModelCatalogDescription', 'Pedal', 'nvarchar'), ('SalesLT', 'vProductModelCatalogDescription', 'BikeFrame', 'nvarchar'), ('SalesLT', 'vProductModelCatalogDescription', 'Crankset', 'nvarchar'), ('SalesLT', 'vProductModelCatalogDescription', 'PictureAngle', 'nvarchar'), ('SalesLT', 'vProductModelCatalogDescription', 'PictureSize', 'nvarchar'), ('SalesLT', 'vProductModelCatalogDescription', 'ProductPhotoID', 'nvarchar'), ('SalesLT', 'vProductModelCatalogDescription', 'Material', 'nvarchar'), ('SalesLT', 'vProductModelCatalogDescription', 'Color', 'nvarchar'), ('SalesLT', 'vProductModelCatalogDescription', 'ProductLine', 'nvarchar'), ('SalesLT', 'vProductModelCatalogDescription', 'Style', 'nvarchar'), ('SalesLT', 'vProductModelCatalogDescription', 'RiderExperience', 'nvarchar'), ('SalesLT', 'vProductModelCatalogDescription', 'rowguid', 'uniqueidentifier'), ('SalesLT', 'vProductModelCatalogDescription', 'ModifiedDate', 'datetime'), ('SalesLT', 'ProductDescription', 'ProductDescriptionID', 'int'), ('SalesLT', 'ProductDescription', 'Description', 'nvarchar'), ('SalesLT', 'ProductDescription', 'rowguid', 'uniqueidentifier'), ('SalesLT', 'ProductDescription', 'ModifiedDate', 'datetime'), ('SalesLT', 'Product', 'ProductID', 'int'), ('SalesLT', 'Product', 'Name', 'nvarchar'), ('SalesLT', 'Product', 'ProductNumber', 'nvarchar'), ('SalesLT', 'Product', 'Color', 'nvarchar'), ('SalesLT', 'Product', 'StandardCost', 'money'), ('SalesLT', 'Product', 'ListPrice', 'money'), ('SalesLT', 'Product', 'Size', 'nvarchar'), ('SalesLT', 'Product', 'Weight', 'decimal'), ('SalesLT', 'Product', 'ProductCategoryID', 'int'), ('SalesLT', 'Product', 'ProductModelID', 'int'), ('SalesLT', 'Product', 'SellStartDate', 'datetime'), ('SalesLT', 'Product', 'SellEndDate', 'datetime'), ('SalesLT', 'Product', 'DiscontinuedDate', 'datetime'), ('SalesLT', 'Product', 'ThumbNailPhoto', 'varbinary'), ('SalesLT', 'Product', 'ThumbnailPhotoFileName', 'nvarchar'), ('SalesLT', 'Product', 'rowguid', 'uniqueidentifier'), ('SalesLT', 'Product', 'ModifiedDate', 'datetime'), ('SalesLT', 'ProductModelProductDescription', 'ProductModelID', 'int'), ('SalesLT', 'ProductModelProductDescription', 'ProductDescriptionID', 'int'), ('SalesLT', 'ProductModelProductDescription', 'Culture', 'nchar'), ('SalesLT', 'ProductModelProductDescription', 'rowguid', 'uniqueidentifier'), ('SalesLT', 'ProductModelProductDescription', 'ModifiedDate', 'datetime'), ('SalesLT', 'vProductAndDescription', 'ProductID', 'int'), ('SalesLT', 'vProductAndDescription', 'Name', 'nvarchar'), ('SalesLT', 'vProductAndDescription', 'ProductModel', 'nvarchar'), ('SalesLT', 'vProductAndDescription', 'Culture', 'nchar'), ('SalesLT', 'vProductAndDescription', 'Description', 'nvarchar'), ('SalesLT', 'ProductCategory', 'ProductCategoryID', 'int'), ('SalesLT', 'ProductCategory', 'ParentProductCategoryID', 'int'), ('SalesLT', 'ProductCategory', 'Name', 'nvarchar'), ('SalesLT', 'ProductCategory', 'rowguid', 'uniqueidentifier'), ('SalesLT', 'ProductCategory', 'ModifiedDate', 'datetime'), ('SalesLT', 'vGetAllCategories', 'ParentProductCategoryName', 'nvarchar'), ('SalesLT', 'vGetAllCategories', 'ProductCategoryName', 'nvarchar'), ('SalesLT', 'vGetAllCategories', 'ProductCategoryID', 'int'), ('dbo', 'BuildVersion', 'SystemInformationID', 'tinyint'), ('dbo', 'BuildVersion', 'Database Version', 'nvarchar'), ('dbo', 'BuildVersion', 'VersionDate', 'datetime'), ('dbo', 'BuildVersion', 'ModifiedDate', 'datetime'), ('dbo', 'ErrorLog', 'ErrorLogID', 'int'), ('dbo', 'ErrorLog', 'ErrorTime', 'datetime'), ('dbo', 'ErrorLog', 'UserName', 'nvarchar'), ('dbo', 'ErrorLog', 'ErrorNumber', 'int'), ('dbo', 'ErrorLog', 'ErrorSeverity', 'int'), ('dbo', 'ErrorLog', 'ErrorState', 'int'), ('dbo', 'ErrorLog', 'ErrorProcedure', 'nvarchar'), ('dbo', 'ErrorLog', 'ErrorLine', 'int'), ('dbo', 'ErrorLog', 'ErrorMessage', 'nvarchar'), ('SalesLT', 'Address', 'AddressID', 'int'), ('SalesLT', 'Address', 'AddressLine1', 'nvarchar'), ('SalesLT', 'Address', 'AddressLine2', 'nvarchar'), ('SalesLT', 'Address', 'City', 'nvarchar'), ('SalesLT', 'Address', 'StateProvince', 'nvarchar'), ('SalesLT', 'Address', 'CountryRegion', 'nvarchar'), ('SalesLT', 'Address', 'PostalCode', 'nvarchar'), ('SalesLT', 'Address', 'rowguid', 'uniqueidentifier'), ('SalesLT', 'Address', 'ModifiedDate', 'datetime'), ('SalesLT', 'CustomerAddress', 'CustomerID', 'int'), ('SalesLT', 'CustomerAddress', 'AddressID', 'int'), ('SalesLT', 'CustomerAddress', 'AddressType', 'nvarchar'), ('SalesLT', 'CustomerAddress', 'rowguid', 'uniqueidentifier'), ('SalesLT', 'CustomerAddress', 'ModifiedDate', 'datetime'), ('SalesLT', 'SalesOrderDetail', 'SalesOrderID', 'int'), ('SalesLT', 'SalesOrderDetail', 'SalesOrderDetailID', 'int'), ('SalesLT', 'SalesOrderDetail', 'OrderQty', 'smallint'), ('SalesLT', 'SalesOrderDetail', 'ProductID', 'int'), ('SalesLT', 'SalesOrderDetail', 'UnitPrice', 'money'), ('SalesLT', 'SalesOrderDetail', 'UnitPriceDiscount', 'money'), ('SalesLT', 'SalesOrderDetail', 'LineTotal', 'numeric'), ('SalesLT', 'SalesOrderDetail', 'rowguid', 'uniqueidentifier'), ('SalesLT', 'SalesOrderDetail', 'ModifiedDate', 'datetime'), ('SalesLT', 'SalesOrderHeader', 'SalesOrderID', 'int'), ('SalesLT', 'SalesOrderHeader', 'RevisionNumber', 'tinyint'), ('SalesLT', 'SalesOrderHeader', 'OrderDate', 'datetime'), ('SalesLT', 'SalesOrderHeader', 'DueDate', 'datetime'), ('SalesLT', 'SalesOrderHeader', 'ShipDate', 'datetime'), ('SalesLT', 'SalesOrderHeader', 'Status', 'tinyint'), ('SalesLT', 'SalesOrderHeader', 'OnlineOrderFlag', 'bit'), ('SalesLT', 'SalesOrderHeader', 'SalesOrderNumber', 'nvarchar'), ('SalesLT', 'SalesOrderHeader', 'PurchaseOrderNumber', 'nvarchar'), ('SalesLT', 'SalesOrderHeader', 'AccountNumber', 'nvarchar'), ('SalesLT', 'SalesOrderHeader', 'CustomerID', 'int'), ('SalesLT', 'SalesOrderHeader', 'ShipToAddressID', 'int'), ('SalesLT', 'SalesOrderHeader', 'BillToAddressID', 'int'), ('SalesLT', 'SalesOrderHeader', 'ShipMethod', 'nvarchar'), ('SalesLT', 'SalesOrderHeader', 'CreditCardApprovalCode', 'varchar'), ('SalesLT', 'SalesOrderHeader', 'SubTotal', 'money'), ('SalesLT', 'SalesOrderHeader', 'TaxAmt', 'money'), ('SalesLT', 'SalesOrderHeader', 'Freight', 'money'), ('SalesLT', 'SalesOrderHeader', 'TotalDue', 'money'), ('SalesLT', 'SalesOrderHeader', 'Comment', 'nvarchar'), ('SalesLT', 'SalesOrderHeader', 'rowguid', 'uniqueidentifier'), ('SalesLT', 'SalesOrderHeader', 'ModifiedDate', 'datetime')]\n",
      "SQL Agent says: generating query...\n",
      "SQL Agent says: ```sql\n",
      "SELECT Name, ListPrice\n",
      "FROM SalesLT.Product\n",
      "ORDER BY ListPrice DESC\n",
      "LIMIT 10;\n",
      "```\n",
      "SQL Agent says: reviewing query...\n",
      "SQL Agent says: ```sql\n",
      "SELECT TOP 10 Name, ListPrice\n",
      "FROM SalesLT.Product\n",
      "ORDER BY ListPrice DESC;\n",
      "```\n",
      "SQL Agent says: executing query...\n",
      "SQL Agent says: [('Road-150 Red, 62', Decimal('3578.2700')), ('Road-150 Red, 44', Decimal('3578.2700')), ('Road-150 Red, 48', Decimal('3578.2700')), ('Road-150 Red, 52', Decimal('3578.2700')), ('Road-150 Red, 56', Decimal('3578.2700')), ('Mountain-100 Silver, 38', Decimal('3399.9900')), ('Mountain-100 Silver, 42', Decimal('3399.9900')), ('Mountain-100 Silver, 44', Decimal('3399.9900')), ('Mountain-100 Silver, 48', Decimal('3399.9900')), ('Mountain-100 Black, 38', Decimal('3374.9900'))]\n",
      "SQL Agent says: generating answer...\n",
      "SQL Agent says: The 10 most expensive products are:\n",
      "\n",
      "1. Road-150 Red, 62 (List Price: $3578.27)\n",
      "2. Road-150 Red, 44 (List Price: $3578.27)\n",
      "3. Road-150 Red, 48 (List Price: $3578.27)\n",
      "4. Road-150 Red, 52 (List Price: $3578.27)\n",
      "5. Road-150 Red, 56 (List Price: $3578.27)\n",
      "6. Mountain-100 Silver, 38 (List Price: $3399.99)\n",
      "7. Mountain-100 Silver, 42 (List Price: $3399.99)\n",
      "8. Mountain-100 Silver, 44 (List Price: $3399.99)\n",
      "9. Mountain-100 Silver, 48 (List Price: $3399.99)\n",
      "10. Mountain-100 Black, 38 (List Price: $3374.99)\n"
     ]
    },
    {
     "data": {
      "text/plain": [
       "{'agent_sql': 'The 10 most expensive products are:\\n\\n1. Road-150 Red, 62 (List Price: $3578.27)\\n2. Road-150 Red, 44 (List Price: $3578.27)\\n3. Road-150 Red, 48 (List Price: $3578.27)\\n4. Road-150 Red, 52 (List Price: $3578.27)\\n5. Road-150 Red, 56 (List Price: $3578.27)\\n6. Mountain-100 Silver, 38 (List Price: $3399.99)\\n7. Mountain-100 Silver, 42 (List Price: $3399.99)\\n8. Mountain-100 Silver, 44 (List Price: $3399.99)\\n9. Mountain-100 Silver, 48 (List Price: $3399.99)\\n10. Mountain-100 Black, 38 (List Price: $3374.99)'}"
      ]
     },
     "execution_count": 34,
     "metadata": {},
     "output_type": "execute_result"
    }
   ],
   "source": [
    "agent_sql.generate_answer({\"question\": \"which are the 10 most expensive products?\"})"
   ]
  },
  {
   "cell_type": "markdown",
   "metadata": {},
   "source": [
    "## Supervisor\n",
    "\n",
    "Picks the next agent to process and decides when the work is completed. Then generates a final answer based on the output of the other agents."
   ]
  },
  {
   "cell_type": "code",
   "execution_count": 71,
   "metadata": {},
   "outputs": [],
   "source": [
    "class Supervisor:\n",
    "    \n",
    "    def __init__(self, agent_list): \n",
    "\n",
    "        # List with all the agents to supervise\n",
    "        self.agents = agent_list\n",
    "\n",
    "        # Instantiate a pre-trained Large Language Model from Azure OpenAI\n",
    "        self.llm = AzureChatOpenAI(\n",
    "            deployment_name=\"gpt-4o\",\n",
    "            api_version=\"2023-06-01-preview\"\n",
    "        )\n",
    "\n",
    "        # The system prompt guides the agent on how to respond\n",
    "        self.system_prompt = (\n",
    "            f\"You are a supervisor tasked with managing a conversation between the following workers: {self.agents}.\"\n",
    "            \"Given the following user question, all the workers will provide a response.\"\n",
    "            \"Your task is to analyze each of the responses and provide the best possible response to the user.\"\n",
    "            \"Do not make up for new information that is not explicitly in the workers response.\"\n",
    "            \"\\n\\n\"\n",
    "            \"Workers response: {agents_output}\"\n",
    "        )\n",
    "\n",
    "        # The prompt puts together the system prompt with the user question\n",
    "        self.prompt = ChatPromptTemplate.from_messages(\n",
    "            [\n",
    "                (\"system\", self.system_prompt),\n",
    "                (\"human\", \"{question}\"),\n",
    "            ]\n",
    "        )\n",
    "\n",
    "        # The parser just plucks the string content out of the LLM's output message\n",
    "        self.parser = StrOutputParser()\n",
    "\n",
    "        # The chain orchestrates the whole flow\n",
    "        self.rag_chain = (\n",
    "            {\"question\": RunnableLambda(lambda inputs: inputs[\"input\"]), \"agents_output\": RunnableLambda(lambda inputs: inputs[\"agents_output\"]), \"history\": RunnableLambda(lambda inputs: inputs[\"history\"])}\n",
    "            #| RunnableLambda(lambda inputs: (print(f\"Logging Inputs: {inputs}\") or inputs))\n",
    "            | self.prompt\n",
    "            | self.llm\n",
    "            | self.parser\n",
    "        )\n",
    "       \n",
    "    def pick_next_agent(self, state: AgentState):\n",
    "        for agent in self.agents:\n",
    "            if agent not in state:\n",
    "                print(f\"Next agent: {agent}\")\n",
    "                return { \"next\": agent }\n",
    "        return { \"next\": \"FINISH\" }\n",
    "\n",
    "    def summarize(self, state: AgentState):\n",
    "        print(\"Summarizing...\")\n",
    "        agents_output = {key: state[key] for key in self.agents if key in state}\n",
    "        answer = self.rag_chain.invoke({\"input\": state[\"question\"], \"agents_output\": agents_output, \"history\": []})\n",
    "        return { \"answer\": answer }\n"
   ]
  },
  {
   "cell_type": "code",
   "execution_count": 72,
   "metadata": {},
   "outputs": [],
   "source": [
    "supervisor = Supervisor(agents)"
   ]
  },
  {
   "cell_type": "code",
   "execution_count": 39,
   "metadata": {},
   "outputs": [
    {
     "data": {
      "text/plain": [
       "'agent_rag'"
      ]
     },
     "execution_count": 39,
     "metadata": {},
     "output_type": "execute_result"
    }
   ],
   "source": [
    "supervisor.pick_next_agent({\"question\": \"hablame acerca de los objetivos del proyecto de Fabian\"})"
   ]
  },
  {
   "cell_type": "code",
   "execution_count": 40,
   "metadata": {},
   "outputs": [
    {
     "data": {
      "text/plain": [
       "'FINISH'"
      ]
     },
     "execution_count": 40,
     "metadata": {},
     "output_type": "execute_result"
    }
   ],
   "source": [
    "supervisor.pick_next_agent({\"question\": \"hablame acerca de los objetivos del proyecto de Fabian\", \"agent_rag\": \"El objetivo del proyecto de Fabián es desarrollar un chatbot\"})"
   ]
  },
  {
   "cell_type": "code",
   "execution_count": 64,
   "metadata": {},
   "outputs": [
    {
     "name": "stdout",
     "output_type": "stream",
     "text": [
      "Logging Inputs: {'question': 'hablame acerca de los objetivos del proyecto de Fabian', 'agents_output': {'agent_rag': 'El objetivo del proyecto de Fabián es desarrollar un chatbot'}, 'history': []}\n"
     ]
    },
    {
     "data": {
      "text/plain": [
       "{'answer': 'El objetivo del proyecto de Fabián es desarrollar un chatbot.'}"
      ]
     },
     "execution_count": 64,
     "metadata": {},
     "output_type": "execute_result"
    }
   ],
   "source": [
    "supervisor.summarize({\"question\": \"hablame acerca de los objetivos del proyecto de Fabian\", \"agent_rag\": \"El objetivo del proyecto de Fabián es desarrollar un chatbot\"})"
   ]
  },
  {
   "cell_type": "markdown",
   "metadata": {},
   "source": [
    "## Graph"
   ]
  },
  {
   "cell_type": "code",
   "execution_count": 78,
   "metadata": {},
   "outputs": [],
   "source": [
    "builder = StateGraph(AgentState)\n",
    "\n",
    "builder.add_node(\"supervisor_node\", supervisor.pick_next_agent)\n",
    "builder.add_node(\"summarizer_node\", supervisor.summarize)\n",
    "builder.add_node(\"rag_node\", agent_rag.generate)\n",
    "\n",
    "builder.add_conditional_edges(\n",
    "    \"supervisor_node\",\n",
    "    RunnableLambda(lambda inputs: inputs[\"next\"]),  \n",
    "    {\"agent_rag\": \"rag_node\", \"FINISH\": \"summarizer_node\"}\n",
    ")\n",
    "builder.add_edge(\"rag_node\", \"supervisor_node\")\n",
    "\n",
    "builder.set_entry_point(\"supervisor_node\")\n",
    "\n",
    "graph = builder.compile()"
   ]
  },
  {
   "cell_type": "code",
   "execution_count": 74,
   "metadata": {},
   "outputs": [
    {
     "data": {
      "image/jpeg": "[encoded data removed]",
      "text/plain": [
       "<IPython.core.display.Image object>"
      ]
     },
     "metadata": {},
     "output_type": "display_data"
    }
   ],
   "source": [
    "from IPython.display import display, Image\n",
    "\n",
    "display(Image(graph.get_graph().draw_mermaid_png()))"
   ]
  },
  {
   "cell_type": "code",
   "execution_count": 79,
   "metadata": {},
   "outputs": [
    {
     "name": "stdout",
     "output_type": "stream",
     "text": [
      "Next agent: agent_rag\n",
      "Agent says: Fabian Alejandro Massotto es un ingeniero que está realizando su Trabajo Final para la Carrera de Especialización en Inteligencia Artificial.\n",
      "Summarizing...\n"
     ]
    },
    {
     "data": {
      "text/plain": [
       "{'question': 'quien es Fabian?',\n",
       " 'agent_rag': 'Fabian Alejandro Massotto es un ingeniero que está realizando su Trabajo Final para la Carrera de Especialización en Inteligencia Artificial.',\n",
       " 'answer': 'Fabian Alejandro Massotto es un ingeniero que está realizando su Trabajo Final para la Carrera de Especialización en Inteligencia Artificial.'}"
      ]
     },
     "execution_count": 79,
     "metadata": {},
     "output_type": "execute_result"
    }
   ],
   "source": [
    "graph.invoke({\"question\": \"quien es Fabian?\"})"
   ]
  }
 ],
 "metadata": {
  "kernelspec": {
   "display_name": "venv",
   "language": "python",
   "name": "python3"
  },
  "language_info": {
   "codemirror_mode": {
    "name": "ipython",
    "version": 3
   },
   "file_extension": ".py",
   "mimetype": "text/x-python",
   "name": "python",
   "nbconvert_exporter": "python",
   "pygments_lexer": "ipython3",
   "version": "3.12.7"
  }
 },
 "nbformat": 4,
 "nbformat_minor": 2
}
