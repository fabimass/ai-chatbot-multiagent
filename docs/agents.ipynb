{
 "cells": [
  {
   "cell_type": "code",
   "execution_count": null,
   "metadata": {},
   "outputs": [],
   "source": [
    "pip install langchain==0.2.11 langchain-community==0.2.10 scikit-learn==1.5.0 langchain-openai==0.1.22 langgraph==0.2.59 azure-search-documents azure-identity"
   ]
  },
  {
   "cell_type": "code",
   "execution_count": 2,
   "metadata": {},
   "outputs": [],
   "source": [
    "from langgraph.graph import StateGraph\n",
    "from typing import TypedDict, List\n",
    "import os\n",
    "from langchain_community.vectorstores.azuresearch import AzureSearch\n",
    "from langchain_openai import AzureOpenAIEmbeddings, AzureChatOpenAI\n",
    "from langchain_core.prompts import ChatPromptTemplate\n",
    "from langchain_core.output_parsers import StrOutputParser\n",
    "from langchain_core.runnables import RunnableLambda, RunnablePassthrough\n"
   ]
  },
  {
   "cell_type": "code",
   "execution_count": 69,
   "metadata": {},
   "outputs": [],
   "source": [
    "class AgentState(TypedDict):\n",
    "    question: str\n",
    "    agent_rag: str\n",
    "    answer: str\n",
    "    "
   ]
  },
  {
   "cell_type": "code",
   "execution_count": 80,
   "metadata": {},
   "outputs": [],
   "source": [
    "agents = [\"agent_rag\"]"
   ]
  },
  {
   "cell_type": "markdown",
   "metadata": {},
   "source": [
    "## RAG agent\n",
    "\n",
    "Retrieves relevant information from a predefined knowledge base and uses this context to generate accurate and contextually relevant responses."
   ]
  },
  {
   "cell_type": "code",
   "execution_count": 76,
   "metadata": {},
   "outputs": [],
   "source": [
    "class AgentRag:\n",
    "    \n",
    "    def __init__(self, index): \n",
    "        # Embeddings model instantiation\n",
    "        self.embeddings = AzureOpenAIEmbeddings(model=\"ada-002\", openai_api_version=\"2024-06-01\")\n",
    "        \n",
    "        # Vector store instantiation\n",
    "        self.vstore = AzureSearch(\n",
    "            azure_search_endpoint=os.getenv(\"AZURE_SEARCH_URI\"),\n",
    "            azure_search_key=os.getenv(\"AZURE_SEARCH_KEY\"),\n",
    "            index_name=index,\n",
    "            embedding_function=self.embeddings.embed_query\n",
    "        )\n",
    "\n",
    "        # Instantiate a pre-trained Large Language Model from Azure OpenAI\n",
    "        self.llm = AzureChatOpenAI(\n",
    "            deployment_name=\"gpt-4o\",\n",
    "            api_version=\"2023-06-01-preview\"\n",
    "        )\n",
    "\n",
    "        # The system prompt guides the agent on how to respond\n",
    "        self.system_prompt = (\n",
    "            \"You are an AI assistant for question-answering tasks.\"\n",
    "            \"You are able to answer questions related to Fabian's final project for his master degree in AI.\"\n",
    "            \"If someone asks, 'What can I ask you about?' or other similar questions, respond with the above topics.\"\n",
    "            \"If you're unsure, use the following pieces of retrieved context to answer the question.\" \n",
    "            \"If you don't know the answer, say that you don't know.\"\n",
    "            \"If a question does not relate to Fabian's project, respond with: 'This question falls outside of my knowledge base'.\" \n",
    "            \"Use three sentences maximum and keep the answer concise.\"\n",
    "            \"\\n\\n\"\n",
    "            \"Context: {context}\"\n",
    "        )\n",
    "\n",
    "        # The prompt puts together the system prompt with the user question\n",
    "        self.prompt = ChatPromptTemplate.from_messages(\n",
    "            [\n",
    "                (\"system\", self.system_prompt),\n",
    "                (\"human\", \"{question}\"),\n",
    "            ]\n",
    "        )\n",
    "\n",
    "        # The parser just plucks the string content out of the LLM's output message\n",
    "        self.parser = StrOutputParser()\n",
    "\n",
    "        # The chain orchestrates the whole flow\n",
    "        self.rag_chain = (\n",
    "            {\"context\": self.retrieve, \"question\": RunnablePassthrough()}\n",
    "            #| RunnableLambda(lambda inputs: (print(f\"Logging Inputs: {inputs}\") or inputs))\n",
    "            | self.prompt\n",
    "            | self.llm\n",
    "            | self.parser\n",
    "        )\n",
    "       \n",
    "    def retrieve(self, query):      \n",
    "        docs = self.vstore.similarity_search(query, k=3)\n",
    "        # Put together the results of the similarity search into one chunk of text\n",
    "        return \"\\n\\n\".join(doc.page_content for doc in docs)\n",
    "\n",
    "    def generate(self, state: AgentState):\n",
    "        answer = self.rag_chain.invoke(state[\"question\"])\n",
    "        print(f\"Agent says: {answer}\")\n",
    "        return { \"agent_rag\": answer }\n"
   ]
  },
  {
   "cell_type": "code",
   "execution_count": 77,
   "metadata": {},
   "outputs": [],
   "source": [
    "agent_rag = AgentRag(\"rag-v2\")"
   ]
  },
  {
   "cell_type": "code",
   "execution_count": 6,
   "metadata": {},
   "outputs": [
    {
     "data": {
      "text/plain": [
       "{'agent_rag': 'El objetivo del proyecto de Fabián es desarrollar un chatbot especializado que pueda ser entrenado con documentos propietarios de una empresa. Este chatbot debe ser capaz de interpretar correctamente las consultas de los usuarios y proporcionar respuestas precisas y relevantes basadas en el contenido de los documentos.'}"
      ]
     },
     "execution_count": 6,
     "metadata": {},
     "output_type": "execute_result"
    }
   ],
   "source": [
    "agent_rag.generate({\"question\": \"hablame acerca de los objetivos del proyecto de Fabian\"})"
   ]
  },
  {
   "cell_type": "markdown",
   "metadata": {},
   "source": [
    "## Supervisor\n",
    "\n",
    "Picks the next agent to process and decides when the work is completed. Then generates a final answer based on the output of the other agents."
   ]
  },
  {
   "cell_type": "code",
   "execution_count": 71,
   "metadata": {},
   "outputs": [],
   "source": [
    "class Supervisor:\n",
    "    \n",
    "    def __init__(self, agent_list): \n",
    "\n",
    "        # List with all the agents to supervise\n",
    "        self.agents = agent_list\n",
    "\n",
    "        # Instantiate a pre-trained Large Language Model from Azure OpenAI\n",
    "        self.llm = AzureChatOpenAI(\n",
    "            deployment_name=\"gpt-4o\",\n",
    "            api_version=\"2023-06-01-preview\"\n",
    "        )\n",
    "\n",
    "        # The system prompt guides the agent on how to respond\n",
    "        self.system_prompt = (\n",
    "            f\"You are a supervisor tasked with managing a conversation between the following workers: {self.agents}.\"\n",
    "            \"Given the following user question, all the workers will provide a response.\"\n",
    "            \"Your task is to analyze each of the responses and provide the best possible response to the user.\"\n",
    "            \"Do not make up for new information that is not explicitly in the workers response.\"\n",
    "            \"\\n\\n\"\n",
    "            \"Workers response: {agents_output}\"\n",
    "        )\n",
    "\n",
    "        # The prompt puts together the system prompt with the user question\n",
    "        self.prompt = ChatPromptTemplate.from_messages(\n",
    "            [\n",
    "                (\"system\", self.system_prompt),\n",
    "                (\"human\", \"{question}\"),\n",
    "            ]\n",
    "        )\n",
    "\n",
    "        # The parser just plucks the string content out of the LLM's output message\n",
    "        self.parser = StrOutputParser()\n",
    "\n",
    "        # The chain orchestrates the whole flow\n",
    "        self.rag_chain = (\n",
    "            {\"question\": RunnableLambda(lambda inputs: inputs[\"input\"]), \"agents_output\": RunnableLambda(lambda inputs: inputs[\"agents_output\"]), \"history\": RunnableLambda(lambda inputs: inputs[\"history\"])}\n",
    "            #| RunnableLambda(lambda inputs: (print(f\"Logging Inputs: {inputs}\") or inputs))\n",
    "            | self.prompt\n",
    "            | self.llm\n",
    "            | self.parser\n",
    "        )\n",
    "       \n",
    "    def pick_next_agent(self, state: AgentState):\n",
    "        for agent in self.agents:\n",
    "            if agent not in state:\n",
    "                print(f\"Next agent: {agent}\")\n",
    "                return { \"next\": agent }\n",
    "        return { \"next\": \"FINISH\" }\n",
    "\n",
    "    def summarize(self, state: AgentState):\n",
    "        print(\"Summarizing...\")\n",
    "        agents_output = {key: state[key] for key in self.agents if key in state}\n",
    "        answer = self.rag_chain.invoke({\"input\": state[\"question\"], \"agents_output\": agents_output, \"history\": []})\n",
    "        return { \"answer\": answer }\n"
   ]
  },
  {
   "cell_type": "code",
   "execution_count": 72,
   "metadata": {},
   "outputs": [],
   "source": [
    "supervisor = Supervisor(agents)"
   ]
  },
  {
   "cell_type": "code",
   "execution_count": 39,
   "metadata": {},
   "outputs": [
    {
     "data": {
      "text/plain": [
       "'agent_rag'"
      ]
     },
     "execution_count": 39,
     "metadata": {},
     "output_type": "execute_result"
    }
   ],
   "source": [
    "supervisor.pick_next_agent({\"question\": \"hablame acerca de los objetivos del proyecto de Fabian\"})"
   ]
  },
  {
   "cell_type": "code",
   "execution_count": 40,
   "metadata": {},
   "outputs": [
    {
     "data": {
      "text/plain": [
       "'FINISH'"
      ]
     },
     "execution_count": 40,
     "metadata": {},
     "output_type": "execute_result"
    }
   ],
   "source": [
    "supervisor.pick_next_agent({\"question\": \"hablame acerca de los objetivos del proyecto de Fabian\", \"agent_rag\": \"El objetivo del proyecto de Fabián es desarrollar un chatbot\"})"
   ]
  },
  {
   "cell_type": "code",
   "execution_count": 64,
   "metadata": {},
   "outputs": [
    {
     "name": "stdout",
     "output_type": "stream",
     "text": [
      "Logging Inputs: {'question': 'hablame acerca de los objetivos del proyecto de Fabian', 'agents_output': {'agent_rag': 'El objetivo del proyecto de Fabián es desarrollar un chatbot'}, 'history': []}\n"
     ]
    },
    {
     "data": {
      "text/plain": [
       "{'answer': 'El objetivo del proyecto de Fabián es desarrollar un chatbot.'}"
      ]
     },
     "execution_count": 64,
     "metadata": {},
     "output_type": "execute_result"
    }
   ],
   "source": [
    "supervisor.summarize({\"question\": \"hablame acerca de los objetivos del proyecto de Fabian\", \"agent_rag\": \"El objetivo del proyecto de Fabián es desarrollar un chatbot\"})"
   ]
  },
  {
   "cell_type": "markdown",
   "metadata": {},
   "source": [
    "## Graph"
   ]
  },
  {
   "cell_type": "code",
   "execution_count": 78,
   "metadata": {},
   "outputs": [],
   "source": [
    "builder = StateGraph(AgentState)\n",
    "\n",
    "builder.add_node(\"supervisor_node\", supervisor.pick_next_agent)\n",
    "builder.add_node(\"summarizer_node\", supervisor.summarize)\n",
    "builder.add_node(\"rag_node\", agent_rag.generate)\n",
    "\n",
    "builder.add_conditional_edges(\n",
    "    \"supervisor_node\",\n",
    "    RunnableLambda(lambda inputs: inputs[\"next\"]),  \n",
    "    {\"agent_rag\": \"rag_node\", \"FINISH\": \"summarizer_node\"}\n",
    ")\n",
    "builder.add_edge(\"rag_node\", \"supervisor_node\")\n",
    "\n",
    "builder.set_entry_point(\"supervisor_node\")\n",
    "\n",
    "graph = builder.compile()"
   ]
  },
  {
   "cell_type": "code",
   "execution_count": 74,
   "metadata": {},
   "outputs": [
    {
     "data": {
      "image/jpeg": "[encoded data removed]",
      "text/plain": [
       "<IPython.core.display.Image object>"
      ]
     },
     "metadata": {},
     "output_type": "display_data"
    }
   ],
   "source": [
    "from IPython.display import display, Image\n",
    "\n",
    "display(Image(graph.get_graph().draw_mermaid_png()))"
   ]
  },
  {
   "cell_type": "code",
   "execution_count": 79,
   "metadata": {},
   "outputs": [
    {
     "name": "stdout",
     "output_type": "stream",
     "text": [
      "Next agent: agent_rag\n",
      "Agent says: Fabian Alejandro Massotto es un ingeniero que está realizando su Trabajo Final para la Carrera de Especialización en Inteligencia Artificial.\n",
      "Summarizing...\n"
     ]
    },
    {
     "data": {
      "text/plain": [
       "{'question': 'quien es Fabian?',\n",
       " 'agent_rag': 'Fabian Alejandro Massotto es un ingeniero que está realizando su Trabajo Final para la Carrera de Especialización en Inteligencia Artificial.',\n",
       " 'answer': 'Fabian Alejandro Massotto es un ingeniero que está realizando su Trabajo Final para la Carrera de Especialización en Inteligencia Artificial.'}"
      ]
     },
     "execution_count": 79,
     "metadata": {},
     "output_type": "execute_result"
    }
   ],
   "source": [
    "graph.invoke({\"question\": \"quien es Fabian?\"})"
   ]
  }
 ],
 "metadata": {
  "kernelspec": {
   "display_name": "venv2",
   "language": "python",
   "name": "python3"
  },
  "language_info": {
   "codemirror_mode": {
    "name": "ipython",
    "version": 3
   },
   "file_extension": ".py",
   "mimetype": "text/x-python",
   "name": "python",
   "nbconvert_exporter": "python",
   "pygments_lexer": "ipython3",
   "version": "3.12.7"
  }
 },
 "nbformat": 4,
 "nbformat_minor": 2
}
