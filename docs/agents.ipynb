{
 "cells": [
  {
   "cell_type": "code",
   "execution_count": null,
   "metadata": {},
   "outputs": [],
   "source": [
    "pip install langchain==0.2.11 langchain-community==0.2.10 scikit-learn==1.5.0 langchain-openai==0.1.22 langgraph==0.2.59 azure-search-documents azure-identity pyodbc"
   ]
  },
  {
   "cell_type": "code",
   "execution_count": 1,
   "metadata": {},
   "outputs": [],
   "source": [
    "import os\n",
    "import re\n",
    "from typing import TypedDict, List\n",
    "from langchain_core.prompts import ChatPromptTemplate\n",
    "from langchain_core.output_parsers import StrOutputParser\n",
    "from langchain_core.runnables import RunnableLambda, RunnablePassthrough\n",
    "from langchain_openai import AzureOpenAIEmbeddings, AzureChatOpenAI\n",
    "from langchain_community.vectorstores.azuresearch import AzureSearch\n",
    "from langchain_community.utilities import SQLDatabase\n",
    "from langgraph.graph import StateGraph\n"
   ]
  },
  {
   "cell_type": "code",
   "execution_count": 6,
   "metadata": {},
   "outputs": [],
   "source": [
    "class State(TypedDict):\n",
    "    question: str\n",
    "    agent_rag: str\n",
    "    agent_sql: str\n",
    "    answer: str"
   ]
  },
  {
   "cell_type": "code",
   "execution_count": 3,
   "metadata": {},
   "outputs": [],
   "source": [
    "agents = [\"agent_rag\", \"agent_sql\"]"
   ]
  },
  {
   "cell_type": "markdown",
   "metadata": {},
   "source": [
    "## RAG agent\n",
    "\n",
    "Retrieves relevant information from a predefined knowledge base and uses this context to generate accurate and contextually relevant responses.\n",
    "\n",
    "![](images/agent_rag.png)"
   ]
  },
  {
   "cell_type": "code",
   "execution_count": 18,
   "metadata": {},
   "outputs": [],
   "source": [
    "class AgentRag:\n",
    "    \n",
    "    def __init__(self, index, name=\"RAG Agent\"): \n",
    "        self.name = name\n",
    "        \n",
    "        # Embeddings model instantiation\n",
    "        self.embeddings = AzureOpenAIEmbeddings(model=\"ada-002\", openai_api_version=\"2024-06-01\")\n",
    "        \n",
    "        # Vector store instantiation\n",
    "        self.vstore = AzureSearch(\n",
    "            azure_search_endpoint=os.getenv(\"AZURE_SEARCH_URI\"),\n",
    "            azure_search_key=os.getenv(\"AZURE_SEARCH_KEY\"),\n",
    "            index_name=index,\n",
    "            embedding_function=self.embeddings.embed_query\n",
    "        )\n",
    "\n",
    "        # LLM instantiation\n",
    "        self.llm = AzureChatOpenAI(\n",
    "            deployment_name=\"gpt-4o\",\n",
    "            api_version=\"2023-06-01-preview\"\n",
    "        )\n",
    "\n",
    "        # The system prompt guides the agent on how to respond\n",
    "        self.system_prompt = (\n",
    "            \"You are an AI assistant for question-answering tasks.\"\n",
    "            \"Use only the following pieces of retrieved context to answer the question.\" \n",
    "            \"If you cannot find the answer in the context, say that you don't know.\" \n",
    "            \"Use three sentences maximum and keep the answer concise.\"\n",
    "            \"\\n\\n\"\n",
    "            \"Context: {context}\"\n",
    "        )\n",
    "\n",
    "        # The prompt puts together the system prompt with the user question\n",
    "        self.prompt = ChatPromptTemplate.from_messages(\n",
    "            [\n",
    "                (\"system\", self.system_prompt),\n",
    "                (\"human\", \"{question}\"),\n",
    "            ]\n",
    "        )\n",
    "\n",
    "        # The parser just plucks the string content out of the LLM's output message\n",
    "        self.parser = StrOutputParser()\n",
    "\n",
    "        # The chain orchestrates the whole flow\n",
    "        self.rag_chain = (\n",
    "            { \"question\": RunnableLambda(lambda inputs: inputs[\"question\"]), \"context\": RunnableLambda(lambda inputs: inputs[\"context\"]) }\n",
    "            #| RunnableLambda(lambda inputs: (print(f\"Logging Inputs: {inputs}\") or inputs))\n",
    "            | self.prompt\n",
    "            | self.llm\n",
    "            | self.parser\n",
    "        )\n",
    "       \n",
    "    def retrieve_context(self, query):\n",
    "        print(f\"{self.name} says: retrieving relevant information...\")      \n",
    "        docs = self.vstore.similarity_search(query, k=3)\n",
    "        print(f\"{self.name} says: {docs}\")\n",
    "        # Put together the results of the similarity search into one chunk of text\n",
    "        return \"\\n\\n\".join(doc.page_content for doc in docs)\n",
    "\n",
    "    def generate_answer(self, state: State):\n",
    "        print(f\"{self.name} says: received question '{state['question']}'\")\n",
    "\n",
    "        # Retrieve the most relevant documents from the vector store\n",
    "        context = self.retrieve_context(state['question'])\n",
    "\n",
    "        print(f\"{self.name} says: generating answer...\")\n",
    "        answer = self.rag_chain.invoke({\"question\": state[\"question\"], \"context\": context})\n",
    "        print(f\"{self.name} says: {answer}\")\n",
    "        return { \"agent_rag\": answer }\n"
   ]
  },
  {
   "cell_type": "code",
   "execution_count": 19,
   "metadata": {},
   "outputs": [],
   "source": [
    "agent_rag = AgentRag(\"rag-v2\")"
   ]
  },
  {
   "cell_type": "code",
   "execution_count": 38,
   "metadata": {},
   "outputs": [
    {
     "name": "stdout",
     "output_type": "stream",
     "text": [
      "RAG Agent says: received question 'hablame acerca de los objetivos del proyecto de Fabian'\n",
      "RAG Agent says: retrieving relevant information...\n",
      "RAG Agent says: [Document(metadata={'source': 'knowledge-base/charter.pdf', 'page': 3}, page_content='Plan de proyecto del Trabajo Final\\nCarrera de Especializaci´ on en Inteligencia Artificial\\nIng. Fabi´ an Alejandro Massotto\\nActa de constituci´ on del proyecto\\nBuenos Aires, 23 de abril de 2024\\nPor medio de la presente se acuerda con el Ing. Fabi´ an Alejandro Massotto que su Trabajo\\nFinal de la Carrera de Especializaci´ on en Inteligencia Artificial se titular´ a “Desarrollo de un\\nchatbot especializado para optimizar la b´ usqueda de informaci´ on en documentos propietarios” y'), Document(metadata={'source': 'knowledge-base/charter.pdf', 'page': 5}, page_content='Plan de proyecto del Trabajo Final\\nCarrera de Especializaci´ on en Inteligencia Artificial\\nIng. Fabi´ an Alejandro Massotto\\nLa propuesta de valor de este proyecto radica en su capacidad para mejorar la eficiencia operativa\\nde una empresa. Al facilitar el acceso a la informaci´ on, se reduce el tiempo dedicado a la\\nb´ usqueda y se incrementa el tiempo disponible para tareas cr´ ıticas y estrat´ egicas. Adem´ as,\\nla capacidad de adecuar el chatbot seg´ un las necesidades y documentos de cada empresa lo'), Document(metadata={'source': 'knowledge-base/charter.pdf', 'page': 4}, page_content='Plan de proyecto del Trabajo Final\\nCarrera de Especializaci´ on en Inteligencia Artificial\\nIng. Fabi´ an Alejandro Massotto\\n1. Descripci´ on t´ ecnica-conceptual del proyecto a realizar\\nEl objetivo de este proyecto es desarrollar un chatbot especializado que pueda ser entrenado\\ncon documentos propietarios de una empresa, y que, en base al contenido ingestado, interprete\\ncorrectamente consultas de usuarios y proporcione respuestas precisas y relevantes.')]\n",
      "RAG Agent says: generating answer...\n",
      "RAG Agent says: El objetivo del proyecto de Fabián es desarrollar un chatbot especializado que pueda ser entrenado con documentos propietarios de una empresa. Este chatbot debe interpretar correctamente las consultas de los usuarios y proporcionar respuestas precisas y relevantes basadas en el contenido ingestado. Así, se busca optimizar la búsqueda de información, mejorando la eficiencia operativa de la empresa.\n"
     ]
    },
    {
     "data": {
      "text/plain": [
       "{'agent_rag': 'El objetivo del proyecto de Fabián es desarrollar un chatbot especializado que pueda ser entrenado con documentos propietarios de una empresa. Este chatbot debe interpretar correctamente las consultas de los usuarios y proporcionar respuestas precisas y relevantes basadas en el contenido ingestado. Así, se busca optimizar la búsqueda de información, mejorando la eficiencia operativa de la empresa.'}"
      ]
     },
     "execution_count": 38,
     "metadata": {},
     "output_type": "execute_result"
    }
   ],
   "source": [
    "agent_rag.generate_answer({\"question\": \"hablame acerca de los objetivos del proyecto de Fabian\"})"
   ]
  },
  {
   "cell_type": "markdown",
   "metadata": {},
   "source": [
    "## SQL agent\n",
    "\n",
    "An agent that can answer questions about a SQL database.\n",
    "\n",
    "At a high level, the agent will: \n",
    "\n",
    "1. Fetch the available schema from the database (tables, columns and data types) \n",
    "2. Generate a query based on the question and information from the schema \n",
    "3. Double-check the query for common mistakes and adjust if needed\n",
    "4. Execute the query\n",
    "5. Formulate a response based on the results\n",
    "\n",
    "![](images/agent_sql.png)"
   ]
  },
  {
   "cell_type": "code",
   "execution_count": 6,
   "metadata": {},
   "outputs": [],
   "source": [
    "# Connection details for Azure SQL Server\n",
    "server = \"chatwithfabi-dev-sqlserver.database.windows.net\"\n",
    "database = \"chatwithfabi-dev-sqldb\"\n",
    "username = os.getenv(\"SQL_AGENT_USERNAME\")\n",
    "password = os.getenv(\"SQL_AGENT_PASSWORD\")\n",
    "driver = \"ODBC+Driver+18+for+SQL+Server\"\n",
    "\n",
    "# Construct the URI\n",
    "db_uri = f\"mssql+pyodbc://{username}:{password}@{server}:1433/{database}?driver={driver}\""
   ]
  },
  {
   "cell_type": "code",
   "execution_count": 7,
   "metadata": {},
   "outputs": [],
   "source": [
    "class AgentSql:\n",
    "    \n",
    "    def __init__(self, db_uri, name=\"SQL Agent\"): \n",
    "        self.name = name\n",
    "        \n",
    "        # Database instantiation\n",
    "        self.db_uri = db_uri\n",
    "        self.db = self.connect()\n",
    "        \n",
    "        # LLM instantiation\n",
    "        self.llm = AzureChatOpenAI(\n",
    "            deployment_name=\"gpt-4o\",\n",
    "            api_version=\"2023-06-01-preview\"\n",
    "        )\n",
    "\n",
    "        # The prompt puts together the system prompt with the user question\n",
    "        self.prompt = lambda inputs: ChatPromptTemplate.from_messages(\n",
    "            [\n",
    "                (\"system\", inputs[\"system_prompt\"]),\n",
    "                (\"human\", inputs[\"human_prompt\"]),\n",
    "            ]\n",
    "        )\n",
    "\n",
    "        # The parser just plucks the string content out of the LLM's output message\n",
    "        self.parser = StrOutputParser()\n",
    "\n",
    "        # A prompt to generate a SQL query from a user question\n",
    "        self.query_generator_prompt = (\n",
    "            \"You are a SQL expert with a strong attention to detail.\"\n",
    "            \"Given an input question, output a syntactically correct SQL query to run.\"\n",
    "            \"Respond only with the generated query, nothing else.\"\n",
    "            \"When generating the query:\"\n",
    "            \"- Unless the user specifies a specific number of examples they wish to obtain, always limit your query to at most 5 results.\" \n",
    "            \"- You can order the results by a relevant column to return the most interesting examples in the database.\"\n",
    "            \"- Never query for all the columns from a specific table, only ask for the relevant columns given the question.\" \n",
    "            \"- DO NOT make any DML statements (INSERT, UPDATE, DELETE, DROP etc.) to the database.\"\n",
    "            \"- Pay attention to use only the column names that you can see in the schema description. Be careful to not query for columns that do not exist. Also, pay attention to which column is in which table.\"\n",
    "            \"\\n\\n\"\n",
    "            \"Schema description (TABLE_SCHEMA, TABLE_NAME, COLUMN_NAME, DATA_TYPE): {schema}\"\n",
    "        )\n",
    "\n",
    "        self.query_generator_chain = (\n",
    "            { \"question\": RunnableLambda(lambda inputs: inputs[\"question\"]), \"schema\": RunnableLambda(lambda inputs: inputs[\"schema\"]) }\n",
    "            #| RunnableLambda(lambda inputs: (print(f\"Logging Inputs: {inputs}\") or inputs))\n",
    "            | RunnableLambda(lambda inputs: self.prompt({\"system_prompt\": self.query_generator_prompt, \"human_prompt\": inputs[\"question\"]}))\n",
    "            | self.llm\n",
    "            | self.parser\n",
    "        )\n",
    "\n",
    "        # A prompt to double check the generated query and adjust if needed\n",
    "        self.query_corrector_prompt = (\n",
    "            \"You are a SQL expert with a strong attention to detail.\"\n",
    "            \"Double check the SQL query for common mistakes, including:\"\n",
    "            \"- Using NOT IN with NULL values\"\n",
    "            \"- Using UNION when UNION ALL should have been used\"\n",
    "            \"- Using BETWEEN for exclusive ranges\"\n",
    "            \"- Data type mismatch in predicates\"\n",
    "            \"- Properly quoting identifiers (e.g., using square brackets for column/table names)\"\n",
    "            \"- Using the correct number of arguments for functions\"\n",
    "            \"- Casting to the correct data type\"\n",
    "            \"- Using the proper columns for joins\"\n",
    "            \"- Ensuring TOP is used for limiting rows instead of LIMIT\"\n",
    "            \"If there are any of the above mistakes, rewrite the query. If there are no mistakes, just reproduce the original query.\"\n",
    "            \"Respond only with the rewritten query or the original query, nothing else.\"\n",
    "        )\n",
    "\n",
    "        self.query_corrector_chain = (\n",
    "            { \"query\": RunnablePassthrough() }\n",
    "            #| RunnableLambda(lambda inputs: (print(f\"Logging Inputs: {inputs}\") or inputs))\n",
    "            | RunnableLambda(lambda inputs: self.prompt({\"system_prompt\": self.query_corrector_prompt, \"human_prompt\": inputs[\"query\"]}))\n",
    "            | self.llm\n",
    "            | self.parser\n",
    "        )\n",
    "\n",
    "        # A prompt to generate an answer to the question given the information pulled from the database\n",
    "        self.answer_generator_prompt = (\n",
    "            \"Given the following user question, corresponding SQL query, and SQL result, answer the user question.\"\n",
    "            \"\\n\\n\"\n",
    "            \"SQL query: {query}\"\n",
    "            \"SQL result: {result}\"\n",
    "        )\n",
    "\n",
    "        self.answer_generator_chain = (\n",
    "            { \"question\": RunnableLambda(lambda inputs: inputs[\"question\"]), \"query\": RunnableLambda(lambda inputs: inputs[\"query\"]), \"result\": RunnableLambda(lambda inputs: inputs[\"result\"]) }\n",
    "            #| RunnableLambda(lambda inputs: (print(f\"Logging Inputs: {inputs}\") or inputs))\n",
    "            | RunnableLambda(lambda inputs: self.prompt({\"system_prompt\": self.answer_generator_prompt, \"human_prompt\": inputs[\"question\"]}))\n",
    "            | self.llm\n",
    "            | self.parser\n",
    "        )\n",
    "\n",
    "    def connect(self):\n",
    "        print(f\"{self.name} says: connecting to database...\")\n",
    "        db = SQLDatabase.from_uri(self.db_uri)\n",
    "        print(f\"{self.name} says: connection established.\")\n",
    "        return db\n",
    "\n",
    "    def check_connection(self):\n",
    "        print(f\"{self.name} says: checking connection to database...\")\n",
    "        try:\n",
    "            self.db.run(\"\"\"SELECT 1\"\"\")\n",
    "            print(f\"{self.name} says: connection up and running.\")\n",
    "            return True\n",
    "        except Exception as e:\n",
    "            print(f\"{self.name} says: there is no open connection.\")\n",
    "            return False\n",
    "\n",
    "    def get_schema(self):\n",
    "        print(f\"{self.name} says: retrieving database schema...\")\n",
    "        schema = self.db.run(\"\"\"SELECT \n",
    "                                TABLE_SCHEMA, \n",
    "                                TABLE_NAME,\n",
    "                                COLUMN_NAME,\n",
    "                                DATA_TYPE \n",
    "                        FROM INFORMATION_SCHEMA.COLUMNS\"\"\")\n",
    "        print(f\"{self.name} says: {schema}\")\n",
    "        return schema\n",
    "\n",
    "    def generate_query(self, question, schema):\n",
    "        print(f\"{self.name} says: generating query...\")\n",
    "        query = self.query_generator_chain.invoke({\"question\": question, \"schema\": schema})\n",
    "        print(f\"{self.name} says: {query}\")\n",
    "\n",
    "        print(f\"{self.name} says: reviewing query...\")\n",
    "        corrected_query = self.query_corrector_chain.invoke(query)\n",
    "        print(f\"{self.name} says: {corrected_query}\")\n",
    "\n",
    "        cleaned_query = re.sub(r\"^```sql\\n\", \"\", corrected_query)  # Remove start markdown\n",
    "        cleaned_query = re.sub(r\"\\n```$\", \"\", cleaned_query)  # Remove end markdown\n",
    "        cleaned_query = re.sub(r\"\\n\", \" \", cleaned_query) # Replace new line with space\n",
    "        cleaned_query = cleaned_query.strip() # Remove leading and trailing whitespace (just in case)\n",
    "        \n",
    "        return cleaned_query\n",
    "    \n",
    "    def run_query(self, query):\n",
    "        print(f\"{self.name} says: executing query...\")\n",
    "        result = self.db.run(query)\n",
    "        print(f\"{self.name} says: {result}\")\n",
    "        return result\n",
    "    \n",
    "    def generate_answer(self, state: State):\n",
    "        print(f\"{self.name} says: received question '{state['question']}'\")\n",
    "        \n",
    "        # Reconnect with database if connection was closed\n",
    "        if(self.check_connection() is False):\n",
    "            self.connect()\n",
    "        \n",
    "        try:\n",
    "            # Get tables and columns from the database\n",
    "            schema = self.get_schema()\n",
    "\n",
    "            # Construct a SQL query\n",
    "            query = self.generate_query(state['question'], schema)\n",
    "\n",
    "            # Execute the query\n",
    "            result = self.run_query(query)\n",
    "\n",
    "            # Finally answer the question\n",
    "            print(f\"{self.name} says: generating answer...\")\n",
    "            answer = self.answer_generator_chain.invoke({\"question\": state[\"question\"], \"query\": query, \"result\": result})\n",
    "            print(f\"{self.name} says: {answer}\")\n",
    "            return { \"agent_sql\": answer }\n",
    "        except Exception as e:\n",
    "            print(f\"{self.name} says: ERROR {e}\")\n",
    "            return { \"agent_sql\": f\"I don't know\" }"
   ]
  },
  {
   "cell_type": "code",
   "execution_count": 8,
   "metadata": {},
   "outputs": [
    {
     "name": "stdout",
     "output_type": "stream",
     "text": [
      "SQL Agent says: connecting to database...\n",
      "SQL Agent says: connection established.\n"
     ]
    }
   ],
   "source": [
    "agent_sql = AgentSql(db_uri)"
   ]
  },
  {
   "cell_type": "code",
   "execution_count": 34,
   "metadata": {},
   "outputs": [
    {
     "name": "stdout",
     "output_type": "stream",
     "text": [
      "SQL Agent says: received question 'which are the 10 most expensive products?'\n",
      "SQL Agent says: checking connection to database...\n",
      "SQL Agent says: connection up and running.\n",
      "SQL Agent says: retrieving database schema...\n",
      "SQL Agent says: [('sys', 'database_firewall_rules', 'id', 'int'), ('sys', 'database_firewall_rules', 'name', 'nvarchar'), ('sys', 'database_firewall_rules', 'start_ip_address', 'varchar'), ('sys', 'database_firewall_rules', 'end_ip_address', 'varchar'), ('sys', 'database_firewall_rules', 'create_date', 'datetime'), ('sys', 'database_firewall_rules', 'modify_date', 'datetime'), ('SalesLT', 'Customer', 'CustomerID', 'int'), ('SalesLT', 'Customer', 'NameStyle', 'bit'), ('SalesLT', 'Customer', 'Title', 'nvarchar'), ('SalesLT', 'Customer', 'FirstName', 'nvarchar'), ('SalesLT', 'Customer', 'MiddleName', 'nvarchar'), ('SalesLT', 'Customer', 'LastName', 'nvarchar'), ('SalesLT', 'Customer', 'Suffix', 'nvarchar'), ('SalesLT', 'Customer', 'CompanyName', 'nvarchar'), ('SalesLT', 'Customer', 'SalesPerson', 'nvarchar'), ('SalesLT', 'Customer', 'EmailAddress', 'nvarchar'), ('SalesLT', 'Customer', 'Phone', 'nvarchar'), ('SalesLT', 'Customer', 'PasswordHash', 'varchar'), ('SalesLT', 'Customer', 'PasswordSalt', 'varchar'), ('SalesLT', 'Customer', 'rowguid', 'uniqueidentifier'), ('SalesLT', 'Customer', 'ModifiedDate', 'datetime'), ('SalesLT', 'ProductModel', 'ProductModelID', 'int'), ('SalesLT', 'ProductModel', 'Name', 'nvarchar'), ('SalesLT', 'ProductModel', 'CatalogDescription', 'xml'), ('SalesLT', 'ProductModel', 'rowguid', 'uniqueidentifier'), ('SalesLT', 'ProductModel', 'ModifiedDate', 'datetime'), ('SalesLT', 'vProductModelCatalogDescription', 'ProductModelID', 'int'), ('SalesLT', 'vProductModelCatalogDescription', 'Name', 'nvarchar'), ('SalesLT', 'vProductModelCatalogDescription', 'Summary', 'nvarchar'), ('SalesLT', 'vProductModelCatalogDescription', 'Manufacturer', 'nvarchar'), ('SalesLT', 'vProductModelCatalogDescription', 'Copyright', 'nvarchar'), ('SalesLT', 'vProductModelCatalogDescription', 'ProductURL', 'nvarchar'), ('SalesLT', 'vProductModelCatalogDescription', 'WarrantyPeriod', 'nvarchar'), ('SalesLT', 'vProductModelCatalogDescription', 'WarrantyDescription', 'nvarchar'), ('SalesLT', 'vProductModelCatalogDescription', 'NoOfYears', 'nvarchar'), ('SalesLT', 'vProductModelCatalogDescription', 'MaintenanceDescription', 'nvarchar'), ('SalesLT', 'vProductModelCatalogDescription', 'Wheel', 'nvarchar'), ('SalesLT', 'vProductModelCatalogDescription', 'Saddle', 'nvarchar'), ('SalesLT', 'vProductModelCatalogDescription', 'Pedal', 'nvarchar'), ('SalesLT', 'vProductModelCatalogDescription', 'BikeFrame', 'nvarchar'), ('SalesLT', 'vProductModelCatalogDescription', 'Crankset', 'nvarchar'), ('SalesLT', 'vProductModelCatalogDescription', 'PictureAngle', 'nvarchar'), ('SalesLT', 'vProductModelCatalogDescription', 'PictureSize', 'nvarchar'), ('SalesLT', 'vProductModelCatalogDescription', 'ProductPhotoID', 'nvarchar'), ('SalesLT', 'vProductModelCatalogDescription', 'Material', 'nvarchar'), ('SalesLT', 'vProductModelCatalogDescription', 'Color', 'nvarchar'), ('SalesLT', 'vProductModelCatalogDescription', 'ProductLine', 'nvarchar'), ('SalesLT', 'vProductModelCatalogDescription', 'Style', 'nvarchar'), ('SalesLT', 'vProductModelCatalogDescription', 'RiderExperience', 'nvarchar'), ('SalesLT', 'vProductModelCatalogDescription', 'rowguid', 'uniqueidentifier'), ('SalesLT', 'vProductModelCatalogDescription', 'ModifiedDate', 'datetime'), ('SalesLT', 'ProductDescription', 'ProductDescriptionID', 'int'), ('SalesLT', 'ProductDescription', 'Description', 'nvarchar'), ('SalesLT', 'ProductDescription', 'rowguid', 'uniqueidentifier'), ('SalesLT', 'ProductDescription', 'ModifiedDate', 'datetime'), ('SalesLT', 'Product', 'ProductID', 'int'), ('SalesLT', 'Product', 'Name', 'nvarchar'), ('SalesLT', 'Product', 'ProductNumber', 'nvarchar'), ('SalesLT', 'Product', 'Color', 'nvarchar'), ('SalesLT', 'Product', 'StandardCost', 'money'), ('SalesLT', 'Product', 'ListPrice', 'money'), ('SalesLT', 'Product', 'Size', 'nvarchar'), ('SalesLT', 'Product', 'Weight', 'decimal'), ('SalesLT', 'Product', 'ProductCategoryID', 'int'), ('SalesLT', 'Product', 'ProductModelID', 'int'), ('SalesLT', 'Product', 'SellStartDate', 'datetime'), ('SalesLT', 'Product', 'SellEndDate', 'datetime'), ('SalesLT', 'Product', 'DiscontinuedDate', 'datetime'), ('SalesLT', 'Product', 'ThumbNailPhoto', 'varbinary'), ('SalesLT', 'Product', 'ThumbnailPhotoFileName', 'nvarchar'), ('SalesLT', 'Product', 'rowguid', 'uniqueidentifier'), ('SalesLT', 'Product', 'ModifiedDate', 'datetime'), ('SalesLT', 'ProductModelProductDescription', 'ProductModelID', 'int'), ('SalesLT', 'ProductModelProductDescription', 'ProductDescriptionID', 'int'), ('SalesLT', 'ProductModelProductDescription', 'Culture', 'nchar'), ('SalesLT', 'ProductModelProductDescription', 'rowguid', 'uniqueidentifier'), ('SalesLT', 'ProductModelProductDescription', 'ModifiedDate', 'datetime'), ('SalesLT', 'vProductAndDescription', 'ProductID', 'int'), ('SalesLT', 'vProductAndDescription', 'Name', 'nvarchar'), ('SalesLT', 'vProductAndDescription', 'ProductModel', 'nvarchar'), ('SalesLT', 'vProductAndDescription', 'Culture', 'nchar'), ('SalesLT', 'vProductAndDescription', 'Description', 'nvarchar'), ('SalesLT', 'ProductCategory', 'ProductCategoryID', 'int'), ('SalesLT', 'ProductCategory', 'ParentProductCategoryID', 'int'), ('SalesLT', 'ProductCategory', 'Name', 'nvarchar'), ('SalesLT', 'ProductCategory', 'rowguid', 'uniqueidentifier'), ('SalesLT', 'ProductCategory', 'ModifiedDate', 'datetime'), ('SalesLT', 'vGetAllCategories', 'ParentProductCategoryName', 'nvarchar'), ('SalesLT', 'vGetAllCategories', 'ProductCategoryName', 'nvarchar'), ('SalesLT', 'vGetAllCategories', 'ProductCategoryID', 'int'), ('dbo', 'BuildVersion', 'SystemInformationID', 'tinyint'), ('dbo', 'BuildVersion', 'Database Version', 'nvarchar'), ('dbo', 'BuildVersion', 'VersionDate', 'datetime'), ('dbo', 'BuildVersion', 'ModifiedDate', 'datetime'), ('dbo', 'ErrorLog', 'ErrorLogID', 'int'), ('dbo', 'ErrorLog', 'ErrorTime', 'datetime'), ('dbo', 'ErrorLog', 'UserName', 'nvarchar'), ('dbo', 'ErrorLog', 'ErrorNumber', 'int'), ('dbo', 'ErrorLog', 'ErrorSeverity', 'int'), ('dbo', 'ErrorLog', 'ErrorState', 'int'), ('dbo', 'ErrorLog', 'ErrorProcedure', 'nvarchar'), ('dbo', 'ErrorLog', 'ErrorLine', 'int'), ('dbo', 'ErrorLog', 'ErrorMessage', 'nvarchar'), ('SalesLT', 'Address', 'AddressID', 'int'), ('SalesLT', 'Address', 'AddressLine1', 'nvarchar'), ('SalesLT', 'Address', 'AddressLine2', 'nvarchar'), ('SalesLT', 'Address', 'City', 'nvarchar'), ('SalesLT', 'Address', 'StateProvince', 'nvarchar'), ('SalesLT', 'Address', 'CountryRegion', 'nvarchar'), ('SalesLT', 'Address', 'PostalCode', 'nvarchar'), ('SalesLT', 'Address', 'rowguid', 'uniqueidentifier'), ('SalesLT', 'Address', 'ModifiedDate', 'datetime'), ('SalesLT', 'CustomerAddress', 'CustomerID', 'int'), ('SalesLT', 'CustomerAddress', 'AddressID', 'int'), ('SalesLT', 'CustomerAddress', 'AddressType', 'nvarchar'), ('SalesLT', 'CustomerAddress', 'rowguid', 'uniqueidentifier'), ('SalesLT', 'CustomerAddress', 'ModifiedDate', 'datetime'), ('SalesLT', 'SalesOrderDetail', 'SalesOrderID', 'int'), ('SalesLT', 'SalesOrderDetail', 'SalesOrderDetailID', 'int'), ('SalesLT', 'SalesOrderDetail', 'OrderQty', 'smallint'), ('SalesLT', 'SalesOrderDetail', 'ProductID', 'int'), ('SalesLT', 'SalesOrderDetail', 'UnitPrice', 'money'), ('SalesLT', 'SalesOrderDetail', 'UnitPriceDiscount', 'money'), ('SalesLT', 'SalesOrderDetail', 'LineTotal', 'numeric'), ('SalesLT', 'SalesOrderDetail', 'rowguid', 'uniqueidentifier'), ('SalesLT', 'SalesOrderDetail', 'ModifiedDate', 'datetime'), ('SalesLT', 'SalesOrderHeader', 'SalesOrderID', 'int'), ('SalesLT', 'SalesOrderHeader', 'RevisionNumber', 'tinyint'), ('SalesLT', 'SalesOrderHeader', 'OrderDate', 'datetime'), ('SalesLT', 'SalesOrderHeader', 'DueDate', 'datetime'), ('SalesLT', 'SalesOrderHeader', 'ShipDate', 'datetime'), ('SalesLT', 'SalesOrderHeader', 'Status', 'tinyint'), ('SalesLT', 'SalesOrderHeader', 'OnlineOrderFlag', 'bit'), ('SalesLT', 'SalesOrderHeader', 'SalesOrderNumber', 'nvarchar'), ('SalesLT', 'SalesOrderHeader', 'PurchaseOrderNumber', 'nvarchar'), ('SalesLT', 'SalesOrderHeader', 'AccountNumber', 'nvarchar'), ('SalesLT', 'SalesOrderHeader', 'CustomerID', 'int'), ('SalesLT', 'SalesOrderHeader', 'ShipToAddressID', 'int'), ('SalesLT', 'SalesOrderHeader', 'BillToAddressID', 'int'), ('SalesLT', 'SalesOrderHeader', 'ShipMethod', 'nvarchar'), ('SalesLT', 'SalesOrderHeader', 'CreditCardApprovalCode', 'varchar'), ('SalesLT', 'SalesOrderHeader', 'SubTotal', 'money'), ('SalesLT', 'SalesOrderHeader', 'TaxAmt', 'money'), ('SalesLT', 'SalesOrderHeader', 'Freight', 'money'), ('SalesLT', 'SalesOrderHeader', 'TotalDue', 'money'), ('SalesLT', 'SalesOrderHeader', 'Comment', 'nvarchar'), ('SalesLT', 'SalesOrderHeader', 'rowguid', 'uniqueidentifier'), ('SalesLT', 'SalesOrderHeader', 'ModifiedDate', 'datetime')]\n",
      "SQL Agent says: generating query...\n",
      "SQL Agent says: ```sql\n",
      "SELECT Name, ListPrice\n",
      "FROM SalesLT.Product\n",
      "ORDER BY ListPrice DESC\n",
      "LIMIT 10;\n",
      "```\n",
      "SQL Agent says: reviewing query...\n",
      "SQL Agent says: ```sql\n",
      "SELECT TOP 10 Name, ListPrice\n",
      "FROM SalesLT.Product\n",
      "ORDER BY ListPrice DESC;\n",
      "```\n",
      "SQL Agent says: executing query...\n",
      "SQL Agent says: [('Road-150 Red, 62', Decimal('3578.2700')), ('Road-150 Red, 44', Decimal('3578.2700')), ('Road-150 Red, 48', Decimal('3578.2700')), ('Road-150 Red, 52', Decimal('3578.2700')), ('Road-150 Red, 56', Decimal('3578.2700')), ('Mountain-100 Silver, 38', Decimal('3399.9900')), ('Mountain-100 Silver, 42', Decimal('3399.9900')), ('Mountain-100 Silver, 44', Decimal('3399.9900')), ('Mountain-100 Silver, 48', Decimal('3399.9900')), ('Mountain-100 Black, 38', Decimal('3374.9900'))]\n",
      "SQL Agent says: generating answer...\n",
      "SQL Agent says: The 10 most expensive products are:\n",
      "\n",
      "1. Road-150 Red, 62 (List Price: $3578.27)\n",
      "2. Road-150 Red, 44 (List Price: $3578.27)\n",
      "3. Road-150 Red, 48 (List Price: $3578.27)\n",
      "4. Road-150 Red, 52 (List Price: $3578.27)\n",
      "5. Road-150 Red, 56 (List Price: $3578.27)\n",
      "6. Mountain-100 Silver, 38 (List Price: $3399.99)\n",
      "7. Mountain-100 Silver, 42 (List Price: $3399.99)\n",
      "8. Mountain-100 Silver, 44 (List Price: $3399.99)\n",
      "9. Mountain-100 Silver, 48 (List Price: $3399.99)\n",
      "10. Mountain-100 Black, 38 (List Price: $3374.99)\n"
     ]
    },
    {
     "data": {
      "text/plain": [
       "{'agent_sql': 'The 10 most expensive products are:\\n\\n1. Road-150 Red, 62 (List Price: $3578.27)\\n2. Road-150 Red, 44 (List Price: $3578.27)\\n3. Road-150 Red, 48 (List Price: $3578.27)\\n4. Road-150 Red, 52 (List Price: $3578.27)\\n5. Road-150 Red, 56 (List Price: $3578.27)\\n6. Mountain-100 Silver, 38 (List Price: $3399.99)\\n7. Mountain-100 Silver, 42 (List Price: $3399.99)\\n8. Mountain-100 Silver, 44 (List Price: $3399.99)\\n9. Mountain-100 Silver, 48 (List Price: $3399.99)\\n10. Mountain-100 Black, 38 (List Price: $3374.99)'}"
      ]
     },
     "execution_count": 34,
     "metadata": {},
     "output_type": "execute_result"
    }
   ],
   "source": [
    "agent_sql.generate_answer({\"question\": \"which are the 10 most expensive products?\"})"
   ]
  },
  {
   "cell_type": "markdown",
   "metadata": {},
   "source": [
    "## CSV agent\n",
    "\n",
    "An agent that can answer questions about CSV files.\n",
    "\n",
    "At a high level, the agent will: \n",
    "\n",
    "1. Fetch an index file that contains a short summary of each csv file available (this file should be constructed manually and is mandatory for the agent to work) \n",
    "2. Select which files are relevant for the user question \n",
    "3. Get a small sample of each of the files\n",
    "4. Generate Python code to interact with the data, based on the user question and the extract from the files\n",
    "5. Execute the code\n",
    "6. Formulate a response based on the results"
   ]
  },
  {
   "cell_type": "code",
   "execution_count": null,
   "metadata": {},
   "outputs": [],
   "source": [
    "import pandas as pd\n",
    "from pathlib import Path"
   ]
  },
  {
   "cell_type": "code",
   "execution_count": 154,
   "metadata": {},
   "outputs": [],
   "source": [
    "class AgentCsv:\n",
    "    \n",
    "    def __init__(self, name=\"CSV Agent\"): \n",
    "        self.name = name\n",
    "\n",
    "        self.base_path = Path(\"C:\\\\Users\\\\Fabi\\\\Documents\\\\repos\\\\rag-ai-chatbot\\\\backend\\\\csv\")\n",
    "        self.index_path = self.base_path / \"index.csv\"\n",
    "        \n",
    "        # LLM instantiation\n",
    "        self.llm = AzureChatOpenAI(\n",
    "            deployment_name=\"gpt-4o\",\n",
    "            api_version=\"2023-06-01-preview\"\n",
    "        )\n",
    "\n",
    "        # The prompt puts together the system prompt with the user question\n",
    "        self.prompt = lambda inputs: ChatPromptTemplate.from_messages(\n",
    "            [\n",
    "                (\"system\", inputs[\"system_prompt\"]),\n",
    "                (\"human\", inputs[\"human_prompt\"]),\n",
    "            ]\n",
    "        )\n",
    "\n",
    "        # The parser just plucks the string content out of the LLM's output message\n",
    "        self.parser = StrOutputParser()\n",
    "\n",
    "        # A prompt to generate a SQL query from a user question\n",
    "        self.file_selector_prompt = (\n",
    "            \"You are a file selector.\"\n",
    "            \"Given an input question and an index, provide a list with the most relevant files.\"\n",
    "            \"The list must be a comma separated string containing only the file names.\"\n",
    "            \"Respond only with the generated list, nothing else.\"\n",
    "            \"\\n\\n\"\n",
    "            \"Index: {index}\"\n",
    "        )\n",
    "\n",
    "        self.file_selector_chain = (\n",
    "            { \"question\": RunnableLambda(lambda inputs: inputs[\"question\"]), \"index\": RunnableLambda(lambda inputs: inputs[\"index\"]) }\n",
    "            #| RunnableLambda(lambda inputs: (print(f\"Logging Inputs: {inputs}\") or inputs))\n",
    "            | RunnableLambda(lambda inputs: self.prompt({\"system_prompt\": self.file_selector_prompt, \"human_prompt\": inputs[\"question\"]}))\n",
    "            | self.llm\n",
    "            | self.parser\n",
    "        )\n",
    "\n",
    "        # A prompt to double check the generated query and adjust if needed\n",
    "        self.code_generator_prompt = (\n",
    "            \"You are a Python expert specialized in working with CSV files using the pandas library.\"\n",
    "            \"Given an input question, output a syntactically correct Python code to run.\"\n",
    "            \"Respond only with the generated code, nothing else.\"\n",
    "            \"When generating the code:\"\n",
    "            \"- Understand the context: analyze the user's question and the CSV data provided to infer the structure and relevant fields.\" \n",
    "            \"- Use pandas library to load, manipulate, and analyze the data.\"\n",
    "            \"- Avoid unnecessary dependencies, use only pandas and Python's standard libraries.\"\n",
    "            \"- Handle edge cases such as missing values or empty datasets gracefully.\" \n",
    "            \"- Ensure the code is executable.\"\n",
    "            \"- ALWAYS assign the final result to a variable called 'result'\"\n",
    "            \"- DO NOT attempt to modify the data in the csv files.\"\n",
    "            f\"- Have into account that the csv files are located in the following path: {self.base_path}\"\n",
    "            \"\\n\\n\"\n",
    "            \"Context: {context}\"\n",
    "        )\n",
    "\n",
    "        self.code_generator_chain = (\n",
    "            { \"question\": RunnableLambda(lambda inputs: inputs[\"question\"]), \"context\": RunnableLambda(lambda inputs: inputs[\"context\"]) }\n",
    "            #| RunnableLambda(lambda inputs: (print(f\"Logging Inputs: {inputs}\") or inputs))\n",
    "            | RunnableLambda(lambda inputs: self.prompt({\"system_prompt\": self.code_generator_prompt, \"human_prompt\": inputs[\"question\"]}))\n",
    "            | self.llm\n",
    "            | self.parser\n",
    "        )\n",
    "\n",
    "        # A prompt to generate an answer to the question given the information pulled from the database\n",
    "        self.answer_generator_prompt = (\n",
    "            \"Given the following user question, corresponding Python code, and the result of executing the code, answer the user question.\"\n",
    "            \"\\n\\n\"\n",
    "            \"Python code: {code}\"\n",
    "            \"Python result: {result}\"\n",
    "        )\n",
    "\n",
    "        self.answer_generator_chain = (\n",
    "            { \"question\": RunnableLambda(lambda inputs: inputs[\"question\"]), \"code\": RunnableLambda(lambda inputs: inputs[\"code\"]), \"result\": RunnableLambda(lambda inputs: inputs[\"result\"]) }\n",
    "            #| RunnableLambda(lambda inputs: (print(f\"Logging Inputs: {inputs}\") or inputs))\n",
    "            | RunnableLambda(lambda inputs: self.prompt({\"system_prompt\": self.answer_generator_prompt, \"human_prompt\": inputs[\"question\"]}))\n",
    "            | self.llm\n",
    "            | self.parser\n",
    "        )\n",
    "\n",
    "    def get_index(self):\n",
    "        print(f\"{self.name} says: retrieving index file...\")\n",
    "        index = pd.read_csv(self.index_path)\n",
    "        print(f\"{self.name} says:\\n {index}\")\n",
    "        return index\n",
    "\n",
    "    def get_relevant_files(self, question, index):\n",
    "        print(f\"{self.name} says: getting relevant files...\")\n",
    "        files = self.file_selector_chain.invoke({\"question\": question, \"index\": index})\n",
    "        if files == \"\":\n",
    "            files_list = []\n",
    "        else:\n",
    "            files_list = files.replace(\" \", \"\").split(\",\")\n",
    "        print(f\"{self.name} says: {files_list}\")\n",
    "        return files_list\n",
    "    \n",
    "    def get_files_head(self, files_list):\n",
    "        print(f\"{self.name} says: getting a sample from the files...\")\n",
    "        files_head = {}\n",
    "        for file in files_list:\n",
    "            head = pd.read_csv(self.base_path / file, nrows=5)\n",
    "            print(f\"{self.name} says:\\n {head}\")\n",
    "            files_head[file] = head.fillna(\"null\").to_dict(orient=\"records\")\n",
    "        return files_head\n",
    "\n",
    "    def generate_code(self, question, context):\n",
    "        print(f\"{self.name} says: generating code...\")\n",
    "        code = self.code_generator_chain.invoke({\"question\": question, \"context\": context})\n",
    "        print(f\"{self.name} says: {code}\")\n",
    "        \n",
    "        cleaned_code = re.sub(r\"^```python\\n\", \"\", code)  # Remove start markdown\n",
    "        cleaned_code = re.sub(r\"\\n```$\", \"\", cleaned_code)  # Remove end markdown\n",
    "        return cleaned_code\n",
    "    \n",
    "    def run_code(self, code):\n",
    "        safe_globals = {}\n",
    "        safe_locals = {}\n",
    "        print(f\"{self.name} says: executing code...\")\n",
    "        exec(code, safe_globals, safe_locals)\n",
    "        print(f\"{self.name} says: {safe_locals['result']}\")\n",
    "        return safe_locals['result']\n",
    "    \n",
    "    def generate_answer(self, state: State):\n",
    "        print(f\"{self.name} says: received question '{state['question']}'\")\n",
    "        \n",
    "        try:\n",
    "            # Get index file\n",
    "            index = self.get_index()\n",
    "\n",
    "            # Get relevant files\n",
    "            relevant_files = self.get_relevant_files(state['question'], index)\n",
    "            \n",
    "            # Get an extract from the relevant files\n",
    "            context = self.get_files_head(relevant_files)\n",
    "\n",
    "            # Generate Python code to interact with the files\n",
    "            code = self.generate_code(state['question'], context)\n",
    "\n",
    "            # Execute the code\n",
    "            result = self.run_code(code)\n",
    "\n",
    "            # Finally answer the question\n",
    "            print(f\"{self.name} says: generating answer...\")\n",
    "            answer = self.answer_generator_chain.invoke({\"question\": state[\"question\"], \"code\": code, \"result\": result})\n",
    "            print(f\"{self.name} says: {answer}\")\n",
    "            return { \"agent_csv\": answer }\n",
    "        except Exception as e:\n",
    "            print(f\"{self.name} says: ERROR {e}\")\n",
    "            return { \"agent_csv\": f\"I don't know\" }"
   ]
  },
  {
   "cell_type": "code",
   "execution_count": 155,
   "metadata": {},
   "outputs": [],
   "source": [
    "agent_csv = AgentCsv()"
   ]
  },
  {
   "cell_type": "code",
   "execution_count": 156,
   "metadata": {},
   "outputs": [
    {
     "name": "stdout",
     "output_type": "stream",
     "text": [
      "CSV Agent says: received question 'any superhero called Fabian?'\n",
      "CSV Agent says: retrieving index file...\n",
      "CSV Agent says:\n",
      "     FILE_NAME                                            SUMMARY\n",
      "0      dc.csv  contains details about DC superheroes, like Su...\n",
      "1  marvel.csv  contains details about Marvel superheroes, lik...\n",
      "CSV Agent says: getting relevant files...\n",
      "CSV Agent says: ['dc.csv', 'marvel.csv']\n",
      "CSV Agent says: getting a sample from the files...\n",
      "CSV Agent says:\n",
      "    Id                        Name Identity Alignment   Eyes   Hair     Sex  \\\n",
      "0   2                 John Malone   Secret       Bad   Blue  White    Male   \n",
      "1   3         Samuel Bradley, Jr.   Public       Bad  Brown  Brown    Male   \n",
      "2   4                   Hope Taya   Public       Bad  Brown  Black  Female   \n",
      "3   5                       Trygg   Secret       Bad  Black  Black    Male   \n",
      "4   6  Boris Dmitravich Razumihin   Public      Good  Brown  Black    Male   \n",
      "\n",
      "  Alive  Appearances  First_appeared     Planet Universe  \n",
      "0   Yes           15   1985, January  New Earth       DC  \n",
      "1    No           19     2004, March  New Earth       DC  \n",
      "2   Yes           28  1999, December  New Earth       DC  \n",
      "3   Yes            3      1940, June  New Earth       DC  \n",
      "4   Yes            7  1987, December  New Earth       DC  \n",
      "CSV Agent says:\n",
      "    Id             Name Identity Alignment   Eyes   Hair     Sex Alive  \\\n",
      "0   0        Dave Finn   Secret      Good   Blue  Black    Male   Yes   \n",
      "1   1  Katherine Power   Secret      Good   Blue    Red  Female   Yes   \n",
      "2   8          Perkins   Public       Bad  Green  White  Female   Yes   \n",
      "3   9             Zuhn   Secret       Bad  White  Blond    Male    No   \n",
      "4  10          Azaziah   Secret       Bad   Blue  White    Male   Yes   \n",
      "\n",
      "   Appearances  First_appeared     Planet Universe  \n",
      "0            1      2002, July  Earth-616   Marvel  \n",
      "1          106    1984, August  Earth-616   Marvel  \n",
      "2            1   1964, October  Earth-616   Marvel  \n",
      "3            3  2000, November  Earth-616   Marvel  \n",
      "4            4     1980, April  Earth-616   Marvel  \n",
      "CSV Agent says: generating code...\n",
      "CSV Agent says: ```python\n",
      "import pandas as pd\n",
      "\n",
      "# Load the CSV files\n",
      "dc_df = pd.read_csv(r'C:\\Users\\Fabi\\Documents\\repos\\rag-ai-chatbot\\backend\\csv\\dc.csv')\n",
      "marvel_df = pd.read_csv(r'C:\\Users\\Fabi\\Documents\\repos\\rag-ai-chatbot\\backend\\csv\\marvel.csv')\n",
      "\n",
      "# Check for superheroes called Fabian in both datasets\n",
      "dc_fabian = dc_df[dc_df['Name'].str.contains('Fabian', case=False, na=False)]\n",
      "marvel_fabian = marvel_df[marvel_df['Name'].str.contains('Fabian', case=False, na=False)]\n",
      "\n",
      "# Combine results\n",
      "result = pd.concat([dc_fabian, marvel_fabian], ignore_index=True)\n",
      "```\n",
      "CSV Agent says: executing code...\n",
      "CSV Agent says:       Id                    Name  Identity Alignment   Eyes   Hair   Sex  \\\n",
      "0   3191         Fabian LaMuerto    Public       Bad  Black  Black  Male   \n",
      "1   6288       Fabian Stankowicz    Public      Good   Blue   Grey  Male   \n",
      "2   6823  Fabian Marechal-Julbin    Secret       Bad   Blue  Brown  Male   \n",
      "3   7405           Fabian Cortez    Public       Bad   Blue  Brown  Male   \n",
      "4  14781          Fabian Nicieza  Non-dual   Neutral   Blue   Grey  Male   \n",
      "\n",
      "  Alive  Appearances First_appeared     Planet Universe  \n",
      "0   Yes            2     1998, July  Earth-616   Marvel  \n",
      "1   Yes           52    1982, March  Earth-616   Marvel  \n",
      "2    No           16    1991, March  Earth-616   Marvel  \n",
      "3    No           49  1991, October  Earth-616   Marvel  \n",
      "4   Yes            1      1993, May  Earth-616   Marvel  \n",
      "CSV Agent says: generating answer...\n",
      "CSV Agent says: Yes, there are superheroes (or characters) called Fabian. Here are the details:\n",
      "\n",
      "1. **Fabian LaMuerto**\n",
      "   - Identity: Public\n",
      "   - Alignment: Bad\n",
      "   - Eyes: Black\n",
      "   - Hair: Black\n",
      "   - Sex: Male\n",
      "   - Alive: Yes\n",
      "   - Appearances: 2\n",
      "   - First appeared: July 1998\n",
      "   - Planet: Earth-616\n",
      "   - Universe: Marvel\n",
      "\n",
      "2. **Fabian Stankowicz**\n",
      "   - Identity: Public\n",
      "   - Alignment: Good\n",
      "   - Eyes: Blue\n",
      "   - Hair: Grey\n",
      "   - Sex: Male\n",
      "   - Alive: Yes\n",
      "   - Appearances: 52\n",
      "   - First appeared: March 1982\n",
      "   - Planet: Earth-616\n",
      "   - Universe: Marvel\n",
      "\n",
      "3. **Fabian Marechal-Julbin**\n",
      "   - Identity: Secret\n",
      "   - Alignment: Bad\n",
      "   - Eyes: Blue\n",
      "   - Hair: Brown\n",
      "   - Sex: Male\n",
      "   - Alive: No\n",
      "   - Appearances: 16\n",
      "   - First appeared: March 1991\n",
      "   - Planet: Earth-616\n",
      "   - Universe: Marvel\n",
      "\n",
      "4. **Fabian Cortez**\n",
      "   - Identity: Public\n",
      "   - Alignment: Bad\n",
      "   - Eyes: Blue\n",
      "   - Hair: Brown\n",
      "   - Sex: Male\n",
      "   - Alive: No\n",
      "   - Appearances: 49\n",
      "   - First appeared: October 1991\n",
      "   - Planet: Earth-616\n",
      "   - Universe: Marvel\n",
      "\n",
      "5. **Fabian Nicieza**\n",
      "   - Identity: Non-dual\n",
      "   - Alignment: Neutral\n",
      "   - Eyes: Blue\n",
      "   - Hair: Grey\n",
      "   - Sex: Male\n",
      "   - Alive: Yes\n",
      "   - Appearances: 1\n",
      "   - First appeared: May 1993\n",
      "   - Planet: Earth-616\n",
      "   - Universe: Marvel\n"
     ]
    },
    {
     "data": {
      "text/plain": [
       "{'agent_csv': 'Yes, there are superheroes (or characters) called Fabian. Here are the details:\\n\\n1. **Fabian LaMuerto**\\n   - Identity: Public\\n   - Alignment: Bad\\n   - Eyes: Black\\n   - Hair: Black\\n   - Sex: Male\\n   - Alive: Yes\\n   - Appearances: 2\\n   - First appeared: July 1998\\n   - Planet: Earth-616\\n   - Universe: Marvel\\n\\n2. **Fabian Stankowicz**\\n   - Identity: Public\\n   - Alignment: Good\\n   - Eyes: Blue\\n   - Hair: Grey\\n   - Sex: Male\\n   - Alive: Yes\\n   - Appearances: 52\\n   - First appeared: March 1982\\n   - Planet: Earth-616\\n   - Universe: Marvel\\n\\n3. **Fabian Marechal-Julbin**\\n   - Identity: Secret\\n   - Alignment: Bad\\n   - Eyes: Blue\\n   - Hair: Brown\\n   - Sex: Male\\n   - Alive: No\\n   - Appearances: 16\\n   - First appeared: March 1991\\n   - Planet: Earth-616\\n   - Universe: Marvel\\n\\n4. **Fabian Cortez**\\n   - Identity: Public\\n   - Alignment: Bad\\n   - Eyes: Blue\\n   - Hair: Brown\\n   - Sex: Male\\n   - Alive: No\\n   - Appearances: 49\\n   - First appeared: October 1991\\n   - Planet: Earth-616\\n   - Universe: Marvel\\n\\n5. **Fabian Nicieza**\\n   - Identity: Non-dual\\n   - Alignment: Neutral\\n   - Eyes: Blue\\n   - Hair: Grey\\n   - Sex: Male\\n   - Alive: Yes\\n   - Appearances: 1\\n   - First appeared: May 1993\\n   - Planet: Earth-616\\n   - Universe: Marvel'}"
      ]
     },
     "execution_count": 156,
     "metadata": {},
     "output_type": "execute_result"
    }
   ],
   "source": [
    "agent_csv.generate_answer({\"question\": \"any superhero called Fabian?\"})"
   ]
  },
  {
   "cell_type": "markdown",
   "metadata": {},
   "source": [
    "## Supervisor\n",
    "\n",
    "Picks the next agent to process and decides when the work is completed. Then generates a final answer based on the output of the other agents."
   ]
  },
  {
   "cell_type": "code",
   "execution_count": 9,
   "metadata": {},
   "outputs": [],
   "source": [
    "class Supervisor:\n",
    "    \n",
    "    def __init__(self, agent_list): \n",
    "\n",
    "        # List with all the agents to supervise\n",
    "        self.agents = agent_list\n",
    "\n",
    "        # Instantiate a pre-trained Large Language Model from Azure OpenAI\n",
    "        self.llm = AzureChatOpenAI(\n",
    "            deployment_name=\"gpt-4o\",\n",
    "            api_version=\"2023-06-01-preview\"\n",
    "        )\n",
    "\n",
    "        # The system prompt guides the agent on how to respond\n",
    "        self.system_prompt = (\n",
    "            f\"You are a supervisor tasked with managing a conversation between the following workers: {self.agents}.\"\n",
    "            \"Given the following user question, all the workers will provide a response.\"\n",
    "            \"Your task is to analyze each of the responses and provide the best possible response to the user.\"\n",
    "            \"Do not make up for new information that is not explicitly in the workers response.\"\n",
    "            \"\\n\\n\"\n",
    "            \"Workers response: {agents_output}\"\n",
    "        )\n",
    "\n",
    "        # The prompt puts together the system prompt with the user question\n",
    "        self.prompt = ChatPromptTemplate.from_messages(\n",
    "            [\n",
    "                (\"system\", self.system_prompt),\n",
    "                (\"human\", \"{question}\"),\n",
    "            ]\n",
    "        )\n",
    "\n",
    "        # The parser just plucks the string content out of the LLM's output message\n",
    "        self.parser = StrOutputParser()\n",
    "\n",
    "        # The chain orchestrates the whole flow\n",
    "        self.rag_chain = (\n",
    "            {\"question\": RunnableLambda(lambda inputs: inputs[\"question\"]), \"agents_output\": RunnableLambda(lambda inputs: inputs[\"agents_output\"]), \"history\": RunnableLambda(lambda inputs: inputs[\"history\"])}\n",
    "            #| RunnableLambda(lambda inputs: (print(f\"Logging Inputs: {inputs}\") or inputs))\n",
    "            | self.prompt\n",
    "            | self.llm\n",
    "            | self.parser\n",
    "        )\n",
    "       \n",
    "    def pick_next_agent(self, state: State):\n",
    "        for agent in self.agents:\n",
    "            if agent not in state:\n",
    "                print(f\"Next agent: {agent}\")\n",
    "                return { \"next\": agent }\n",
    "        return { \"next\": \"FINISH\" }\n",
    "\n",
    "    def summarize(self, state: State):\n",
    "        print(\"Summarizing...\")\n",
    "        agents_output = {key: state[key] for key in self.agents if key in state}\n",
    "        answer = self.rag_chain.invoke({\"question\": state[\"question\"], \"agents_output\": agents_output, \"history\": []})\n",
    "        return { \"answer\": answer }\n"
   ]
  },
  {
   "cell_type": "code",
   "execution_count": 10,
   "metadata": {},
   "outputs": [],
   "source": [
    "supervisor = Supervisor(agents)"
   ]
  },
  {
   "cell_type": "code",
   "execution_count": 12,
   "metadata": {},
   "outputs": [
    {
     "name": "stdout",
     "output_type": "stream",
     "text": [
      "Next agent: agent_rag\n"
     ]
    },
    {
     "data": {
      "text/plain": [
       "{'next': 'agent_rag'}"
      ]
     },
     "execution_count": 12,
     "metadata": {},
     "output_type": "execute_result"
    }
   ],
   "source": [
    "supervisor.pick_next_agent({\"question\": \"hablame acerca de los objetivos del proyecto de Fabian\"})"
   ]
  },
  {
   "cell_type": "code",
   "execution_count": 11,
   "metadata": {},
   "outputs": [
    {
     "name": "stdout",
     "output_type": "stream",
     "text": [
      "Next agent: agent_sql\n"
     ]
    },
    {
     "data": {
      "text/plain": [
       "{'next': 'agent_sql'}"
      ]
     },
     "execution_count": 11,
     "metadata": {},
     "output_type": "execute_result"
    }
   ],
   "source": [
    "supervisor.pick_next_agent({\"question\": \"hablame acerca de los objetivos del proyecto de Fabian\", \"agent_rag\": \"El objetivo del proyecto de Fabián es desarrollar un chatbot\"})"
   ]
  },
  {
   "cell_type": "code",
   "execution_count": 13,
   "metadata": {},
   "outputs": [
    {
     "name": "stdout",
     "output_type": "stream",
     "text": [
      "Summarizing...\n"
     ]
    },
    {
     "data": {
      "text/plain": [
       "{'answer': 'El objetivo del proyecto de Fabián es desarrollar un chatbot.'}"
      ]
     },
     "execution_count": 13,
     "metadata": {},
     "output_type": "execute_result"
    }
   ],
   "source": [
    "supervisor.summarize({\"question\": \"hablame acerca de los objetivos del proyecto de Fabian\", \"agent_rag\": \"El objetivo del proyecto de Fabián es desarrollar un chatbot\"})"
   ]
  },
  {
   "cell_type": "markdown",
   "metadata": {},
   "source": [
    "## Graph"
   ]
  },
  {
   "cell_type": "code",
   "execution_count": 14,
   "metadata": {},
   "outputs": [],
   "source": [
    "builder = StateGraph(State)\n",
    "\n",
    "builder.add_node(\"supervisor_node\", supervisor.pick_next_agent)\n",
    "builder.add_node(\"summarizer_node\", supervisor.summarize)\n",
    "builder.add_node(\"rag_node\", agent_rag.generate_answer)\n",
    "builder.add_node(\"sql_node\", agent_sql.generate_answer)\n",
    "\n",
    "builder.add_conditional_edges(\n",
    "    \"supervisor_node\",\n",
    "    RunnableLambda(lambda inputs: inputs[\"next\"]),  \n",
    "    {\"agent_rag\": \"rag_node\", \"agent_sql\": \"sql_node\", \"FINISH\": \"summarizer_node\"}\n",
    ")\n",
    "builder.add_edge(\"rag_node\", \"supervisor_node\")\n",
    "builder.add_edge(\"sql_node\", \"supervisor_node\")\n",
    "\n",
    "builder.set_entry_point(\"supervisor_node\")\n",
    "\n",
    "graph = builder.compile()"
   ]
  },
  {
   "cell_type": "code",
   "execution_count": 15,
   "metadata": {},
   "outputs": [
    {
     "data": {
      "image/jpeg": "[encoded data removed]",
      "text/plain": [
       "<IPython.core.display.Image object>"
      ]
     },
     "metadata": {},
     "output_type": "display_data"
    }
   ],
   "source": [
    "from IPython.display import display, Image\n",
    "\n",
    "display(Image(graph.get_graph().draw_mermaid_png()))"
   ]
  },
  {
   "cell_type": "code",
   "execution_count": 16,
   "metadata": {},
   "outputs": [
    {
     "name": "stdout",
     "output_type": "stream",
     "text": [
      "Next agent: agent_rag\n",
      "RAG Agent says: received question 'quien es Fabian?'\n",
      "RAG Agent says: retrieving relevant information...\n",
      "RAG Agent says: [Document(metadata={'source': 'knowledge-base/charter.pdf', 'page': 3}, page_content='Plan de proyecto del Trabajo Final\\nCarrera de Especializaci´ on en Inteligencia Artificial\\nIng. Fabi´ an Alejandro Massotto\\nActa de constituci´ on del proyecto\\nBuenos Aires, 23 de abril de 2024\\nPor medio de la presente se acuerda con el Ing. Fabi´ an Alejandro Massotto que su Trabajo\\nFinal de la Carrera de Especializaci´ on en Inteligencia Artificial se titular´ a “Desarrollo de un\\nchatbot especializado para optimizar la b´ usqueda de informaci´ on en documentos propietarios” y'), Document(metadata={'source': 'knowledge-base/charter.pdf', 'page': 5}, page_content='Cliente: conoce los requerimientos del problema inicial.\\nResponsable: encargado de llevar a cabo el desarrollo del proyecto.\\nOrientador: referente en las cuestiones t´ ecnicas y organizativas del proyecto.\\nUsuario final: quien utilizar´ a el chatbot en su d´ ıa a d´ ıa.\\n3. Prop´ osito del proyecto\\nOptimizar el proceso de b´ usqueda de informaci´ on por parte de los empleados. Se busca\\nproporcionar una herramienta eficaz que permita acceder r´ apidamente a los datos relevantes,'), Document(metadata={'source': 'knowledge-base/charter.pdf', 'page': 17}, page_content='- Se har´ a entrega de la documentaci´ on correspondiente.\\nIdentificaci´ on de las t´ ecnicas y procedimientos ´ utiles e in´ utiles que se emplearon, los\\nproblemas que surgieron y c´ omo se solucionaron:\\n- Persona a cargo: Ing. Fabi´ an Alejandro Massotto.\\n- Se documentar´ a en la memoria t´ ecnica.\\nActo de agradecimiento a todos los interesados:\\n- Persona a cargo: Ing. Fabi´ an Alejandro Massotto.\\n- Se realizar´ a durante la presentaci´ on final organizada por las autoridades del posgrado.')]\n",
      "RAG Agent says: generating answer...\n",
      "RAG Agent says: Fabian Alejandro Massotto es un ingeniero que está desarrollando su Trabajo Final de la Carrera de Especialización en Inteligencia Artificial. Su proyecto se titula \"Desarrollo de un chatbot especializado para optimizar la búsqueda de información en documentos propietarios\".\n",
      "Next agent: agent_sql\n",
      "SQL Agent says: received question 'quien es Fabian?'\n",
      "SQL Agent says: checking connection to database...\n",
      "SQL Agent says: connection up and running.\n",
      "SQL Agent says: retrieving database schema...\n",
      "SQL Agent says: [('sys', 'database_firewall_rules', 'id', 'int'), ('sys', 'database_firewall_rules', 'name', 'nvarchar'), ('sys', 'database_firewall_rules', 'start_ip_address', 'varchar'), ('sys', 'database_firewall_rules', 'end_ip_address', 'varchar'), ('sys', 'database_firewall_rules', 'create_date', 'datetime'), ('sys', 'database_firewall_rules', 'modify_date', 'datetime'), ('SalesLT', 'Customer', 'CustomerID', 'int'), ('SalesLT', 'Customer', 'NameStyle', 'bit'), ('SalesLT', 'Customer', 'Title', 'nvarchar'), ('SalesLT', 'Customer', 'FirstName', 'nvarchar'), ('SalesLT', 'Customer', 'MiddleName', 'nvarchar'), ('SalesLT', 'Customer', 'LastName', 'nvarchar'), ('SalesLT', 'Customer', 'Suffix', 'nvarchar'), ('SalesLT', 'Customer', 'CompanyName', 'nvarchar'), ('SalesLT', 'Customer', 'SalesPerson', 'nvarchar'), ('SalesLT', 'Customer', 'EmailAddress', 'nvarchar'), ('SalesLT', 'Customer', 'Phone', 'nvarchar'), ('SalesLT', 'Customer', 'PasswordHash', 'varchar'), ('SalesLT', 'Customer', 'PasswordSalt', 'varchar'), ('SalesLT', 'Customer', 'rowguid', 'uniqueidentifier'), ('SalesLT', 'Customer', 'ModifiedDate', 'datetime'), ('SalesLT', 'ProductModel', 'ProductModelID', 'int'), ('SalesLT', 'ProductModel', 'Name', 'nvarchar'), ('SalesLT', 'ProductModel', 'CatalogDescription', 'xml'), ('SalesLT', 'ProductModel', 'rowguid', 'uniqueidentifier'), ('SalesLT', 'ProductModel', 'ModifiedDate', 'datetime'), ('SalesLT', 'vProductModelCatalogDescription', 'ProductModelID', 'int'), ('SalesLT', 'vProductModelCatalogDescription', 'Name', 'nvarchar'), ('SalesLT', 'vProductModelCatalogDescription', 'Summary', 'nvarchar'), ('SalesLT', 'vProductModelCatalogDescription', 'Manufacturer', 'nvarchar'), ('SalesLT', 'vProductModelCatalogDescription', 'Copyright', 'nvarchar'), ('SalesLT', 'vProductModelCatalogDescription', 'ProductURL', 'nvarchar'), ('SalesLT', 'vProductModelCatalogDescription', 'WarrantyPeriod', 'nvarchar'), ('SalesLT', 'vProductModelCatalogDescription', 'WarrantyDescription', 'nvarchar'), ('SalesLT', 'vProductModelCatalogDescription', 'NoOfYears', 'nvarchar'), ('SalesLT', 'vProductModelCatalogDescription', 'MaintenanceDescription', 'nvarchar'), ('SalesLT', 'vProductModelCatalogDescription', 'Wheel', 'nvarchar'), ('SalesLT', 'vProductModelCatalogDescription', 'Saddle', 'nvarchar'), ('SalesLT', 'vProductModelCatalogDescription', 'Pedal', 'nvarchar'), ('SalesLT', 'vProductModelCatalogDescription', 'BikeFrame', 'nvarchar'), ('SalesLT', 'vProductModelCatalogDescription', 'Crankset', 'nvarchar'), ('SalesLT', 'vProductModelCatalogDescription', 'PictureAngle', 'nvarchar'), ('SalesLT', 'vProductModelCatalogDescription', 'PictureSize', 'nvarchar'), ('SalesLT', 'vProductModelCatalogDescription', 'ProductPhotoID', 'nvarchar'), ('SalesLT', 'vProductModelCatalogDescription', 'Material', 'nvarchar'), ('SalesLT', 'vProductModelCatalogDescription', 'Color', 'nvarchar'), ('SalesLT', 'vProductModelCatalogDescription', 'ProductLine', 'nvarchar'), ('SalesLT', 'vProductModelCatalogDescription', 'Style', 'nvarchar'), ('SalesLT', 'vProductModelCatalogDescription', 'RiderExperience', 'nvarchar'), ('SalesLT', 'vProductModelCatalogDescription', 'rowguid', 'uniqueidentifier'), ('SalesLT', 'vProductModelCatalogDescription', 'ModifiedDate', 'datetime'), ('SalesLT', 'ProductDescription', 'ProductDescriptionID', 'int'), ('SalesLT', 'ProductDescription', 'Description', 'nvarchar'), ('SalesLT', 'ProductDescription', 'rowguid', 'uniqueidentifier'), ('SalesLT', 'ProductDescription', 'ModifiedDate', 'datetime'), ('SalesLT', 'Product', 'ProductID', 'int'), ('SalesLT', 'Product', 'Name', 'nvarchar'), ('SalesLT', 'Product', 'ProductNumber', 'nvarchar'), ('SalesLT', 'Product', 'Color', 'nvarchar'), ('SalesLT', 'Product', 'StandardCost', 'money'), ('SalesLT', 'Product', 'ListPrice', 'money'), ('SalesLT', 'Product', 'Size', 'nvarchar'), ('SalesLT', 'Product', 'Weight', 'decimal'), ('SalesLT', 'Product', 'ProductCategoryID', 'int'), ('SalesLT', 'Product', 'ProductModelID', 'int'), ('SalesLT', 'Product', 'SellStartDate', 'datetime'), ('SalesLT', 'Product', 'SellEndDate', 'datetime'), ('SalesLT', 'Product', 'DiscontinuedDate', 'datetime'), ('SalesLT', 'Product', 'ThumbNailPhoto', 'varbinary'), ('SalesLT', 'Product', 'ThumbnailPhotoFileName', 'nvarchar'), ('SalesLT', 'Product', 'rowguid', 'uniqueidentifier'), ('SalesLT', 'Product', 'ModifiedDate', 'datetime'), ('SalesLT', 'ProductModelProductDescription', 'ProductModelID', 'int'), ('SalesLT', 'ProductModelProductDescription', 'ProductDescriptionID', 'int'), ('SalesLT', 'ProductModelProductDescription', 'Culture', 'nchar'), ('SalesLT', 'ProductModelProductDescription', 'rowguid', 'uniqueidentifier'), ('SalesLT', 'ProductModelProductDescription', 'ModifiedDate', 'datetime'), ('SalesLT', 'vProductAndDescription', 'ProductID', 'int'), ('SalesLT', 'vProductAndDescription', 'Name', 'nvarchar'), ('SalesLT', 'vProductAndDescription', 'ProductModel', 'nvarchar'), ('SalesLT', 'vProductAndDescription', 'Culture', 'nchar'), ('SalesLT', 'vProductAndDescription', 'Description', 'nvarchar'), ('SalesLT', 'ProductCategory', 'ProductCategoryID', 'int'), ('SalesLT', 'ProductCategory', 'ParentProductCategoryID', 'int'), ('SalesLT', 'ProductCategory', 'Name', 'nvarchar'), ('SalesLT', 'ProductCategory', 'rowguid', 'uniqueidentifier'), ('SalesLT', 'ProductCategory', 'ModifiedDate', 'datetime'), ('SalesLT', 'vGetAllCategories', 'ParentProductCategoryName', 'nvarchar'), ('SalesLT', 'vGetAllCategories', 'ProductCategoryName', 'nvarchar'), ('SalesLT', 'vGetAllCategories', 'ProductCategoryID', 'int'), ('dbo', 'BuildVersion', 'SystemInformationID', 'tinyint'), ('dbo', 'BuildVersion', 'Database Version', 'nvarchar'), ('dbo', 'BuildVersion', 'VersionDate', 'datetime'), ('dbo', 'BuildVersion', 'ModifiedDate', 'datetime'), ('dbo', 'ErrorLog', 'ErrorLogID', 'int'), ('dbo', 'ErrorLog', 'ErrorTime', 'datetime'), ('dbo', 'ErrorLog', 'UserName', 'nvarchar'), ('dbo', 'ErrorLog', 'ErrorNumber', 'int'), ('dbo', 'ErrorLog', 'ErrorSeverity', 'int'), ('dbo', 'ErrorLog', 'ErrorState', 'int'), ('dbo', 'ErrorLog', 'ErrorProcedure', 'nvarchar'), ('dbo', 'ErrorLog', 'ErrorLine', 'int'), ('dbo', 'ErrorLog', 'ErrorMessage', 'nvarchar'), ('SalesLT', 'Address', 'AddressID', 'int'), ('SalesLT', 'Address', 'AddressLine1', 'nvarchar'), ('SalesLT', 'Address', 'AddressLine2', 'nvarchar'), ('SalesLT', 'Address', 'City', 'nvarchar'), ('SalesLT', 'Address', 'StateProvince', 'nvarchar'), ('SalesLT', 'Address', 'CountryRegion', 'nvarchar'), ('SalesLT', 'Address', 'PostalCode', 'nvarchar'), ('SalesLT', 'Address', 'rowguid', 'uniqueidentifier'), ('SalesLT', 'Address', 'ModifiedDate', 'datetime'), ('SalesLT', 'CustomerAddress', 'CustomerID', 'int'), ('SalesLT', 'CustomerAddress', 'AddressID', 'int'), ('SalesLT', 'CustomerAddress', 'AddressType', 'nvarchar'), ('SalesLT', 'CustomerAddress', 'rowguid', 'uniqueidentifier'), ('SalesLT', 'CustomerAddress', 'ModifiedDate', 'datetime'), ('SalesLT', 'SalesOrderDetail', 'SalesOrderID', 'int'), ('SalesLT', 'SalesOrderDetail', 'SalesOrderDetailID', 'int'), ('SalesLT', 'SalesOrderDetail', 'OrderQty', 'smallint'), ('SalesLT', 'SalesOrderDetail', 'ProductID', 'int'), ('SalesLT', 'SalesOrderDetail', 'UnitPrice', 'money'), ('SalesLT', 'SalesOrderDetail', 'UnitPriceDiscount', 'money'), ('SalesLT', 'SalesOrderDetail', 'LineTotal', 'numeric'), ('SalesLT', 'SalesOrderDetail', 'rowguid', 'uniqueidentifier'), ('SalesLT', 'SalesOrderDetail', 'ModifiedDate', 'datetime'), ('SalesLT', 'SalesOrderHeader', 'SalesOrderID', 'int'), ('SalesLT', 'SalesOrderHeader', 'RevisionNumber', 'tinyint'), ('SalesLT', 'SalesOrderHeader', 'OrderDate', 'datetime'), ('SalesLT', 'SalesOrderHeader', 'DueDate', 'datetime'), ('SalesLT', 'SalesOrderHeader', 'ShipDate', 'datetime'), ('SalesLT', 'SalesOrderHeader', 'Status', 'tinyint'), ('SalesLT', 'SalesOrderHeader', 'OnlineOrderFlag', 'bit'), ('SalesLT', 'SalesOrderHeader', 'SalesOrderNumber', 'nvarchar'), ('SalesLT', 'SalesOrderHeader', 'PurchaseOrderNumber', 'nvarchar'), ('SalesLT', 'SalesOrderHeader', 'AccountNumber', 'nvarchar'), ('SalesLT', 'SalesOrderHeader', 'CustomerID', 'int'), ('SalesLT', 'SalesOrderHeader', 'ShipToAddressID', 'int'), ('SalesLT', 'SalesOrderHeader', 'BillToAddressID', 'int'), ('SalesLT', 'SalesOrderHeader', 'ShipMethod', 'nvarchar'), ('SalesLT', 'SalesOrderHeader', 'CreditCardApprovalCode', 'varchar'), ('SalesLT', 'SalesOrderHeader', 'SubTotal', 'money'), ('SalesLT', 'SalesOrderHeader', 'TaxAmt', 'money'), ('SalesLT', 'SalesOrderHeader', 'Freight', 'money'), ('SalesLT', 'SalesOrderHeader', 'TotalDue', 'money'), ('SalesLT', 'SalesOrderHeader', 'Comment', 'nvarchar'), ('SalesLT', 'SalesOrderHeader', 'rowguid', 'uniqueidentifier'), ('SalesLT', 'SalesOrderHeader', 'ModifiedDate', 'datetime')]\n",
      "SQL Agent says: generating query...\n",
      "SQL Agent says: SELECT * FROM sys.database_firewall_rules WHERE name = 'Fabian';\n",
      "SQL Agent says: reviewing query...\n",
      "SQL Agent says: SELECT * FROM sys.database_firewall_rules WHERE name = 'Fabian';\n",
      "SQL Agent says: executing query...\n",
      "SQL Agent says: \n",
      "SQL Agent says: generating answer...\n",
      "SQL Agent says: Lo siento, pero no tengo suficiente información para responder a esa pregunta. La consulta SQL que proporcionaste busca reglas de firewall en una base de datos con el nombre \"Fabian\", pero no hay resultados que indiquen quién es esa persona o entidad. Si tienes más contexto o información específica, podría ser de ayuda.\n",
      "Summarizing...\n"
     ]
    },
    {
     "data": {
      "text/plain": [
       "{'question': 'quien es Fabian?',\n",
       " 'agent_rag': 'Fabian Alejandro Massotto es un ingeniero que está desarrollando su Trabajo Final de la Carrera de Especialización en Inteligencia Artificial. Su proyecto se titula \"Desarrollo de un chatbot especializado para optimizar la búsqueda de información en documentos propietarios\".',\n",
       " 'agent_sql': 'Lo siento, pero no tengo suficiente información para responder a esa pregunta. La consulta SQL que proporcionaste busca reglas de firewall en una base de datos con el nombre \"Fabian\", pero no hay resultados que indiquen quién es esa persona o entidad. Si tienes más contexto o información específica, podría ser de ayuda.',\n",
       " 'answer': 'Fabian Alejandro Massotto es un ingeniero que está desarrollando su Trabajo Final de la Carrera de Especialización en Inteligencia Artificial. Su proyecto se titula \"Desarrollo de un chatbot especializado para optimizar la búsqueda de información en documentos propietarios\".'}"
      ]
     },
     "execution_count": 16,
     "metadata": {},
     "output_type": "execute_result"
    }
   ],
   "source": [
    "graph.invoke({\"question\": \"quien es Fabian?\"})"
   ]
  },
  {
   "cell_type": "code",
   "execution_count": 17,
   "metadata": {},
   "outputs": [
    {
     "name": "stdout",
     "output_type": "stream",
     "text": [
      "Next agent: agent_rag\n",
      "RAG Agent says: received question 'cuales son los 10 productos mas vendidos?'\n",
      "RAG Agent says: retrieving relevant information...\n",
      "RAG Agent says: [Document(metadata={'source': 'knowledge-base/charter.pdf', 'page': 13}, page_content='Descripci´ on Cantidad Valor unitario Valor total\\nCalculados como el 40 % de los costos directos 1 $4.856.000 $4.856.000\\nSUBTOTAL $4.856.000\\nTOTAL $16.996.000\\n13. Gesti´ on de riesgos\\na) Identificaci´ on de los riesgos y estimaci´ on de sus consecuencias. Se utiliza una escala de 1 a\\n10 para estimar la severidad y la probabilidad de ocurrencia.\\nRiesgo 1: el chatbot no logra entender adecuadamente las consultas de los usuarios.\\nSeveridad (S): 9.'), Document(metadata={'source': 'knowledge-base/charter.pdf', 'page': 1}, page_content='6. Requerimientos . . . . . . . . . . . . . . . . . . . . . . . . . . . . . . . . . . . . . 7\\n7. Historias de usuarios ( Product backlog ). . . . . . . . . . . . . . . . . . . . . . . 8\\n8. Entregables principales del proyecto . . . . . . . . . . . . . . . . . . . . . . . . 9\\n9. Desglose del trabajo en tareas . . . . . . . . . . . . . . . . . . . . . . . . . . . . 9\\n10. Diagrama de Activity On Node . . . . . . . . . . . . . . . . . . . . . . . . . . . 10'), Document(metadata={'source': 'knowledge-base/charter.pdf', 'page': 7}, page_content='7. Historias de usuarios ( Product backlog )\\nCriterio para la asignaci´ on de story points :\\nSe utilizar´ a la serie de Fibonacci: 1, 2, 3, 5, 8, 13, 21, ...\\nSe tendr´ an en cuenta tres factores:\\n\\x88Dificultad: la cantidad de trabajo a realizar.\\n\\x88Complejidad: el nivel de sofisticaci´ on del trabajo.\\n\\x88Incertidumbre: el nivel de riesgo que involucra realizar la tarea.\\nPara todos los factores se definen los siguientes pesos:\\n\\x88Muy bajo: 1\\n\\x88Bajo: 2\\n\\x88Medio: 3\\n\\x88Alto: 5\\n\\x88Muy alto: 8')]\n",
      "RAG Agent says: generating answer...\n",
      "RAG Agent says: Esta pregunta cae fuera de mi base de conocimientos.\n",
      "Next agent: agent_sql\n",
      "SQL Agent says: received question 'cuales son los 10 productos mas vendidos?'\n",
      "SQL Agent says: checking connection to database...\n",
      "SQL Agent says: connection up and running.\n",
      "SQL Agent says: retrieving database schema...\n",
      "SQL Agent says: [('sys', 'database_firewall_rules', 'id', 'int'), ('sys', 'database_firewall_rules', 'name', 'nvarchar'), ('sys', 'database_firewall_rules', 'start_ip_address', 'varchar'), ('sys', 'database_firewall_rules', 'end_ip_address', 'varchar'), ('sys', 'database_firewall_rules', 'create_date', 'datetime'), ('sys', 'database_firewall_rules', 'modify_date', 'datetime'), ('SalesLT', 'Customer', 'CustomerID', 'int'), ('SalesLT', 'Customer', 'NameStyle', 'bit'), ('SalesLT', 'Customer', 'Title', 'nvarchar'), ('SalesLT', 'Customer', 'FirstName', 'nvarchar'), ('SalesLT', 'Customer', 'MiddleName', 'nvarchar'), ('SalesLT', 'Customer', 'LastName', 'nvarchar'), ('SalesLT', 'Customer', 'Suffix', 'nvarchar'), ('SalesLT', 'Customer', 'CompanyName', 'nvarchar'), ('SalesLT', 'Customer', 'SalesPerson', 'nvarchar'), ('SalesLT', 'Customer', 'EmailAddress', 'nvarchar'), ('SalesLT', 'Customer', 'Phone', 'nvarchar'), ('SalesLT', 'Customer', 'PasswordHash', 'varchar'), ('SalesLT', 'Customer', 'PasswordSalt', 'varchar'), ('SalesLT', 'Customer', 'rowguid', 'uniqueidentifier'), ('SalesLT', 'Customer', 'ModifiedDate', 'datetime'), ('SalesLT', 'ProductModel', 'ProductModelID', 'int'), ('SalesLT', 'ProductModel', 'Name', 'nvarchar'), ('SalesLT', 'ProductModel', 'CatalogDescription', 'xml'), ('SalesLT', 'ProductModel', 'rowguid', 'uniqueidentifier'), ('SalesLT', 'ProductModel', 'ModifiedDate', 'datetime'), ('SalesLT', 'vProductModelCatalogDescription', 'ProductModelID', 'int'), ('SalesLT', 'vProductModelCatalogDescription', 'Name', 'nvarchar'), ('SalesLT', 'vProductModelCatalogDescription', 'Summary', 'nvarchar'), ('SalesLT', 'vProductModelCatalogDescription', 'Manufacturer', 'nvarchar'), ('SalesLT', 'vProductModelCatalogDescription', 'Copyright', 'nvarchar'), ('SalesLT', 'vProductModelCatalogDescription', 'ProductURL', 'nvarchar'), ('SalesLT', 'vProductModelCatalogDescription', 'WarrantyPeriod', 'nvarchar'), ('SalesLT', 'vProductModelCatalogDescription', 'WarrantyDescription', 'nvarchar'), ('SalesLT', 'vProductModelCatalogDescription', 'NoOfYears', 'nvarchar'), ('SalesLT', 'vProductModelCatalogDescription', 'MaintenanceDescription', 'nvarchar'), ('SalesLT', 'vProductModelCatalogDescription', 'Wheel', 'nvarchar'), ('SalesLT', 'vProductModelCatalogDescription', 'Saddle', 'nvarchar'), ('SalesLT', 'vProductModelCatalogDescription', 'Pedal', 'nvarchar'), ('SalesLT', 'vProductModelCatalogDescription', 'BikeFrame', 'nvarchar'), ('SalesLT', 'vProductModelCatalogDescription', 'Crankset', 'nvarchar'), ('SalesLT', 'vProductModelCatalogDescription', 'PictureAngle', 'nvarchar'), ('SalesLT', 'vProductModelCatalogDescription', 'PictureSize', 'nvarchar'), ('SalesLT', 'vProductModelCatalogDescription', 'ProductPhotoID', 'nvarchar'), ('SalesLT', 'vProductModelCatalogDescription', 'Material', 'nvarchar'), ('SalesLT', 'vProductModelCatalogDescription', 'Color', 'nvarchar'), ('SalesLT', 'vProductModelCatalogDescription', 'ProductLine', 'nvarchar'), ('SalesLT', 'vProductModelCatalogDescription', 'Style', 'nvarchar'), ('SalesLT', 'vProductModelCatalogDescription', 'RiderExperience', 'nvarchar'), ('SalesLT', 'vProductModelCatalogDescription', 'rowguid', 'uniqueidentifier'), ('SalesLT', 'vProductModelCatalogDescription', 'ModifiedDate', 'datetime'), ('SalesLT', 'ProductDescription', 'ProductDescriptionID', 'int'), ('SalesLT', 'ProductDescription', 'Description', 'nvarchar'), ('SalesLT', 'ProductDescription', 'rowguid', 'uniqueidentifier'), ('SalesLT', 'ProductDescription', 'ModifiedDate', 'datetime'), ('SalesLT', 'Product', 'ProductID', 'int'), ('SalesLT', 'Product', 'Name', 'nvarchar'), ('SalesLT', 'Product', 'ProductNumber', 'nvarchar'), ('SalesLT', 'Product', 'Color', 'nvarchar'), ('SalesLT', 'Product', 'StandardCost', 'money'), ('SalesLT', 'Product', 'ListPrice', 'money'), ('SalesLT', 'Product', 'Size', 'nvarchar'), ('SalesLT', 'Product', 'Weight', 'decimal'), ('SalesLT', 'Product', 'ProductCategoryID', 'int'), ('SalesLT', 'Product', 'ProductModelID', 'int'), ('SalesLT', 'Product', 'SellStartDate', 'datetime'), ('SalesLT', 'Product', 'SellEndDate', 'datetime'), ('SalesLT', 'Product', 'DiscontinuedDate', 'datetime'), ('SalesLT', 'Product', 'ThumbNailPhoto', 'varbinary'), ('SalesLT', 'Product', 'ThumbnailPhotoFileName', 'nvarchar'), ('SalesLT', 'Product', 'rowguid', 'uniqueidentifier'), ('SalesLT', 'Product', 'ModifiedDate', 'datetime'), ('SalesLT', 'ProductModelProductDescription', 'ProductModelID', 'int'), ('SalesLT', 'ProductModelProductDescription', 'ProductDescriptionID', 'int'), ('SalesLT', 'ProductModelProductDescription', 'Culture', 'nchar'), ('SalesLT', 'ProductModelProductDescription', 'rowguid', 'uniqueidentifier'), ('SalesLT', 'ProductModelProductDescription', 'ModifiedDate', 'datetime'), ('SalesLT', 'vProductAndDescription', 'ProductID', 'int'), ('SalesLT', 'vProductAndDescription', 'Name', 'nvarchar'), ('SalesLT', 'vProductAndDescription', 'ProductModel', 'nvarchar'), ('SalesLT', 'vProductAndDescription', 'Culture', 'nchar'), ('SalesLT', 'vProductAndDescription', 'Description', 'nvarchar'), ('SalesLT', 'ProductCategory', 'ProductCategoryID', 'int'), ('SalesLT', 'ProductCategory', 'ParentProductCategoryID', 'int'), ('SalesLT', 'ProductCategory', 'Name', 'nvarchar'), ('SalesLT', 'ProductCategory', 'rowguid', 'uniqueidentifier'), ('SalesLT', 'ProductCategory', 'ModifiedDate', 'datetime'), ('SalesLT', 'vGetAllCategories', 'ParentProductCategoryName', 'nvarchar'), ('SalesLT', 'vGetAllCategories', 'ProductCategoryName', 'nvarchar'), ('SalesLT', 'vGetAllCategories', 'ProductCategoryID', 'int'), ('dbo', 'BuildVersion', 'SystemInformationID', 'tinyint'), ('dbo', 'BuildVersion', 'Database Version', 'nvarchar'), ('dbo', 'BuildVersion', 'VersionDate', 'datetime'), ('dbo', 'BuildVersion', 'ModifiedDate', 'datetime'), ('dbo', 'ErrorLog', 'ErrorLogID', 'int'), ('dbo', 'ErrorLog', 'ErrorTime', 'datetime'), ('dbo', 'ErrorLog', 'UserName', 'nvarchar'), ('dbo', 'ErrorLog', 'ErrorNumber', 'int'), ('dbo', 'ErrorLog', 'ErrorSeverity', 'int'), ('dbo', 'ErrorLog', 'ErrorState', 'int'), ('dbo', 'ErrorLog', 'ErrorProcedure', 'nvarchar'), ('dbo', 'ErrorLog', 'ErrorLine', 'int'), ('dbo', 'ErrorLog', 'ErrorMessage', 'nvarchar'), ('SalesLT', 'Address', 'AddressID', 'int'), ('SalesLT', 'Address', 'AddressLine1', 'nvarchar'), ('SalesLT', 'Address', 'AddressLine2', 'nvarchar'), ('SalesLT', 'Address', 'City', 'nvarchar'), ('SalesLT', 'Address', 'StateProvince', 'nvarchar'), ('SalesLT', 'Address', 'CountryRegion', 'nvarchar'), ('SalesLT', 'Address', 'PostalCode', 'nvarchar'), ('SalesLT', 'Address', 'rowguid', 'uniqueidentifier'), ('SalesLT', 'Address', 'ModifiedDate', 'datetime'), ('SalesLT', 'CustomerAddress', 'CustomerID', 'int'), ('SalesLT', 'CustomerAddress', 'AddressID', 'int'), ('SalesLT', 'CustomerAddress', 'AddressType', 'nvarchar'), ('SalesLT', 'CustomerAddress', 'rowguid', 'uniqueidentifier'), ('SalesLT', 'CustomerAddress', 'ModifiedDate', 'datetime'), ('SalesLT', 'SalesOrderDetail', 'SalesOrderID', 'int'), ('SalesLT', 'SalesOrderDetail', 'SalesOrderDetailID', 'int'), ('SalesLT', 'SalesOrderDetail', 'OrderQty', 'smallint'), ('SalesLT', 'SalesOrderDetail', 'ProductID', 'int'), ('SalesLT', 'SalesOrderDetail', 'UnitPrice', 'money'), ('SalesLT', 'SalesOrderDetail', 'UnitPriceDiscount', 'money'), ('SalesLT', 'SalesOrderDetail', 'LineTotal', 'numeric'), ('SalesLT', 'SalesOrderDetail', 'rowguid', 'uniqueidentifier'), ('SalesLT', 'SalesOrderDetail', 'ModifiedDate', 'datetime'), ('SalesLT', 'SalesOrderHeader', 'SalesOrderID', 'int'), ('SalesLT', 'SalesOrderHeader', 'RevisionNumber', 'tinyint'), ('SalesLT', 'SalesOrderHeader', 'OrderDate', 'datetime'), ('SalesLT', 'SalesOrderHeader', 'DueDate', 'datetime'), ('SalesLT', 'SalesOrderHeader', 'ShipDate', 'datetime'), ('SalesLT', 'SalesOrderHeader', 'Status', 'tinyint'), ('SalesLT', 'SalesOrderHeader', 'OnlineOrderFlag', 'bit'), ('SalesLT', 'SalesOrderHeader', 'SalesOrderNumber', 'nvarchar'), ('SalesLT', 'SalesOrderHeader', 'PurchaseOrderNumber', 'nvarchar'), ('SalesLT', 'SalesOrderHeader', 'AccountNumber', 'nvarchar'), ('SalesLT', 'SalesOrderHeader', 'CustomerID', 'int'), ('SalesLT', 'SalesOrderHeader', 'ShipToAddressID', 'int'), ('SalesLT', 'SalesOrderHeader', 'BillToAddressID', 'int'), ('SalesLT', 'SalesOrderHeader', 'ShipMethod', 'nvarchar'), ('SalesLT', 'SalesOrderHeader', 'CreditCardApprovalCode', 'varchar'), ('SalesLT', 'SalesOrderHeader', 'SubTotal', 'money'), ('SalesLT', 'SalesOrderHeader', 'TaxAmt', 'money'), ('SalesLT', 'SalesOrderHeader', 'Freight', 'money'), ('SalesLT', 'SalesOrderHeader', 'TotalDue', 'money'), ('SalesLT', 'SalesOrderHeader', 'Comment', 'nvarchar'), ('SalesLT', 'SalesOrderHeader', 'rowguid', 'uniqueidentifier'), ('SalesLT', 'SalesOrderHeader', 'ModifiedDate', 'datetime')]\n",
      "SQL Agent says: generating query...\n",
      "SQL Agent says: ```sql\n",
      "SELECT \n",
      "    Product.Name, \n",
      "    SUM(SalesOrderDetail.OrderQty) AS TotalSold\n",
      "FROM \n",
      "    SalesLT.Product\n",
      "INNER JOIN \n",
      "    SalesLT.SalesOrderDetail ON Product.ProductID = SalesOrderDetail.ProductID\n",
      "GROUP BY \n",
      "    Product.Name\n",
      "ORDER BY \n",
      "    TotalSold DESC\n",
      "LIMIT 10;\n",
      "```\n",
      "SQL Agent says: reviewing query...\n",
      "SQL Agent says: ```sql\n",
      "SELECT \n",
      "    Product.Name, \n",
      "    SUM(SalesOrderDetail.OrderQty) AS TotalSold\n",
      "FROM \n",
      "    SalesLT.Product\n",
      "INNER JOIN \n",
      "    SalesLT.SalesOrderDetail ON Product.ProductID = SalesOrderDetail.ProductID\n",
      "GROUP BY \n",
      "    Product.Name\n",
      "ORDER BY \n",
      "    TotalSold DESC\n",
      "OFFSET 0 ROWS FETCH NEXT 10 ROWS ONLY;\n",
      "```\n",
      "SQL Agent says: executing query...\n",
      "SQL Agent says: [('Classic Vest, S', 87), ('Short-Sleeve Classic Jersey, XL', 57), ('Bike Wash - Dissolver', 55), ('Water Bottle - 30 oz.', 54), ('AWC Logo Cap', 52), ('Long-Sleeve Logo Jersey, L', 51), ('Racing Socks, L', 51), ('Short-Sleeve Classic Jersey, L', 51), ('Sport-100 Helmet, Black', 51), ('Hydration Pack - 70 oz.', 50)]\n",
      "SQL Agent says: generating answer...\n",
      "SQL Agent says: Los 10 productos más vendidos son:\n",
      "\n",
      "1. Classic Vest, S (87 unidades)\n",
      "2. Short-Sleeve Classic Jersey, XL (57 unidades)\n",
      "3. Bike Wash - Dissolver (55 unidades)\n",
      "4. Water Bottle - 30 oz. (54 unidades)\n",
      "5. AWC Logo Cap (52 unidades)\n",
      "6. Long-Sleeve Logo Jersey, L (51 unidades)\n",
      "7. Racing Socks, L (51 unidades)\n",
      "8. Short-Sleeve Classic Jersey, L (51 unidades)\n",
      "9. Sport-100 Helmet, Black (51 unidades)\n",
      "10. Hydration Pack - 70 oz. (50 unidades)\n",
      "Summarizing...\n"
     ]
    },
    {
     "data": {
      "text/plain": [
       "{'question': 'cuales son los 10 productos mas vendidos?',\n",
       " 'agent_rag': 'Esta pregunta cae fuera de mi base de conocimientos.',\n",
       " 'agent_sql': 'Los 10 productos más vendidos son:\\n\\n1. Classic Vest, S (87 unidades)\\n2. Short-Sleeve Classic Jersey, XL (57 unidades)\\n3. Bike Wash - Dissolver (55 unidades)\\n4. Water Bottle - 30 oz. (54 unidades)\\n5. AWC Logo Cap (52 unidades)\\n6. Long-Sleeve Logo Jersey, L (51 unidades)\\n7. Racing Socks, L (51 unidades)\\n8. Short-Sleeve Classic Jersey, L (51 unidades)\\n9. Sport-100 Helmet, Black (51 unidades)\\n10. Hydration Pack - 70 oz. (50 unidades)',\n",
       " 'answer': 'Los 10 productos más vendidos son:\\n\\n1. Classic Vest, S (87 unidades)\\n2. Short-Sleeve Classic Jersey, XL (57 unidades)\\n3. Bike Wash - Dissolver (55 unidades)\\n4. Water Bottle - 30 oz. (54 unidades)\\n5. AWC Logo Cap (52 unidades)\\n6. Long-Sleeve Logo Jersey, L (51 unidades)\\n7. Racing Socks, L (51 unidades)\\n8. Short-Sleeve Classic Jersey, L (51 unidades)\\n9. Sport-100 Helmet, Black (51 unidades)\\n10. Hydration Pack - 70 oz. (50 unidades)'}"
      ]
     },
     "execution_count": 17,
     "metadata": {},
     "output_type": "execute_result"
    }
   ],
   "source": [
    "graph.invoke({\"question\": \"cuales son los 10 productos mas vendidos?\"})"
   ]
  }
 ],
 "metadata": {
  "kernelspec": {
   "display_name": "venv",
   "language": "python",
   "name": "python3"
  },
  "language_info": {
   "codemirror_mode": {
    "name": "ipython",
    "version": 3
   },
   "file_extension": ".py",
   "mimetype": "text/x-python",
   "name": "python",
   "nbconvert_exporter": "python",
   "pygments_lexer": "ipython3",
   "version": "3.12.7"
  }
 },
 "nbformat": 4,
 "nbformat_minor": 2
}
